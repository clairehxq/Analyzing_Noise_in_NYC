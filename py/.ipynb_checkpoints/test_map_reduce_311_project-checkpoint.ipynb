{
 "cells": [
  {
   "cell_type": "code",
   "execution_count": 1,
   "metadata": {
    "collapsed": false
   },
   "outputs": [
    {
     "name": "stdout",
     "output_type": "stream",
     "text": [
      "Populating the interactive namespace from numpy and matplotlib\n"
     ]
    }
   ],
   "source": [
    "import pandas as pd\n",
    "import csv\n",
    "import mapreduce as mr\n",
    "import matplotlib.pyplot as plt\n",
    "%pylab inline\n",
    "import dateutil"
   ]
  },
  {
   "cell_type": "code",
   "execution_count": 2,
   "metadata": {
    "collapsed": false
   },
   "outputs": [
    {
     "name": "stderr",
     "output_type": "stream",
     "text": [
      "//anaconda/lib/python2.7/site-packages/IPython/core/interactiveshell.py:2723: DtypeWarning: Columns (8,17,40,43,44,45,47) have mixed types. Specify dtype option on import or set low_memory=False.\n",
      "  interactivity=interactivity, compiler=compiler, result=result)\n"
     ]
    }
   ],
   "source": [
    "#subset of complaint data for testing script\n",
    "complaints = pd.read_csv('/Users/kristikorsberg/Downloads/311_Service_Requests_from_2010_to_Present.csv')"
   ]
  },
  {
   "cell_type": "code",
   "execution_count": 3,
   "metadata": {
    "collapsed": false
   },
   "outputs": [
    {
     "data": {
      "text/html": [
       "<div>\n",
       "<table border=\"1\" class=\"dataframe\">\n",
       "  <thead>\n",
       "    <tr style=\"text-align: right;\">\n",
       "      <th></th>\n",
       "      <th>Unique Key</th>\n",
       "      <th>Created Date</th>\n",
       "      <th>Closed Date</th>\n",
       "      <th>Agency</th>\n",
       "      <th>Agency Name</th>\n",
       "      <th>Complaint Type</th>\n",
       "      <th>Descriptor</th>\n",
       "      <th>Location Type</th>\n",
       "      <th>Incident Zip</th>\n",
       "      <th>Incident Address</th>\n",
       "      <th>...</th>\n",
       "      <th>Bridge Highway Name</th>\n",
       "      <th>Bridge Highway Direction</th>\n",
       "      <th>Road Ramp</th>\n",
       "      <th>Bridge Highway Segment</th>\n",
       "      <th>Garage Lot Name</th>\n",
       "      <th>Ferry Direction</th>\n",
       "      <th>Ferry Terminal Name</th>\n",
       "      <th>Latitude</th>\n",
       "      <th>Longitude</th>\n",
       "      <th>Location</th>\n",
       "    </tr>\n",
       "  </thead>\n",
       "  <tbody>\n",
       "    <tr>\n",
       "      <th>0</th>\n",
       "      <td>35607069</td>\n",
       "      <td>03/02/2017 03:33:17 PM</td>\n",
       "      <td>03/12/2017 11:21:04 AM</td>\n",
       "      <td>HPD</td>\n",
       "      <td>Department of Housing Preservation and Develop...</td>\n",
       "      <td>FLOORING/STAIRS</td>\n",
       "      <td>FLOOR</td>\n",
       "      <td>RESIDENTIAL BUILDING</td>\n",
       "      <td>11220</td>\n",
       "      <td>6123 4 AVENUE</td>\n",
       "      <td>...</td>\n",
       "      <td>NaN</td>\n",
       "      <td>NaN</td>\n",
       "      <td>NaN</td>\n",
       "      <td>NaN</td>\n",
       "      <td>NaN</td>\n",
       "      <td>NaN</td>\n",
       "      <td>NaN</td>\n",
       "      <td>40.640087</td>\n",
       "      <td>-74.019194</td>\n",
       "      <td>(40.6400872732656, -74.01919432059279)</td>\n",
       "    </tr>\n",
       "    <tr>\n",
       "      <th>1</th>\n",
       "      <td>35597174</td>\n",
       "      <td>03/01/2017 05:10:34 PM</td>\n",
       "      <td>03/12/2017 09:40:02 AM</td>\n",
       "      <td>HPD</td>\n",
       "      <td>Department of Housing Preservation and Develop...</td>\n",
       "      <td>DOOR/WINDOW</td>\n",
       "      <td>DOOR</td>\n",
       "      <td>RESIDENTIAL BUILDING</td>\n",
       "      <td>10467</td>\n",
       "      <td>3301 PERRY AVENUE</td>\n",
       "      <td>...</td>\n",
       "      <td>NaN</td>\n",
       "      <td>NaN</td>\n",
       "      <td>NaN</td>\n",
       "      <td>NaN</td>\n",
       "      <td>NaN</td>\n",
       "      <td>NaN</td>\n",
       "      <td>NaN</td>\n",
       "      <td>40.877016</td>\n",
       "      <td>-73.875373</td>\n",
       "      <td>(40.877016358193174, -73.87537267430177)</td>\n",
       "    </tr>\n",
       "  </tbody>\n",
       "</table>\n",
       "<p>2 rows × 53 columns</p>\n",
       "</div>"
      ],
      "text/plain": [
       "   Unique Key            Created Date             Closed Date Agency  \\\n",
       "0    35607069  03/02/2017 03:33:17 PM  03/12/2017 11:21:04 AM    HPD   \n",
       "1    35597174  03/01/2017 05:10:34 PM  03/12/2017 09:40:02 AM    HPD   \n",
       "\n",
       "                                         Agency Name   Complaint Type  \\\n",
       "0  Department of Housing Preservation and Develop...  FLOORING/STAIRS   \n",
       "1  Department of Housing Preservation and Develop...      DOOR/WINDOW   \n",
       "\n",
       "  Descriptor         Location Type Incident Zip   Incident Address  \\\n",
       "0      FLOOR  RESIDENTIAL BUILDING        11220      6123 4 AVENUE   \n",
       "1       DOOR  RESIDENTIAL BUILDING        10467  3301 PERRY AVENUE   \n",
       "\n",
       "                     ...                    Bridge Highway Name  \\\n",
       "0                    ...                                    NaN   \n",
       "1                    ...                                    NaN   \n",
       "\n",
       "  Bridge Highway Direction Road Ramp Bridge Highway Segment Garage Lot Name  \\\n",
       "0                      NaN       NaN                    NaN             NaN   \n",
       "1                      NaN       NaN                    NaN             NaN   \n",
       "\n",
       "  Ferry Direction Ferry Terminal Name   Latitude  Longitude  \\\n",
       "0             NaN                 NaN  40.640087 -74.019194   \n",
       "1             NaN                 NaN  40.877016 -73.875373   \n",
       "\n",
       "                                   Location  \n",
       "0    (40.6400872732656, -74.01919432059279)  \n",
       "1  (40.877016358193174, -73.87537267430177)  \n",
       "\n",
       "[2 rows x 53 columns]"
      ]
     },
     "execution_count": 3,
     "metadata": {},
     "output_type": "execute_result"
    }
   ],
   "source": [
    "complaints.head(2)"
   ]
  },
  {
   "cell_type": "code",
   "execution_count": 4,
   "metadata": {
    "collapsed": false
   },
   "outputs": [
    {
     "data": {
      "text/plain": [
       "Unique Key                             0\n",
       "Created Date                           0\n",
       "Closed Date                        42056\n",
       "Agency                                 0\n",
       "Agency Name                            0\n",
       "Complaint Type                         0\n",
       "Descriptor                          4474\n",
       "Location Type                      71439\n",
       "Incident Zip                       19419\n",
       "Incident Address                   58090\n",
       "Street Name                        58108\n",
       "Cross Street 1                    152556\n",
       "Cross Street 2                    153400\n",
       "Intersection Street 1             255901\n",
       "Intersection Street 2             256030\n",
       "Address Type                       13617\n",
       "City                               19384\n",
       "Landmark                          294620\n",
       "Facility Type                     204342\n",
       "Status                                 0\n",
       "Due Date                          168260\n",
       "Resolution Description              8062\n",
       "Resolution Action Updated Date     15714\n",
       "Community Board                        0\n",
       "Borough                                0\n",
       "X Coordinate (State Plane)         28352\n",
       "Y Coordinate (State Plane)         28352\n",
       "Park Facility Name                     0\n",
       "Park Borough                           0\n",
       "School Name                            0\n",
       "School Number                         63\n",
       "School Region                       1478\n",
       "School Code                         1478\n",
       "School Phone Number                    0\n",
       "School Address                         0\n",
       "School City                            0\n",
       "School State                           0\n",
       "School Zip                             0\n",
       "School Not Found                  168270\n",
       "School or Citywide Complaint      294678\n",
       "Vehicle Type                      294675\n",
       "Taxi Company Borough              294384\n",
       "Taxi Pick Up Location             293334\n",
       "Bridge Highway Name               293892\n",
       "Bridge Highway Direction          293893\n",
       "Road Ramp                         293898\n",
       "Bridge Highway Segment            293242\n",
       "Garage Lot Name                   294647\n",
       "Ferry Direction                   294581\n",
       "Ferry Terminal Name               294449\n",
       "Latitude                           28352\n",
       "Longitude                          28352\n",
       "Location                           28352\n",
       "dtype: int64"
      ]
     },
     "execution_count": 4,
     "metadata": {},
     "output_type": "execute_result"
    }
   ],
   "source": [
    "complaints.isnull().sum()"
   ]
  },
  {
   "cell_type": "markdown",
   "metadata": {},
   "source": [
    "#### columns to keep: \n",
    "1. Unique Key\n",
    "2. Created Date\n",
    "3. Closed Date\n",
    "4. Agency\n",
    "5. Complaint Type\n",
    "6. Latitude\n",
    "7. Longitude\n",
    "8. Location\n",
    "9. Incident Zip"
   ]
  },
  {
   "cell_type": "markdown",
   "metadata": {},
   "source": [
    "### http://geoinformaticstutorial.blogspot.com/2014/06/converting-coordinates-between-map.html\n",
    "### helpful pyproj code if we need to convert any epsgs\n",
    "* p1 = Proj(\"+init=EPSG:4326\")\n",
    "* p2 = Proj(\"+init=EPSG:2263\")\n",
    "\n",
    "* lats = [row['Latitude']]\n",
    "* lons = [row['Longitude']]\n",
    "* x1, y1 = p1(lons, lats)\n",
    "* x, y = transform(p1, p2, x1, y1)"
   ]
  },
  {
   "cell_type": "code",
   "execution_count": 5,
   "metadata": {
    "collapsed": false
   },
   "outputs": [],
   "source": [
    "def mapper(row):\n",
    "    if row['Complaint Type'][:5] == 'Noise':\n",
    "        yield (row['Unique Key'], row['Created Date'], row['Closed Date'], row['Agency'], row['Complaint Type'],\\\n",
    "    row['Latitude'], row['X Coordinate (State Plane)'], row['Y Coordinate (State Plane)'], row['Incident Zip'])\n",
    "    \n",
    "#def reducer(k2v2):\n",
    "    #zipc,counts = k2v2\n",
    "    #return (zipc, sum(counts))\n",
    "\n",
    "with open('/Users/kristikorsberg/Downloads/311_Service_Requests_from_2010_to_Present.csv', 'r') as fi:\n",
    "    reader = csv.DictReader(fi)\n",
    "    output = list(mr.run(reader, mapper))"
   ]
  },
  {
   "cell_type": "code",
   "execution_count": 6,
   "metadata": {
    "collapsed": false
   },
   "outputs": [
    {
     "name": "stdout",
     "output_type": "stream",
     "text": [
      "[('35598105', '03/01/2017 10:50:00 PM', '', 'DEP', 'Noise', '40.74211340680574', '989007', '209649', '10016'), ('35603425', '03/01/2017 11:11:00 PM', '', 'DEP', 'Noise', '40.758217601892234', '987278', '215516', '10036'), ('35624597', '03/04/2017 09:42:00 AM', '03/11/2017 12:45:00 PM', 'DEP', 'Noise', '40.75211096770169', '982963', '213291', '10001'), ('35626467', '03/04/2017 10:06:00 AM', '', 'DEP', 'Noise', '40.73102817334543', '987090', '205610', '10003'), ('35631879', '03/05/2017 07:13:00 AM', '', 'DEP', 'Noise', '40.747018691029226', '992238', '211437', '10016'), ('35639582', '03/06/2017 09:10:00 PM', '', 'DEP', 'Noise', '40.730564699491175', '983168', '205441', '10014'), ('35640146', '03/06/2017 08:24:00 PM', '', 'DEP', 'Noise', '40.7449628918677', '988116', '210687', '10016'), ('35644624', '03/07/2017 02:04:00 PM', '03/07/2017 02:05:00 PM', 'DEP', 'Noise', '40.720328269590894', '1037538', '201770', '11366'), ('35646342', '03/07/2017 05:36:00 AM', '03/10/2017 06:45:00 AM', 'DEP', 'Noise', '40.69089111172563', '988146', '190987', '11201'), ('35607280', '03/02/2017 08:06:00 PM', '03/03/2017 02:10:00 PM', 'DEP', 'Noise', '40.60544908655935', '987304', '159858', '11214')]\n"
     ]
    }
   ],
   "source": [
    "print output[:10]"
   ]
  },
  {
   "cell_type": "markdown",
   "metadata": {},
   "source": [
    "### a few data manipulations"
   ]
  },
  {
   "cell_type": "code",
   "execution_count": 7,
   "metadata": {
    "collapsed": false
   },
   "outputs": [],
   "source": [
    "def mapper(row):\n",
    "    if row['Complaint Type'][:5] == 'Noise':\n",
    "        yield (row['Agency'], 1)\n",
    "    \n",
    "def reducer(k2v2):\n",
    "    agency,counts = k2v2\n",
    "    return (agency, sum(counts))\n",
    "\n",
    "with open('/Users/kristikorsberg/Downloads/311_Service_Requests_from_2010_to_Present.csv', 'r') as fi:\n",
    "    reader = csv.DictReader(fi)\n",
    "    output = list(mr.run(reader, mapper, reducer))"
   ]
  },
  {
   "cell_type": "code",
   "execution_count": 8,
   "metadata": {
    "collapsed": false
   },
   "outputs": [
    {
     "name": "stdout",
     "output_type": "stream",
     "text": [
      "[('DEP', 7562), ('EDC', 89), ('NYPD', 37720)]\n"
     ]
    }
   ],
   "source": [
    "print output"
   ]
  },
  {
   "cell_type": "code",
   "execution_count": 9,
   "metadata": {
    "collapsed": true
   },
   "outputs": [],
   "source": [
    "def mapper(row):\n",
    "    if row['Complaint Type'][:5] == 'Noise':\n",
    "        starttime = dateutil.parser.parse(row['Created Date'])\n",
    "        #print starttime.weekday(), starttime.hour, starttime\n",
    "        yield (starttime.weekday(), 1)\n",
    "    \n",
    "def reducer(k2v2):\n",
    "    day,counts = k2v2\n",
    "    return (day, sum(counts))\n",
    "\n",
    "with open('/Users/kristikorsberg/Downloads/311_Service_Requests_from_2010_to_Present.csv', 'r') as fi:\n",
    "    reader = csv.DictReader(fi)\n",
    "    output = list(mr.run(reader, mapper, reducer))"
   ]
  },
  {
   "cell_type": "code",
   "execution_count": 10,
   "metadata": {
    "collapsed": false
   },
   "outputs": [
    {
     "data": {
      "text/plain": [
       "[(0, 5154), (1, 5403), (2, 5950), (3, 5072), (4, 6419), (5, 8533), (6, 8840)]"
      ]
     },
     "execution_count": 10,
     "metadata": {},
     "output_type": "execute_result"
    }
   ],
   "source": [
    "output"
   ]
  },
  {
   "cell_type": "code",
   "execution_count": 11,
   "metadata": {
    "collapsed": true
   },
   "outputs": [],
   "source": [
    "o = []\n",
    "for elem in output:\n",
    "    o.append(elem[1])"
   ]
  },
  {
   "cell_type": "code",
   "execution_count": 12,
   "metadata": {
    "collapsed": false
   },
   "outputs": [
    {
     "data": {
      "text/plain": [
       "<matplotlib.text.Text at 0x112577fd0>"
      ]
     },
     "execution_count": 12,
     "metadata": {},
     "output_type": "execute_result"
    },
    {
     "data": {
      "image/png": "[encoded data removed]",
      "text/plain": [
       "<matplotlib.figure.Figure at 0x1145d9dd0>"
      ]
     },
     "metadata": {},
     "output_type": "display_data"
    }
   ],
   "source": [
    "plt.plot(o)\n",
    "plt.xlim(0,6)\n",
    "plt.title('Volume of Complaints by Day')"
   ]
  },
  {
   "cell_type": "code",
   "execution_count": 13,
   "metadata": {
    "collapsed": true
   },
   "outputs": [],
   "source": [
    "def mapper(row):\n",
    "    if row['Complaint Type'][:5] == 'Noise':\n",
    "        starttime = dateutil.parser.parse(row['Created Date'])\n",
    "        #print starttime.weekday(), starttime.hour, starttime\n",
    "        yield (starttime.hour, 1)\n",
    "    \n",
    "def reducer(k2v2):\n",
    "    hour,counts = k2v2\n",
    "    return (hour, sum(counts))\n",
    "\n",
    "with open('/Users/kristikorsberg/Downloads/311_Service_Requests_from_2010_to_Present.csv', 'r') as fi:\n",
    "    reader = csv.DictReader(fi)\n",
    "    output = list(mr.run(reader, mapper, reducer))"
   ]
  },
  {
   "cell_type": "code",
   "execution_count": 14,
   "metadata": {
    "collapsed": false
   },
   "outputs": [
    {
     "data": {
      "text/plain": [
       "[(0, 4409),\n",
       " (1, 3277),\n",
       " (2, 1884),\n",
       " (3, 1290),\n",
       " (4, 819),\n",
       " (5, 718),\n",
       " (6, 735),\n",
       " (7, 835),\n",
       " (8, 979),\n",
       " (9, 1177),\n",
       " (10, 1100),\n",
       " (11, 1173),\n",
       " (12, 1107),\n",
       " (13, 1150),\n",
       " (14, 1175),\n",
       " (15, 1280),\n",
       " (16, 1312),\n",
       " (17, 1449),\n",
       " (18, 1842),\n",
       " (19, 2099),\n",
       " (20, 2431),\n",
       " (21, 3261),\n",
       " (22, 4653),\n",
       " (23, 5216)]"
      ]
     },
     "execution_count": 14,
     "metadata": {},
     "output_type": "execute_result"
    }
   ],
   "source": [
    "output"
   ]
  },
  {
   "cell_type": "code",
   "execution_count": 15,
   "metadata": {
    "collapsed": false
   },
   "outputs": [],
   "source": [
    "o = []\n",
    "for elem in output:\n",
    "    o.append(elem[1])"
   ]
  },
  {
   "cell_type": "code",
   "execution_count": 16,
   "metadata": {
    "collapsed": false
   },
   "outputs": [
    {
     "data": {
      "text/plain": [
       "<matplotlib.text.Text at 0x103c79610>"
      ]
     },
     "execution_count": 16,
     "metadata": {},
     "output_type": "execute_result"
    },
    {
     "data": {
      "image/png": "[encoded data removed]",
      "text/plain": [
       "<matplotlib.figure.Figure at 0x115c5b450>"
      ]
     },
     "metadata": {},
     "output_type": "display_data"
    }
   ],
   "source": [
    "plt.plot(o)\n",
    "plt.xlim(0,23)\n",
    "plt.title('Volume of Complaints by Hour')"
   ]
  }
 ],
 "metadata": {
  "kernelspec": {
   "display_name": "Python [Root]",
   "language": "python",
   "name": "Python [Root]"
  },
  "language_info": {
   "codemirror_mode": {
    "name": "ipython",
    "version": 2
   },
   "file_extension": ".py",
   "mimetype": "text/x-python",
   "name": "python",
   "nbconvert_exporter": "python",
   "pygments_lexer": "ipython2",
   "version": "2.7.13"
  }
 },
 "nbformat": 4,
 "nbformat_minor": 1
}
