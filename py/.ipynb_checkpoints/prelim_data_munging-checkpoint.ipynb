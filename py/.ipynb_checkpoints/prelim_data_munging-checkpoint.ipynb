{
 "cells": [
  {
   "cell_type": "code",
   "execution_count": 1,
   "metadata": {
    "collapsed": false
   },
   "outputs": [
    {
     "name": "stdout",
     "output_type": "stream",
     "text": [
      "Populating the interactive namespace from numpy and matplotlib\n"
     ]
    },
    {
     "name": "stderr",
     "output_type": "stream",
     "text": [
      "WARNING: pylab import has clobbered these variables: ['GridSpec', 'Figure', 'figure', 'show', 'save']\n",
      "`%matplotlib` prevents importing * from pylab and numpy\n"
     ]
    }
   ],
   "source": [
    "# author_ch\n",
    "# create_date: apr 10\n",
    "# last_edit: apr 14, 11:16am\n",
    "import numpy as np\n",
    "import pandas as pd\n",
    "import datetime\n",
    "import urllib\n",
    "import seaborn as sns\n",
    "import datetime\n",
    "import os\n",
    " \n",
    "from bokeh.plotting import *\n",
    "from bokeh.models import HoverTool\n",
    "from collections import OrderedDict\n",
    "import matplotlib.pyplot as plt\n",
    "import geopandas as gpd\n",
    "import pysal\n",
    "cwd = os.getcwd()\n",
    "\n",
    "%pylab inline\n",
    "# read in data\n",
    "construction_query = (\"https://data.cityofnewyork.us/resource/qir6-2x7f.json\")\n",
    "construction_query2 = 'https://data.cityofnewyork.us/resource/dzgh-ja44.json'\n",
    "# this dataset is update apr.6\n",
    "ongoing_cons_query = ('https://data.cityofnewyork.us/resource/mzyg-478i.json')\n",
    "\n",
    "cons = pd.read_json(construction_query)\n",
    "cons2 = pd.read_json(construction_query2)\n",
    "on_cons = pd.read_json(ongoing_cons_query)\n",
    "\n",
    "#noise_com_query = 'https://data.cityofnewyork.us/resource/p5f6-bkga.json'\n",
    "#noise_com = pd.read_json(noise_com_query)\n",
    "\n",
    "#read in census track shapefile\n",
    "ct = os.path.join(os.path.dirname(cwd), 'data', 'nyct2010_16d', 'nyct2010.shp')\n",
    "ct_shp = gpd.read_file(ct)"
   ]
  },
  {
   "cell_type": "markdown",
   "metadata": {
    "collapsed": false
   },
   "source": [
    "## Take a look at the documented projects:"
   ]
  },
  {
   "cell_type": "code",
   "execution_count": 2,
   "metadata": {
    "collapsed": true
   },
   "outputs": [],
   "source": [
    "def convert_str_timestamp(string):\n",
    "    try:\n",
    "        ts = datetime.datetime.strptime(string, \"%m/%d/%Y\")\n",
    "    except (ValueError, TypeError) :\n",
    "        ts = string\n",
    "    return ts\n",
    "\n",
    "def convert_str_int(string):\n",
    "    try:\n",
    "        digit = int(string)\n",
    "    except ValueError :\n",
    "        digit = string\n",
    "    return digit"
   ]
  },
  {
   "cell_type": "code",
   "execution_count": 3,
   "metadata": {
    "collapsed": false
   },
   "outputs": [
    {
     "name": "stdout",
     "output_type": "stream",
     "text": [
      "Index([u'dsf_number_s_',\n",
      "       u'final_estimate_of_actual_costs_through_end_of_phase_amount',\n",
      "       u'project_budget_amount', u'project_building_identifier',\n",
      "       u'project_description', u'project_geographic_district_',\n",
      "       u'project_phase_actual_end_date', u'project_phase_actual_start_date',\n",
      "       u'project_phase_name', u'project_phase_planned_end_date',\n",
      "       u'project_school_name', u'project_status_name', u'project_type_',\n",
      "       u'total_phase_actual_spending_amount'],\n",
      "      dtype='object')\n"
     ]
    }
   ],
   "source": [
    "print cons.columns"
   ]
  },
  {
   "cell_type": "code",
   "execution_count": 4,
   "metadata": {
    "collapsed": false
   },
   "outputs": [
    {
     "name": "stdout",
     "output_type": "stream",
     "text": [
      "convert Index([u'project_phase_actual_end_date', u'project_phase_actual_start_date',\n",
      "       u'project_phase_planned_end_date'],\n",
      "      dtype='object') to timestamp\n",
      "convert project_budget_amount to interger type\n"
     ]
    }
   ],
   "source": [
    "# convert all date time related column to timestamp\n",
    "print  'convert {} to timestamp'.format(cons.columns[[6, 7, 9]])\n",
    "for col in cons.columns[[6, 7,9]]:\n",
    "    cons[col] = cons[col].apply(convert_str_timestamp)\n",
    "\n",
    "# convert budget amount to int\n",
    "print 'convert {} to interger type'.format('project_budget_amount')\n",
    "cons.project_budget_amount = map(convert_str_int, cons.project_budget_amount)"
   ]
  },
  {
   "cell_type": "markdown",
   "metadata": {},
   "source": [
    "### take a look at ongoing project by status:"
   ]
  },
  {
   "cell_type": "code",
   "execution_count": 5,
   "metadata": {
    "collapsed": false
   },
   "outputs": [
    {
     "data": {
      "text/plain": [
       "<matplotlib.axes._subplots.AxesSubplot at 0x1203fad50>"
      ]
     },
     "execution_count": 5,
     "metadata": {},
     "output_type": "execute_result"
    },
    {
     "data": {
      "image/png": "[encoded data removed]",
      "text/plain": [
       "<matplotlib.figure.Figure at 0x1203efe10>"
      ]
     },
     "metadata": {},
     "output_type": "display_data"
    }
   ],
   "source": [
    "gp_psn = cons.groupby('project_status_name', group_keys=False).size().reset_index()\n",
    "sns.barplot(x = 'project_status_name', y = 0, data = gp_psn)"
   ]
  },
  {
   "cell_type": "code",
   "execution_count": 6,
   "metadata": {
    "collapsed": false
   },
   "outputs": [
    {
     "data": {
      "text/plain": [
       "(0, 1000000)"
      ]
     },
     "execution_count": 6,
     "metadata": {},
     "output_type": "execute_result"
    },
    {
     "data": {
      "image/png": "[encoded data removed]",
      "text/plain": [
       "<matplotlib.figure.Figure at 0x1204a7c50>"
      ]
     },
     "metadata": {},
     "output_type": "display_data"
    }
   ],
   "source": [
    "# we want to categorize construction projects based on budget amount\n",
    "# there're a few string values left in this series\n",
    "budget_list = np.array(filter(lambda x: type(x) ==int, cons['project_budget_amount']))\n",
    "\n",
    "plt.scatter(budget_list, sorted(budget_list), s = 5)\n",
    "plt.ylim(0,1000000)"
   ]
  },
  {
   "cell_type": "code",
   "execution_count": 7,
   "metadata": {
    "collapsed": false
   },
   "outputs": [
    {
     "name": "stdout",
     "output_type": "stream",
     "text": [
      "number of zeros in budget_list:\n",
      "28\n"
     ]
    }
   ],
   "source": [
    "# We can see a few zero in the budget_list array\n",
    "# categorizing construction projects based on budget list should take out zero values\n",
    "print 'number of zeros in budget_list:'\n",
    "print len(budget_list[budget_list == 0])"
   ]
  },
  {
   "cell_type": "code",
   "execution_count": 8,
   "metadata": {
    "collapsed": false
   },
   "outputs": [
    {
     "name": "stdout",
     "output_type": "stream",
     "text": [
      "1098377.89412\n",
      "4408804.73014\n"
     ]
    }
   ],
   "source": [
    "budget_list_new = budget_list[budget_list != 0]\n",
    "\n",
    "print budget_list_new.mean()\n",
    "print budget_list_new.std()"
   ]
  },
  {
   "cell_type": "markdown",
   "metadata": {},
   "source": [
    "### standard deviation for budget_list is too high for performing statistical analysis"
   ]
  },
  {
   "cell_type": "code",
   "execution_count": 9,
   "metadata": {
    "collapsed": false,
    "scrolled": true
   },
   "outputs": [],
   "source": [
    "# categorize budget_list on quantiles:\n",
    "\n",
    "cons['budget_label'] = pd.qcut(cons['project_budget_amount'], q = [0, .25, .5, .75, 1.], labels = [0, 1, 2, 3])"
   ]
  },
  {
   "cell_type": "markdown",
   "metadata": {},
   "source": [
    "### Assume for project actual end date, if NaN it means it's still ongoing :\n",
    "Replace value with today's date\n"
   ]
  },
  {
   "cell_type": "code",
   "execution_count": 10,
   "metadata": {
    "collapsed": false
   },
   "outputs": [
    {
     "name": "stdout",
     "output_type": "stream",
     "text": [
      "2017-04-14 11:11:06.440946\n"
     ]
    }
   ],
   "source": [
    "today_date = datetime.datetime.now()\n",
    "print today_date"
   ]
  },
  {
   "cell_type": "code",
   "execution_count": 11,
   "metadata": {
    "collapsed": false,
    "scrolled": true
   },
   "outputs": [],
   "source": [
    "cons['project_phase_actual_end_date'] = cons['project_phase_actual_end_date'].replace(np.nan, today_date)"
   ]
  },
  {
   "cell_type": "markdown",
   "metadata": {},
   "source": [
    "# Null value in dataset: PNS - over date related columns & project phase"
   ]
  },
  {
   "cell_type": "code",
   "execution_count": 12,
   "metadata": {
    "collapsed": false
   },
   "outputs": [
    {
     "name": "stdout",
     "output_type": "stream",
     "text": [
      "number of PNS value in dataset:\n",
      "224\n"
     ]
    },
    {
     "data": {
      "text/plain": [
       "<matplotlib.axes._subplots.AxesSubplot at 0x120c76150>"
      ]
     },
     "execution_count": 12,
     "metadata": {},
     "output_type": "execute_result"
    },
    {
     "data": {
      "image/png": "[encoded data removed]",
      "text/plain": [
       "<matplotlib.figure.Figure at 0x120c6a910>"
      ]
     },
     "metadata": {},
     "output_type": "display_data"
    }
   ],
   "source": [
    "print 'number of PNS value in dataset:'\n",
    "print len(cons[cons['project_phase_actual_end_date']== 'PNS'])\n",
    "cons = cons[cons['project_phase_actual_end_date' ]!= 'PNS']\n",
    "\n",
    "# read in school shapefile\n",
    "sch_shpe = gpd.read_file(os.path.join(os.path.dirname(cwd), \n",
    "                          'data', 'Public_School_Locations','Public_Schools_Points_2011-2012A.shp'))\n",
    "\n",
    "cons_withloc = pd.merge(cons, sch_shpe, left_on='project_building_identifier', right_on='LOC_CODE')\n",
    "\n",
    "sc_proj_count = cons_withloc.groupby('LOC_CODE', group_keys=False).size()\n",
    "sc_proj_count = gpd.GeoDataFrame.merge(sch_shpe, pd.DataFrame(sc_proj_count).reset_index(), on = 'LOC_CODE')\n",
    "\n",
    "# take a look at a simple map\n",
    "sc_proj_count.plot(column = 0)"
   ]
  },
  {
   "cell_type": "markdown",
   "metadata": {},
   "source": [
    "# We want a corresponding census tract to the school:\n",
    "##### get ready for spatial join!!!"
   ]
  },
  {
   "cell_type": "code",
   "execution_count": 13,
   "metadata": {
    "collapsed": false
   },
   "outputs": [],
   "source": [
    "cons_withloc = cons_withloc[['dsf_number_s_', 'final_estimate_of_actual_costs_through_end_of_phase_amount'\n",
    "                            ,'project_budget_amount', 'project_building_identifier', 'project_description',\n",
    "                            'project_phase_actual_end_date', 'project_phase_actual_start_date',\n",
    "                            'project_phase_planned_end_date', 'project_status_name','total_phase_actual_spending_amount',\n",
    "                            'geometry', 'budget_label']]\n",
    "\n",
    "cons_withloc = cons_withloc.rename({'final_estimate_of_actual_costs_through_end_of_phase_amount': 'est_of_actual_costs',\n",
    "                    'budget_amount': 'bud', 'project_building_identifier': 'buid_id', 'project_description': 'des',\n",
    "                    'project_phase_actual_end_date': 'end_date', 'project_phase_actual_start_date': 'st_date',\n",
    "                    'project_phase_planned_end_date': 'p_end_date', 'project_status_name': 'status', \n",
    "                    'total_phase_actual_spending_amount': 'act_spend'})\n",
    "\n",
    "# keep things simple\n",
    "ct_shp = ct_shp[['BoroCT2010', 'geometry']]"
   ]
  },
  {
   "cell_type": "markdown",
   "metadata": {},
   "source": [
    "### Since it's joinin Points in Polygons"
   ]
  },
  {
   "cell_type": "code",
   "execution_count": 14,
   "metadata": {
    "collapsed": false,
    "scrolled": true
   },
   "outputs": [
    {
     "data": {
      "text/html": [
       "<div>\n",
       "<table border=\"1\" class=\"dataframe\">\n",
       "  <thead>\n",
       "    <tr style=\"text-align: right;\">\n",
       "      <th></th>\n",
       "      <th>dsf_number_s_</th>\n",
       "      <th>final_estimate_of_actual_costs_through_end_of_phase_amount</th>\n",
       "      <th>project_budget_amount</th>\n",
       "      <th>project_building_identifier</th>\n",
       "      <th>project_description</th>\n",
       "      <th>project_phase_actual_end_date</th>\n",
       "      <th>project_phase_actual_start_date</th>\n",
       "      <th>project_phase_planned_end_date</th>\n",
       "      <th>project_status_name</th>\n",
       "      <th>total_phase_actual_spending_amount</th>\n",
       "      <th>geometry</th>\n",
       "      <th>budget_label</th>\n",
       "      <th>ct</th>\n",
       "    </tr>\n",
       "  </thead>\n",
       "  <tbody>\n",
       "    <tr>\n",
       "      <th>0</th>\n",
       "      <td>DSF: 0000800510</td>\n",
       "      <td>34650</td>\n",
       "      <td>35000</td>\n",
       "      <td>K001</td>\n",
       "      <td>FY15 RESO A TECHNOLOGY</td>\n",
       "      <td>2017-04-14 11:11:06.440946</td>\n",
       "      <td>2015-05-13 00:00:00</td>\n",
       "      <td>2015-06-04 00:00:00</td>\n",
       "      <td>In-Progress</td>\n",
       "      <td>34650</td>\n",
       "      <td>POINT (980985.0541713729 175780.758994163)</td>\n",
       "      <td>0</td>\n",
       "      <td>3008000</td>\n",
       "    </tr>\n",
       "    <tr>\n",
       "      <th>1</th>\n",
       "      <td>DSF: 0000755358, 0000775595</td>\n",
       "      <td>346508</td>\n",
       "      <td>353360</td>\n",
       "      <td>K001</td>\n",
       "      <td>PLANYC BOILER CNVSN/PLANYC CLIMATE CTRL</td>\n",
       "      <td>2015-11-18 00:00:00</td>\n",
       "      <td>2014-06-27 00:00:00</td>\n",
       "      <td>2015-09-19 00:00:00</td>\n",
       "      <td>Complete</td>\n",
       "      <td>338667</td>\n",
       "      <td>POINT (980985.0541713729 175780.758994163)</td>\n",
       "      <td>2</td>\n",
       "      <td>3008000</td>\n",
       "    </tr>\n",
       "    <tr>\n",
       "      <th>2</th>\n",
       "      <td>DSF: 0000755358, 0000775595</td>\n",
       "      <td>5457289</td>\n",
       "      <td>5679000</td>\n",
       "      <td>K001</td>\n",
       "      <td>PLANYC BOILER CNVSN/PLANYC CLIMATE CTRL</td>\n",
       "      <td>2015-11-18 00:00:00</td>\n",
       "      <td>2014-06-27 00:00:00</td>\n",
       "      <td>2015-09-19 00:00:00</td>\n",
       "      <td>Complete</td>\n",
       "      <td>4236349</td>\n",
       "      <td>POINT (980985.0541713729 175780.758994163)</td>\n",
       "      <td>2</td>\n",
       "      <td>3008000</td>\n",
       "    </tr>\n",
       "    <tr>\n",
       "      <th>3</th>\n",
       "      <td>DSF: 0000755358, 0000775595</td>\n",
       "      <td>243736</td>\n",
       "      <td>302880</td>\n",
       "      <td>K001</td>\n",
       "      <td>PLANYC BOILER CNVSN/PLANYC CLIMATE CTRL</td>\n",
       "      <td>2014-01-30 00:00:00</td>\n",
       "      <td>2013-09-25 00:00:00</td>\n",
       "      <td>2014-03-03 00:00:00</td>\n",
       "      <td>Complete</td>\n",
       "      <td>236590</td>\n",
       "      <td>POINT (980985.0541713729 175780.758994163)</td>\n",
       "      <td>2</td>\n",
       "      <td>3008000</td>\n",
       "    </tr>\n",
       "    <tr>\n",
       "      <th>4</th>\n",
       "      <td>DSF: 0000755358, 0000775595</td>\n",
       "      <td>77547</td>\n",
       "      <td>75720</td>\n",
       "      <td>K001</td>\n",
       "      <td>PLANYC BOILER CNVSN/PLANYC CLIMATE CTRL</td>\n",
       "      <td>2013-09-24 00:00:00</td>\n",
       "      <td>2013-06-27 00:00:00</td>\n",
       "      <td>2013-11-29 00:00:00</td>\n",
       "      <td>Complete</td>\n",
       "      <td>74748</td>\n",
       "      <td>POINT (980985.0541713729 175780.758994163)</td>\n",
       "      <td>1</td>\n",
       "      <td>3008000</td>\n",
       "    </tr>\n",
       "  </tbody>\n",
       "</table>\n",
       "</div>"
      ],
      "text/plain": [
       "                 dsf_number_s_  \\\n",
       "0              DSF: 0000800510   \n",
       "1  DSF: 0000755358, 0000775595   \n",
       "2  DSF: 0000755358, 0000775595   \n",
       "3  DSF: 0000755358, 0000775595   \n",
       "4  DSF: 0000755358, 0000775595   \n",
       "\n",
       "  final_estimate_of_actual_costs_through_end_of_phase_amount  \\\n",
       "0                                              34650           \n",
       "1                                             346508           \n",
       "2                                            5457289           \n",
       "3                                             243736           \n",
       "4                                              77547           \n",
       "\n",
       "  project_budget_amount project_building_identifier  \\\n",
       "0                 35000                        K001   \n",
       "1                353360                        K001   \n",
       "2               5679000                        K001   \n",
       "3                302880                        K001   \n",
       "4                 75720                        K001   \n",
       "\n",
       "                       project_description project_phase_actual_end_date  \\\n",
       "0                   FY15 RESO A TECHNOLOGY    2017-04-14 11:11:06.440946   \n",
       "1  PLANYC BOILER CNVSN/PLANYC CLIMATE CTRL           2015-11-18 00:00:00   \n",
       "2  PLANYC BOILER CNVSN/PLANYC CLIMATE CTRL           2015-11-18 00:00:00   \n",
       "3  PLANYC BOILER CNVSN/PLANYC CLIMATE CTRL           2014-01-30 00:00:00   \n",
       "4  PLANYC BOILER CNVSN/PLANYC CLIMATE CTRL           2013-09-24 00:00:00   \n",
       "\n",
       "  project_phase_actual_start_date project_phase_planned_end_date  \\\n",
       "0             2015-05-13 00:00:00            2015-06-04 00:00:00   \n",
       "1             2014-06-27 00:00:00            2015-09-19 00:00:00   \n",
       "2             2014-06-27 00:00:00            2015-09-19 00:00:00   \n",
       "3             2013-09-25 00:00:00            2014-03-03 00:00:00   \n",
       "4             2013-06-27 00:00:00            2013-11-29 00:00:00   \n",
       "\n",
       "  project_status_name  total_phase_actual_spending_amount  \\\n",
       "0         In-Progress                               34650   \n",
       "1            Complete                              338667   \n",
       "2            Complete                             4236349   \n",
       "3            Complete                              236590   \n",
       "4            Complete                               74748   \n",
       "\n",
       "                                     geometry  budget_label       ct  \n",
       "0  POINT (980985.0541713729 175780.758994163)             0  3008000  \n",
       "1  POINT (980985.0541713729 175780.758994163)             2  3008000  \n",
       "2  POINT (980985.0541713729 175780.758994163)             2  3008000  \n",
       "3  POINT (980985.0541713729 175780.758994163)             2  3008000  \n",
       "4  POINT (980985.0541713729 175780.758994163)             1  3008000  "
      ]
     },
     "execution_count": 14,
     "metadata": {},
     "output_type": "execute_result"
    }
   ],
   "source": [
    "cons_withloc['ct'] = map(lambda x: ct_shp[ct_shp.geometry.contains(x)].iloc[0,0], cons_withloc['geometry'])\n",
    "cons_withloc.head()"
   ]
  },
  {
   "cell_type": "markdown",
   "metadata": {},
   "source": [
    "### Export this file to output folder"
   ]
  },
  {
   "cell_type": "code",
   "execution_count": 19,
   "metadata": {
    "collapsed": true
   },
   "outputs": [],
   "source": [
    "cons_withloc.to_csv(os.path.join(os.path.dirname(cwd), 'output', 'construction'))\n",
    "cons_withloc.to_pickle(os.path.join(os.path.dirname(cwd), 'output', 'construction_pkl'))"
   ]
  },
  {
   "cell_type": "markdown",
   "metadata": {},
   "source": [
    "# Take a look at ongoing projects:"
   ]
  },
  {
   "cell_type": "code",
   "execution_count": 15,
   "metadata": {
    "collapsed": false
   },
   "outputs": [
    {
     "name": "stdout",
     "output_type": "stream",
     "text": [
      "Index([u'award', u'boro', u'buildingid', u'consttype', u'geo_dist',\n",
      "       u'location_1', u'name', u'projdesc'],\n",
      "      dtype='object')\n"
     ]
    },
    {
     "data": {
      "text/plain": [
       "<matplotlib.axes._subplots.AxesSubplot at 0x120f5d210>"
      ]
     },
     "execution_count": 15,
     "metadata": {},
     "output_type": "execute_result"
    },
    {
     "data": {
      "image/png": "[encoded data removed]",
      "text/plain": [
       "<matplotlib.figure.Figure at 0x1209e7410>"
      ]
     },
     "metadata": {},
     "output_type": "display_data"
    }
   ],
   "source": [
    "print cons2.columns\n",
    "cons2.projdesc\n",
    "\n",
    "on_cons.columns\n",
    "\n",
    "by_type = on_cons.groupby('work_type', group_keys=False).size().reset_index()\n",
    "sns.barplot(x = 'work_type', y = 0, data = by_type)"
   ]
  }
 ],
 "metadata": {
  "anaconda-cloud": {},
  "kernelspec": {
   "display_name": "Python [Root]",
   "language": "python",
   "name": "Python [Root]"
  },
  "language_info": {
   "codemirror_mode": {
    "name": "ipython",
    "version": 2
   },
   "file_extension": ".py",
   "mimetype": "text/x-python",
   "name": "python",
   "nbconvert_exporter": "python",
   "pygments_lexer": "ipython2",
   "version": "2.7.13"
  }
 },
 "nbformat": 4,
 "nbformat_minor": 0
}
