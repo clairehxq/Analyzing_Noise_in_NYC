{
 "cells": [
  {
   "cell_type": "code",
   "execution_count": 1,
   "metadata": {
    "collapsed": false
   },
   "outputs": [],
   "source": [
    "import pandas as pd\n",
    "import zipfile\n",
    "import geopandas as gpd"
   ]
  },
  {
   "cell_type": "code",
   "execution_count": 2,
   "metadata": {
    "collapsed": true
   },
   "outputs": [],
   "source": [
    "def pluto(mappluto):\n",
    "    z = zipfile.ZipFile(mappluto)\n",
    "    z.extractall('../data/')\n",
    "    \n",
    "    boroughs = ['Staten_Island']\n",
    "    abreevs = ['SI']\n",
    "    #boroughs = ['Staten_Island', 'Queens', 'Manhattan', 'Bronx', 'Brooklyn']\n",
    "    #abreevs = ['SI', 'QN', 'MN', 'BX', 'BK']\n",
    "\n",
    "    pluto = []\n",
    "    i = 0\n",
    "    for elem in boroughs:\n",
    "        temp = gpd.read_file('../data/'+elem+'/'+abreevs[i]+'MapPLUTO.shp')\n",
    "        temp['BBL'] = temp['BBL'].astype(str)\n",
    "        #temp = temp.to_crs({'init':'epsg:4326'})\n",
    "        pluto.append(temp)\n",
    "        i+=1  \n",
    "\n",
    "    global pluto_updated\n",
    "    pluto_updated = pd.concat(pluto)\n",
    "\n",
    "    return pluto_updated.head()"
   ]
  },
  {
   "cell_type": "code",
   "execution_count": 4,
   "metadata": {
    "collapsed": true
   },
   "outputs": [],
   "source": [
    "z = zipfile.ZipFile('../data/mappluto_14v2.zip')\n",
    "z.extractall('../data/')"
   ]
  },
  {
   "cell_type": "code",
   "execution_count": 10,
   "metadata": {
    "collapsed": false
   },
   "outputs": [],
   "source": [
    "boroughs = ['Staten_Island', 'Queens', 'Manhattan', 'Bronx', 'Brooklyn']\n",
    "abreevs = ['SI', 'QN', 'MN', 'BX', 'BK']\n",
    "\n",
    "#boroughs = ['Staten_Island', 'Queens']\n",
    "#abreevs = ['SI', 'QN']\n",
    "\n",
    "pluto = []\n",
    "i = 0\n",
    "for elem in boroughs:\n",
    "    temp = gpd.read_file('../data/'+elem+'/'+abreevs[i]+'MapPLUTO.shp')\n",
    "    temp['BBL'] = temp['BBL'].astype(str)\n",
    "    temp = temp.to_crs({'init':'epsg:4326'})\n",
    "    pluto.append(temp)\n",
    "    i+=1"
   ]
  },
  {
   "cell_type": "code",
   "execution_count": 11,
   "metadata": {
    "collapsed": false
   },
   "outputs": [],
   "source": [
    "p = pd.concat(pluto)"
   ]
  },
  {
   "cell_type": "code",
   "execution_count": 13,
   "metadata": {
    "collapsed": true
   },
   "outputs": [],
   "source": [
    "cb = gpd.read_file('../data/nyct2010_17a/nyct2010.shp')"
   ]
  },
  {
   "cell_type": "code",
   "execution_count": 15,
   "metadata": {
    "collapsed": true
   },
   "outputs": [],
   "source": [
    "cb = cb[['CT2010', 'geometry']]"
   ]
  },
  {
   "cell_type": "code",
   "execution_count": 16,
   "metadata": {
    "collapsed": false
   },
   "outputs": [
    {
     "data": {
      "text/html": [
       "<div>\n",
       "<table border=\"1\" class=\"dataframe\">\n",
       "  <thead>\n",
       "    <tr style=\"text-align: right;\">\n",
       "      <th></th>\n",
       "      <th>CT2010</th>\n",
       "      <th>geometry</th>\n",
       "    </tr>\n",
       "  </thead>\n",
       "  <tbody>\n",
       "    <tr>\n",
       "      <th>0</th>\n",
       "      <td>000900</td>\n",
       "      <td>POLYGON ((962269.1260375977 173705.5001831055,...</td>\n",
       "    </tr>\n",
       "    <tr>\n",
       "      <th>1</th>\n",
       "      <td>009800</td>\n",
       "      <td>POLYGON ((994133.507019043 214848.8975830078, ...</td>\n",
       "    </tr>\n",
       "  </tbody>\n",
       "</table>\n",
       "</div>"
      ],
      "text/plain": [
       "   CT2010                                           geometry\n",
       "0  000900  POLYGON ((962269.1260375977 173705.5001831055,...\n",
       "1  009800  POLYGON ((994133.507019043 214848.8975830078, ..."
      ]
     },
     "execution_count": 16,
     "metadata": {},
     "output_type": "execute_result"
    }
   ],
   "source": [
    "cb.head(2)"
   ]
  },
  {
   "cell_type": "code",
   "execution_count": 17,
   "metadata": {
    "collapsed": false
   },
   "outputs": [
    {
     "name": "stdout",
     "output_type": "stream",
     "text": [
      "{u'lon_0': -74, u'datum': u'NAD83', u'y_0': 0, u'no_defs': True, u'proj': u'lcc', u'x_0': 300000, u'units': u'us-ft', u'lat_2': 41.03333333333333, u'lat_1': 40.66666666666666, u'lat_0': 40.16666666666666}\n",
      "{'init': 'epsg:4326'}\n"
     ]
    }
   ],
   "source": [
    "print cb.crs\n",
    "print p.crs"
   ]
  },
  {
   "cell_type": "code",
   "execution_count": 19,
   "metadata": {
    "collapsed": false
   },
   "outputs": [],
   "source": [
    "cb = cb.to_crs({'init':'epsg:4326'})\n",
    "p = p.to_crs({'init':'epsg:4326'})"
   ]
  },
  {
   "cell_type": "code",
   "execution_count": 20,
   "metadata": {
    "collapsed": false
   },
   "outputs": [
    {
     "name": "stdout",
     "output_type": "stream",
     "text": [
      "{'init': 'epsg:4326'}\n",
      "{'init': 'epsg:4326'}\n"
     ]
    }
   ],
   "source": [
    "print cb.crs\n",
    "print p.crs"
   ]
  },
  {
   "cell_type": "code",
   "execution_count": 21,
   "metadata": {
    "collapsed": false
   },
   "outputs": [
    {
     "data": {
      "text/html": [
       "<div>\n",
       "<table border=\"1\" class=\"dataframe\">\n",
       "  <thead>\n",
       "    <tr style=\"text-align: right;\">\n",
       "      <th></th>\n",
       "      <th>BBL</th>\n",
       "      <th>AssessTot</th>\n",
       "      <th>BldgArea</th>\n",
       "      <th>BldgClass</th>\n",
       "      <th>BldgDepth</th>\n",
       "      <th>BldgFront</th>\n",
       "      <th>ComArea</th>\n",
       "      <th>FactryArea</th>\n",
       "      <th>GarageArea</th>\n",
       "      <th>LandUse</th>\n",
       "      <th>NumBldgs</th>\n",
       "      <th>NumFloors</th>\n",
       "      <th>OfficeArea</th>\n",
       "      <th>OtherArea</th>\n",
       "      <th>StrgeArea</th>\n",
       "      <th>StrgeArea</th>\n",
       "      <th>YearBuilt</th>\n",
       "      <th>geometry</th>\n",
       "    </tr>\n",
       "  </thead>\n",
       "  <tbody>\n",
       "    <tr>\n",
       "      <th>0</th>\n",
       "      <td>5007470028.0</td>\n",
       "      <td>23400.0</td>\n",
       "      <td>1488</td>\n",
       "      <td>B2</td>\n",
       "      <td>62.0</td>\n",
       "      <td>24.0</td>\n",
       "      <td>0</td>\n",
       "      <td>0</td>\n",
       "      <td>0</td>\n",
       "      <td>01</td>\n",
       "      <td>1</td>\n",
       "      <td>1.0</td>\n",
       "      <td>0</td>\n",
       "      <td>0</td>\n",
       "      <td>0</td>\n",
       "      <td>0</td>\n",
       "      <td>1960</td>\n",
       "      <td>POLYGON ((-74.14250944979312 40.60980609846242...</td>\n",
       "    </tr>\n",
       "    <tr>\n",
       "      <th>1</th>\n",
       "      <td>5006230252.0</td>\n",
       "      <td>21518.0</td>\n",
       "      <td>0</td>\n",
       "      <td>V0</td>\n",
       "      <td>0.0</td>\n",
       "      <td>0.0</td>\n",
       "      <td>0</td>\n",
       "      <td>0</td>\n",
       "      <td>0</td>\n",
       "      <td>11</td>\n",
       "      <td>0</td>\n",
       "      <td>0.0</td>\n",
       "      <td>0</td>\n",
       "      <td>0</td>\n",
       "      <td>0</td>\n",
       "      <td>0</td>\n",
       "      <td>0</td>\n",
       "      <td>POLYGON ((-74.08780465394567 40.61401983466899...</td>\n",
       "    </tr>\n",
       "  </tbody>\n",
       "</table>\n",
       "</div>"
      ],
      "text/plain": [
       "            BBL  AssessTot  BldgArea BldgClass  BldgDepth  BldgFront  ComArea  \\\n",
       "0  5007470028.0    23400.0      1488        B2       62.0       24.0        0   \n",
       "1  5006230252.0    21518.0         0        V0        0.0        0.0        0   \n",
       "\n",
       "   FactryArea  GarageArea LandUse  NumBldgs  NumFloors  OfficeArea  OtherArea  \\\n",
       "0           0           0      01         1        1.0           0          0   \n",
       "1           0           0      11         0        0.0           0          0   \n",
       "\n",
       "   StrgeArea  StrgeArea  YearBuilt  \\\n",
       "0          0          0       1960   \n",
       "1          0          0          0   \n",
       "\n",
       "                                            geometry  \n",
       "0  POLYGON ((-74.14250944979312 40.60980609846242...  \n",
       "1  POLYGON ((-74.08780465394567 40.61401983466899...  "
      ]
     },
     "execution_count": 21,
     "metadata": {},
     "output_type": "execute_result"
    }
   ],
   "source": [
    "p = p[['BBL', 'AssessTot', 'BldgArea', 'BldgClass', 'BldgDepth', 'BldgFront', 'ComArea', \\\n",
    "              'FactryArea', 'GarageArea', 'LandUse', 'NumBldgs','NumFloors', 'OfficeArea', 'OtherArea', 'StrgeArea', \\\n",
    "              'StrgeArea', 'YearBuilt', 'geometry']]\n",
    "p.head(2)"
   ]
  },
  {
   "cell_type": "code",
   "execution_count": 49,
   "metadata": {
    "collapsed": false
   },
   "outputs": [
    {
     "data": {
      "text/plain": [
       "857513"
      ]
     },
     "execution_count": 49,
     "metadata": {},
     "output_type": "execute_result"
    }
   ],
   "source": [
    "len(p)"
   ]
  },
  {
   "cell_type": "code",
   "execution_count": 58,
   "metadata": {
    "collapsed": true
   },
   "outputs": [],
   "source": [
    "pl = p[['BBL', 'geometry']]"
   ]
  },
  {
   "cell_type": "code",
   "execution_count": 59,
   "metadata": {
    "collapsed": false
   },
   "outputs": [],
   "source": [
    "#http://geoffboeing.com/2016/10/r-tree-spatial-index-python/\n",
    "precise_matches = {}\n",
    "spatial_index = pl.sindex\n",
    "for i, CT2010 in enumerate(cb.CT2010):\n",
    "    possible_matches_index = list(spatial_index.intersection(cb['geometry'][i].bounds))\n",
    "    possible_matches = pl.iloc[possible_matches_index]\n",
    "    precise_matches[CT2010] = possible_matches[possible_matches.intersects(cb['geometry'][i])]\n",
    "    #precise_matches[CT2010]['CT2010'] = CT2010 "
   ]
  },
  {
   "cell_type": "code",
   "execution_count": 60,
   "metadata": {
    "collapsed": false
   },
   "outputs": [],
   "source": [
    "bbl_ct = pd.concat(precise_matches).reset_index()"
   ]
  },
  {
   "cell_type": "code",
   "execution_count": 61,
   "metadata": {
    "collapsed": false
   },
   "outputs": [
    {
     "data": {
      "text/html": [
       "<div>\n",
       "<table border=\"1\" class=\"dataframe\">\n",
       "  <thead>\n",
       "    <tr style=\"text-align: right;\">\n",
       "      <th></th>\n",
       "      <th>level_0</th>\n",
       "      <th>level_1</th>\n",
       "      <th>BBL</th>\n",
       "      <th>geometry</th>\n",
       "    </tr>\n",
       "  </thead>\n",
       "  <tbody>\n",
       "    <tr>\n",
       "      <th>0</th>\n",
       "      <td>000100</td>\n",
       "      <td>1254</td>\n",
       "      <td>3002077501.0</td>\n",
       "      <td>POLYGON ((-73.99198802363739 40.70142351000581...</td>\n",
       "    </tr>\n",
       "    <tr>\n",
       "      <th>1</th>\n",
       "      <td>000100</td>\n",
       "      <td>1237</td>\n",
       "      <td>3002050001.0</td>\n",
       "      <td>POLYGON ((-73.9941384585001 40.70106970973024,...</td>\n",
       "    </tr>\n",
       "  </tbody>\n",
       "</table>\n",
       "</div>"
      ],
      "text/plain": [
       "  level_0  level_1           BBL  \\\n",
       "0  000100     1254  3002077501.0   \n",
       "1  000100     1237  3002050001.0   \n",
       "\n",
       "                                            geometry  \n",
       "0  POLYGON ((-73.99198802363739 40.70142351000581...  \n",
       "1  POLYGON ((-73.9941384585001 40.70106970973024,...  "
      ]
     },
     "execution_count": 61,
     "metadata": {},
     "output_type": "execute_result"
    }
   ],
   "source": [
    "bbl_ct.head(2)"
   ]
  },
  {
   "cell_type": "code",
   "execution_count": 62,
   "metadata": {
    "collapsed": true
   },
   "outputs": [],
   "source": [
    "bbl_ct = bbl_ct.drop(['geometry', 'level_1'],axis=1)"
   ]
  },
  {
   "cell_type": "code",
   "execution_count": 63,
   "metadata": {
    "collapsed": true
   },
   "outputs": [],
   "source": [
    "bbl_ct = bbl_ct.rename(columns={'level_0':'CT2010'})"
   ]
  },
  {
   "cell_type": "code",
   "execution_count": 65,
   "metadata": {
    "collapsed": false
   },
   "outputs": [
    {
     "name": "stdout",
     "output_type": "stream",
     "text": [
      "object\n",
      "object\n"
     ]
    }
   ],
   "source": [
    "print bbl_ct.BBL.dtypes\n",
    "print p.BBL.dtypes"
   ]
  },
  {
   "cell_type": "code",
   "execution_count": 67,
   "metadata": {
    "collapsed": false
   },
   "outputs": [],
   "source": [
    "bbl_ct.BBL = bbl_ct.BBL.astype(float)\n",
    "#bbl_ct.BBL = bbl_ct.BBL.astype()\n",
    "p.BBL = p.BBL.astype(float)"
   ]
  },
  {
   "cell_type": "code",
   "execution_count": 69,
   "metadata": {
    "collapsed": false
   },
   "outputs": [
    {
     "data": {
      "text/html": [
       "<div>\n",
       "<table border=\"1\" class=\"dataframe\">\n",
       "  <thead>\n",
       "    <tr style=\"text-align: right;\">\n",
       "      <th></th>\n",
       "      <th>BBL</th>\n",
       "      <th>AssessTot</th>\n",
       "      <th>BldgArea</th>\n",
       "      <th>BldgClass</th>\n",
       "      <th>BldgDepth</th>\n",
       "      <th>BldgFront</th>\n",
       "      <th>ComArea</th>\n",
       "      <th>FactryArea</th>\n",
       "      <th>GarageArea</th>\n",
       "      <th>LandUse</th>\n",
       "      <th>NumBldgs</th>\n",
       "      <th>NumFloors</th>\n",
       "      <th>OfficeArea</th>\n",
       "      <th>OtherArea</th>\n",
       "      <th>StrgeArea</th>\n",
       "      <th>StrgeArea</th>\n",
       "      <th>YearBuilt</th>\n",
       "      <th>geometry</th>\n",
       "    </tr>\n",
       "  </thead>\n",
       "  <tbody>\n",
       "    <tr>\n",
       "      <th>0</th>\n",
       "      <td>5.007470e+09</td>\n",
       "      <td>23400.0</td>\n",
       "      <td>1488</td>\n",
       "      <td>B2</td>\n",
       "      <td>62.0</td>\n",
       "      <td>24.0</td>\n",
       "      <td>0</td>\n",
       "      <td>0</td>\n",
       "      <td>0</td>\n",
       "      <td>01</td>\n",
       "      <td>1</td>\n",
       "      <td>1.0</td>\n",
       "      <td>0</td>\n",
       "      <td>0</td>\n",
       "      <td>0</td>\n",
       "      <td>0</td>\n",
       "      <td>1960</td>\n",
       "      <td>POLYGON ((-74.14250944979312 40.60980609846242...</td>\n",
       "    </tr>\n",
       "    <tr>\n",
       "      <th>1</th>\n",
       "      <td>5.006230e+09</td>\n",
       "      <td>21518.0</td>\n",
       "      <td>0</td>\n",
       "      <td>V0</td>\n",
       "      <td>0.0</td>\n",
       "      <td>0.0</td>\n",
       "      <td>0</td>\n",
       "      <td>0</td>\n",
       "      <td>0</td>\n",
       "      <td>11</td>\n",
       "      <td>0</td>\n",
       "      <td>0.0</td>\n",
       "      <td>0</td>\n",
       "      <td>0</td>\n",
       "      <td>0</td>\n",
       "      <td>0</td>\n",
       "      <td>0</td>\n",
       "      <td>POLYGON ((-74.08780465394567 40.61401983466899...</td>\n",
       "    </tr>\n",
       "  </tbody>\n",
       "</table>\n",
       "</div>"
      ],
      "text/plain": [
       "            BBL  AssessTot  BldgArea BldgClass  BldgDepth  BldgFront  ComArea  \\\n",
       "0  5.007470e+09    23400.0      1488        B2       62.0       24.0        0   \n",
       "1  5.006230e+09    21518.0         0        V0        0.0        0.0        0   \n",
       "\n",
       "   FactryArea  GarageArea LandUse  NumBldgs  NumFloors  OfficeArea  OtherArea  \\\n",
       "0           0           0      01         1        1.0           0          0   \n",
       "1           0           0      11         0        0.0           0          0   \n",
       "\n",
       "   StrgeArea  StrgeArea  YearBuilt  \\\n",
       "0          0          0       1960   \n",
       "1          0          0          0   \n",
       "\n",
       "                                            geometry  \n",
       "0  POLYGON ((-74.14250944979312 40.60980609846242...  \n",
       "1  POLYGON ((-74.08780465394567 40.61401983466899...  "
      ]
     },
     "execution_count": 69,
     "metadata": {},
     "output_type": "execute_result"
    }
   ],
   "source": [
    "p.head(2)"
   ]
  },
  {
   "cell_type": "code",
   "execution_count": 116,
   "metadata": {
    "collapsed": false
   },
   "outputs": [
    {
     "data": {
      "text/html": [
       "<div>\n",
       "<table border=\"1\" class=\"dataframe\">\n",
       "  <thead>\n",
       "    <tr style=\"text-align: right;\">\n",
       "      <th></th>\n",
       "      <th>CT2010</th>\n",
       "      <th>BBL</th>\n",
       "    </tr>\n",
       "  </thead>\n",
       "  <tbody>\n",
       "    <tr>\n",
       "      <th>0</th>\n",
       "      <td>000100</td>\n",
       "      <td>3.002078e+09</td>\n",
       "    </tr>\n",
       "    <tr>\n",
       "      <th>1</th>\n",
       "      <td>000100</td>\n",
       "      <td>3.002050e+09</td>\n",
       "    </tr>\n",
       "  </tbody>\n",
       "</table>\n",
       "</div>"
      ],
      "text/plain": [
       "   CT2010           BBL\n",
       "0  000100  3.002078e+09\n",
       "1  000100  3.002050e+09"
      ]
     },
     "execution_count": 116,
     "metadata": {},
     "output_type": "execute_result"
    }
   ],
   "source": [
    "bbl_ct.head(2)"
   ]
  },
  {
   "cell_type": "code",
   "execution_count": 117,
   "metadata": {
    "collapsed": true
   },
   "outputs": [],
   "source": [
    "bbl_ct.CT2010 = bbl_ct.CT2010.astype(str)"
   ]
  },
  {
   "cell_type": "code",
   "execution_count": 118,
   "metadata": {
    "collapsed": true
   },
   "outputs": [],
   "source": [
    "merged = pd.merge(p, bbl_ct, on='BBL')"
   ]
  },
  {
   "cell_type": "code",
   "execution_count": 119,
   "metadata": {
    "collapsed": false
   },
   "outputs": [
    {
     "name": "stdout",
     "output_type": "stream",
     "text": [
      "546015\n",
      "546015\n",
      "857513\n"
     ]
    }
   ],
   "source": [
    "print len(merged.BBL.unique())\n",
    "print len(bbl_ct.BBL.unique())\n",
    "print len(p.BBL.unique())"
   ]
  },
  {
   "cell_type": "code",
   "execution_count": 120,
   "metadata": {
    "collapsed": false
   },
   "outputs": [],
   "source": [
    "merged = merged.drop('LandUse',axis=1)"
   ]
  },
  {
   "cell_type": "code",
   "execution_count": 121,
   "metadata": {
    "collapsed": false
   },
   "outputs": [
    {
     "data": {
      "text/plain": [
       "Index([       u'BBL',  u'AssessTot',   u'BldgArea',  u'BldgClass',\n",
       "        u'BldgDepth',  u'BldgFront',    u'ComArea', u'FactryArea',\n",
       "       u'GarageArea',   u'NumBldgs',  u'NumFloors', u'OfficeArea',\n",
       "        u'OtherArea',  u'StrgeArea',  u'StrgeArea',  u'YearBuilt',\n",
       "         u'geometry',     u'CT2010'],\n",
       "      dtype='object')"
      ]
     },
     "execution_count": 121,
     "metadata": {},
     "output_type": "execute_result"
    }
   ],
   "source": [
    "merged.columns"
   ]
  },
  {
   "cell_type": "code",
   "execution_count": 122,
   "metadata": {
    "collapsed": true
   },
   "outputs": [],
   "source": [
    "merged = merged[merged['YearBuilt']>0]"
   ]
  },
  {
   "cell_type": "code",
   "execution_count": 123,
   "metadata": {
    "collapsed": true
   },
   "outputs": [],
   "source": [
    "merged = merged.drop('geometry',axis=1)"
   ]
  },
  {
   "cell_type": "code",
   "execution_count": 124,
   "metadata": {
    "collapsed": true
   },
   "outputs": [],
   "source": [
    "merged.to_csv('../data/ct_bbl.csv')"
   ]
  },
  {
   "cell_type": "code",
   "execution_count": 125,
   "metadata": {
    "collapsed": false
   },
   "outputs": [],
   "source": [
    "merged = pd.read_csv('../data/ct_bbl.csv')"
   ]
  },
  {
   "cell_type": "code",
   "execution_count": 126,
   "metadata": {
    "collapsed": true
   },
   "outputs": [],
   "source": [
    "merged = merged.drop('Unnamed: 0',axis=1)"
   ]
  },
  {
   "cell_type": "code",
   "execution_count": 127,
   "metadata": {
    "collapsed": false
   },
   "outputs": [
    {
     "data": {
      "text/html": [
       "<div>\n",
       "<table border=\"1\" class=\"dataframe\">\n",
       "  <thead>\n",
       "    <tr style=\"text-align: right;\">\n",
       "      <th></th>\n",
       "      <th>BBL</th>\n",
       "      <th>AssessTot</th>\n",
       "      <th>BldgArea</th>\n",
       "      <th>BldgClass</th>\n",
       "      <th>BldgDepth</th>\n",
       "      <th>BldgFront</th>\n",
       "      <th>ComArea</th>\n",
       "      <th>FactryArea</th>\n",
       "      <th>GarageArea</th>\n",
       "      <th>NumBldgs</th>\n",
       "      <th>NumFloors</th>\n",
       "      <th>OfficeArea</th>\n",
       "      <th>OtherArea</th>\n",
       "      <th>StrgeArea</th>\n",
       "      <th>StrgeArea.1</th>\n",
       "      <th>YearBuilt</th>\n",
       "      <th>CT2010</th>\n",
       "    </tr>\n",
       "  </thead>\n",
       "  <tbody>\n",
       "    <tr>\n",
       "      <th>0</th>\n",
       "      <td>5.007470e+09</td>\n",
       "      <td>23400.0</td>\n",
       "      <td>1488</td>\n",
       "      <td>B2</td>\n",
       "      <td>62.0</td>\n",
       "      <td>24.0</td>\n",
       "      <td>0</td>\n",
       "      <td>0</td>\n",
       "      <td>0</td>\n",
       "      <td>1</td>\n",
       "      <td>1.0</td>\n",
       "      <td>0</td>\n",
       "      <td>0</td>\n",
       "      <td>0</td>\n",
       "      <td>0</td>\n",
       "      <td>1960</td>\n",
       "      <td>18901</td>\n",
       "    </tr>\n",
       "    <tr>\n",
       "      <th>1</th>\n",
       "      <td>5.007130e+09</td>\n",
       "      <td>22602.0</td>\n",
       "      <td>1316</td>\n",
       "      <td>A1</td>\n",
       "      <td>27.0</td>\n",
       "      <td>17.0</td>\n",
       "      <td>0</td>\n",
       "      <td>0</td>\n",
       "      <td>0</td>\n",
       "      <td>2</td>\n",
       "      <td>2.5</td>\n",
       "      <td>0</td>\n",
       "      <td>0</td>\n",
       "      <td>0</td>\n",
       "      <td>0</td>\n",
       "      <td>1920</td>\n",
       "      <td>18701</td>\n",
       "    </tr>\n",
       "  </tbody>\n",
       "</table>\n",
       "</div>"
      ],
      "text/plain": [
       "            BBL  AssessTot  BldgArea BldgClass  BldgDepth  BldgFront  ComArea  \\\n",
       "0  5.007470e+09    23400.0      1488        B2       62.0       24.0        0   \n",
       "1  5.007130e+09    22602.0      1316        A1       27.0       17.0        0   \n",
       "\n",
       "   FactryArea  GarageArea  NumBldgs  NumFloors  OfficeArea  OtherArea  \\\n",
       "0           0           0         1        1.0           0          0   \n",
       "1           0           0         2        2.5           0          0   \n",
       "\n",
       "   StrgeArea  StrgeArea.1  YearBuilt  CT2010  \n",
       "0          0            0       1960   18901  \n",
       "1          0            0       1920   18701  "
      ]
     },
     "execution_count": 127,
     "metadata": {},
     "output_type": "execute_result"
    }
   ],
   "source": [
    "merged.head(2)"
   ]
  },
  {
   "cell_type": "code",
   "execution_count": 128,
   "metadata": {
    "collapsed": true
   },
   "outputs": [],
   "source": [
    "merged['BldgAge'] = 2017-merged['YearBuilt']\n",
    "merged = merged.drop('YearBuilt',axis=1)"
   ]
  },
  {
   "cell_type": "code",
   "execution_count": 138,
   "metadata": {
    "collapsed": false
   },
   "outputs": [],
   "source": [
    "avg = pd.DataFrame(merged[['BldgAge','NumFloors','AssessTot','BldgArea','BldgDepth','BldgFront','ComArea',\\\n",
    "                           'FactryArea','GarageArea','NumBldgs',\\\n",
    "       'OfficeArea','OtherArea','StrgeArea']].groupby(merged['CT2010']).mean())"
   ]
  },
  {
   "cell_type": "code",
   "execution_count": 139,
   "metadata": {
    "collapsed": true
   },
   "outputs": [],
   "source": [
    "avg = avg.reset_index()"
   ]
  },
  {
   "cell_type": "code",
   "execution_count": 140,
   "metadata": {
    "collapsed": false
   },
   "outputs": [
    {
     "data": {
      "text/html": [
       "<div>\n",
       "<table border=\"1\" class=\"dataframe\">\n",
       "  <thead>\n",
       "    <tr style=\"text-align: right;\">\n",
       "      <th></th>\n",
       "      <th>CT2010</th>\n",
       "      <th>BldgAge</th>\n",
       "      <th>NumFloors</th>\n",
       "      <th>AssessTot</th>\n",
       "      <th>BldgArea</th>\n",
       "      <th>BldgDepth</th>\n",
       "      <th>BldgFront</th>\n",
       "      <th>ComArea</th>\n",
       "      <th>FactryArea</th>\n",
       "      <th>GarageArea</th>\n",
       "      <th>NumBldgs</th>\n",
       "      <th>OfficeArea</th>\n",
       "      <th>OtherArea</th>\n",
       "      <th>StrgeArea</th>\n",
       "    </tr>\n",
       "  </thead>\n",
       "  <tbody>\n",
       "    <tr>\n",
       "      <th>0</th>\n",
       "      <td>100</td>\n",
       "      <td>126.363229</td>\n",
       "      <td>4.078475</td>\n",
       "      <td>1.045777e+06</td>\n",
       "      <td>23211.573991</td>\n",
       "      <td>50.908117</td>\n",
       "      <td>36.010314</td>\n",
       "      <td>10799.793722</td>\n",
       "      <td>0.000000</td>\n",
       "      <td>5640.847534</td>\n",
       "      <td>1.233184</td>\n",
       "      <td>3255.802691</td>\n",
       "      <td>1474.094170</td>\n",
       "      <td>64.596413</td>\n",
       "    </tr>\n",
       "    <tr>\n",
       "      <th>1</th>\n",
       "      <td>200</td>\n",
       "      <td>65.637972</td>\n",
       "      <td>2.006498</td>\n",
       "      <td>2.328835e+04</td>\n",
       "      <td>2007.178066</td>\n",
       "      <td>42.968656</td>\n",
       "      <td>21.679009</td>\n",
       "      <td>114.395047</td>\n",
       "      <td>27.079009</td>\n",
       "      <td>14.140330</td>\n",
       "      <td>1.176887</td>\n",
       "      <td>1.650943</td>\n",
       "      <td>42.903302</td>\n",
       "      <td>4.317217</td>\n",
       "    </tr>\n",
       "  </tbody>\n",
       "</table>\n",
       "</div>"
      ],
      "text/plain": [
       "   CT2010     BldgAge  NumFloors     AssessTot      BldgArea  BldgDepth  \\\n",
       "0     100  126.363229   4.078475  1.045777e+06  23211.573991  50.908117   \n",
       "1     200   65.637972   2.006498  2.328835e+04   2007.178066  42.968656   \n",
       "\n",
       "   BldgFront       ComArea  FactryArea   GarageArea  NumBldgs   OfficeArea  \\\n",
       "0  36.010314  10799.793722    0.000000  5640.847534  1.233184  3255.802691   \n",
       "1  21.679009    114.395047   27.079009    14.140330  1.176887     1.650943   \n",
       "\n",
       "     OtherArea  StrgeArea  \n",
       "0  1474.094170  64.596413  \n",
       "1    42.903302   4.317217  "
      ]
     },
     "execution_count": 140,
     "metadata": {},
     "output_type": "execute_result"
    }
   ],
   "source": [
    "avg.head(2)"
   ]
  },
  {
   "cell_type": "code",
   "execution_count": 142,
   "metadata": {
    "collapsed": true
   },
   "outputs": [],
   "source": [
    "avg.to_csv('../data/ct_bbl_avg.csv')"
   ]
  }
 ],
 "metadata": {
  "kernelspec": {
   "display_name": "Python [Root]",
   "language": "python",
   "name": "Python [Root]"
  },
  "language_info": {
   "codemirror_mode": {
    "name": "ipython",
    "version": 2
   },
   "file_extension": ".py",
   "mimetype": "text/x-python",
   "name": "python",
   "nbconvert_exporter": "python",
   "pygments_lexer": "ipython2",
   "version": "2.7.13"
  }
 },
 "nbformat": 4,
 "nbformat_minor": 1
}
