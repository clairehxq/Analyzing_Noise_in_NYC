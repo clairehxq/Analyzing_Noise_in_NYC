{
 "cells": [
  {
   "cell_type": "code",
   "execution_count": 1,
   "metadata": {
    "collapsed": false
   },
   "outputs": [
    {
     "name": "stdout",
     "output_type": "stream",
     "text": [
      "Populating the interactive namespace from numpy and matplotlib\n"
     ]
    },
    {
     "name": "stderr",
     "output_type": "stream",
     "text": [
      "WARNING: pylab import has clobbered these variables: ['plt']\n",
      "`%matplotlib` prevents importing * from pylab and numpy\n"
     ]
    }
   ],
   "source": [
    "import pandas as pd\n",
    "import geopandas as gpd\n",
    "import numpy as np\n",
    "from shapely.geometry import Point\n",
    "from shapely.geometry import Polygon"
   ]
  },
  {
   "cell_type": "code",
   "execution_count": 2,
   "metadata": {
    "collapsed": false
   },
   "outputs": [
    {
     "data": {
      "text/plain": [
       "u'/Users/kristikorsberg/devel/big_data/big_data_prj/Analyzing_Noise_in_NYC/py'"
      ]
     },
     "execution_count": 2,
     "metadata": {},
     "output_type": "execute_result"
    }
   ],
   "source": [
    "pwd"
   ]
  },
  {
   "cell_type": "code",
   "execution_count": 3,
   "metadata": {
    "collapsed": false
   },
   "outputs": [],
   "source": [
    "ct = gpd.read_file('../data/nyct2010_17a/nyct2010.shp')"
   ]
  },
  {
   "cell_type": "code",
   "execution_count": 4,
   "metadata": {
    "collapsed": false
   },
   "outputs": [
    {
     "data": {
      "text/html": [
       "<div>\n",
       "<table border=\"1\" class=\"dataframe\">\n",
       "  <thead>\n",
       "    <tr style=\"text-align: right;\">\n",
       "      <th></th>\n",
       "      <th>BoroCT2010</th>\n",
       "      <th>BoroCode</th>\n",
       "      <th>BoroName</th>\n",
       "      <th>CDEligibil</th>\n",
       "      <th>CT2010</th>\n",
       "      <th>CTLabel</th>\n",
       "      <th>NTACode</th>\n",
       "      <th>NTAName</th>\n",
       "      <th>PUMA</th>\n",
       "      <th>Shape_Area</th>\n",
       "      <th>Shape_Leng</th>\n",
       "      <th>geometry</th>\n",
       "    </tr>\n",
       "  </thead>\n",
       "  <tbody>\n",
       "    <tr>\n",
       "      <th>0</th>\n",
       "      <td>5000900</td>\n",
       "      <td>5</td>\n",
       "      <td>Staten Island</td>\n",
       "      <td>I</td>\n",
       "      <td>000900</td>\n",
       "      <td>9</td>\n",
       "      <td>SI22</td>\n",
       "      <td>West New Brighton-New Brighton-St. George</td>\n",
       "      <td>3903</td>\n",
       "      <td>2.497010e+06</td>\n",
       "      <td>7729.016794</td>\n",
       "      <td>POLYGON ((962269.1260375977 173705.5001831055,...</td>\n",
       "    </tr>\n",
       "    <tr>\n",
       "      <th>1</th>\n",
       "      <td>1009800</td>\n",
       "      <td>1</td>\n",
       "      <td>Manhattan</td>\n",
       "      <td>I</td>\n",
       "      <td>009800</td>\n",
       "      <td>98</td>\n",
       "      <td>MN19</td>\n",
       "      <td>Turtle Bay-East Midtown</td>\n",
       "      <td>3808</td>\n",
       "      <td>1.906016e+06</td>\n",
       "      <td>5534.199811</td>\n",
       "      <td>POLYGON ((994133.507019043 214848.8975830078, ...</td>\n",
       "    </tr>\n",
       "  </tbody>\n",
       "</table>\n",
       "</div>"
      ],
      "text/plain": [
       "  BoroCT2010 BoroCode       BoroName CDEligibil  CT2010 CTLabel NTACode  \\\n",
       "0    5000900        5  Staten Island          I  000900       9    SI22   \n",
       "1    1009800        1      Manhattan          I  009800      98    MN19   \n",
       "\n",
       "                                     NTAName  PUMA    Shape_Area   Shape_Leng  \\\n",
       "0  West New Brighton-New Brighton-St. George  3903  2.497010e+06  7729.016794   \n",
       "1                    Turtle Bay-East Midtown  3808  1.906016e+06  5534.199811   \n",
       "\n",
       "                                            geometry  \n",
       "0  POLYGON ((962269.1260375977 173705.5001831055,...  \n",
       "1  POLYGON ((994133.507019043 214848.8975830078, ...  "
      ]
     },
     "execution_count": 4,
     "metadata": {},
     "output_type": "execute_result"
    }
   ],
   "source": [
    "ct.head(2)"
   ]
  },
  {
   "cell_type": "code",
   "execution_count": 5,
   "metadata": {
    "collapsed": false
   },
   "outputs": [
    {
     "name": "stderr",
     "output_type": "stream",
     "text": [
      "//anaconda/lib/python2.7/site-packages/IPython/core/interactiveshell.py:2723: DtypeWarning: Columns (8,17,40,43,44,45,47) have mixed types. Specify dtype option on import or set low_memory=False.\n",
      "  interactivity=interactivity, compiler=compiler, result=result)\n"
     ]
    }
   ],
   "source": [
    "noise = pd.read_csv('/Users/kristikorsberg/Downloads/311_Service_Requests_from_2010_to_Present.csv')"
   ]
  },
  {
   "cell_type": "code",
   "execution_count": 6,
   "metadata": {
    "collapsed": false
   },
   "outputs": [
    {
     "data": {
      "text/html": [
       "<div>\n",
       "<table border=\"1\" class=\"dataframe\">\n",
       "  <thead>\n",
       "    <tr style=\"text-align: right;\">\n",
       "      <th></th>\n",
       "      <th>Unique Key</th>\n",
       "      <th>Created Date</th>\n",
       "      <th>Closed Date</th>\n",
       "      <th>Agency</th>\n",
       "      <th>Agency Name</th>\n",
       "      <th>Complaint Type</th>\n",
       "      <th>Descriptor</th>\n",
       "      <th>Location Type</th>\n",
       "      <th>Incident Zip</th>\n",
       "      <th>Incident Address</th>\n",
       "      <th>...</th>\n",
       "      <th>Bridge Highway Name</th>\n",
       "      <th>Bridge Highway Direction</th>\n",
       "      <th>Road Ramp</th>\n",
       "      <th>Bridge Highway Segment</th>\n",
       "      <th>Garage Lot Name</th>\n",
       "      <th>Ferry Direction</th>\n",
       "      <th>Ferry Terminal Name</th>\n",
       "      <th>Latitude</th>\n",
       "      <th>Longitude</th>\n",
       "      <th>Location</th>\n",
       "    </tr>\n",
       "  </thead>\n",
       "  <tbody>\n",
       "    <tr>\n",
       "      <th>0</th>\n",
       "      <td>35607069</td>\n",
       "      <td>03/02/2017 03:33:17 PM</td>\n",
       "      <td>03/12/2017 11:21:04 AM</td>\n",
       "      <td>HPD</td>\n",
       "      <td>Department of Housing Preservation and Develop...</td>\n",
       "      <td>FLOORING/STAIRS</td>\n",
       "      <td>FLOOR</td>\n",
       "      <td>RESIDENTIAL BUILDING</td>\n",
       "      <td>11220</td>\n",
       "      <td>6123 4 AVENUE</td>\n",
       "      <td>...</td>\n",
       "      <td>NaN</td>\n",
       "      <td>NaN</td>\n",
       "      <td>NaN</td>\n",
       "      <td>NaN</td>\n",
       "      <td>NaN</td>\n",
       "      <td>NaN</td>\n",
       "      <td>NaN</td>\n",
       "      <td>40.640087</td>\n",
       "      <td>-74.019194</td>\n",
       "      <td>(40.6400872732656, -74.01919432059279)</td>\n",
       "    </tr>\n",
       "    <tr>\n",
       "      <th>1</th>\n",
       "      <td>35597174</td>\n",
       "      <td>03/01/2017 05:10:34 PM</td>\n",
       "      <td>03/12/2017 09:40:02 AM</td>\n",
       "      <td>HPD</td>\n",
       "      <td>Department of Housing Preservation and Develop...</td>\n",
       "      <td>DOOR/WINDOW</td>\n",
       "      <td>DOOR</td>\n",
       "      <td>RESIDENTIAL BUILDING</td>\n",
       "      <td>10467</td>\n",
       "      <td>3301 PERRY AVENUE</td>\n",
       "      <td>...</td>\n",
       "      <td>NaN</td>\n",
       "      <td>NaN</td>\n",
       "      <td>NaN</td>\n",
       "      <td>NaN</td>\n",
       "      <td>NaN</td>\n",
       "      <td>NaN</td>\n",
       "      <td>NaN</td>\n",
       "      <td>40.877016</td>\n",
       "      <td>-73.875373</td>\n",
       "      <td>(40.877016358193174, -73.87537267430177)</td>\n",
       "    </tr>\n",
       "  </tbody>\n",
       "</table>\n",
       "<p>2 rows × 53 columns</p>\n",
       "</div>"
      ],
      "text/plain": [
       "   Unique Key            Created Date             Closed Date Agency  \\\n",
       "0    35607069  03/02/2017 03:33:17 PM  03/12/2017 11:21:04 AM    HPD   \n",
       "1    35597174  03/01/2017 05:10:34 PM  03/12/2017 09:40:02 AM    HPD   \n",
       "\n",
       "                                         Agency Name   Complaint Type  \\\n",
       "0  Department of Housing Preservation and Develop...  FLOORING/STAIRS   \n",
       "1  Department of Housing Preservation and Develop...      DOOR/WINDOW   \n",
       "\n",
       "  Descriptor         Location Type Incident Zip   Incident Address  \\\n",
       "0      FLOOR  RESIDENTIAL BUILDING        11220      6123 4 AVENUE   \n",
       "1       DOOR  RESIDENTIAL BUILDING        10467  3301 PERRY AVENUE   \n",
       "\n",
       "                     ...                    Bridge Highway Name  \\\n",
       "0                    ...                                    NaN   \n",
       "1                    ...                                    NaN   \n",
       "\n",
       "  Bridge Highway Direction Road Ramp Bridge Highway Segment Garage Lot Name  \\\n",
       "0                      NaN       NaN                    NaN             NaN   \n",
       "1                      NaN       NaN                    NaN             NaN   \n",
       "\n",
       "  Ferry Direction Ferry Terminal Name   Latitude  Longitude  \\\n",
       "0             NaN                 NaN  40.640087 -74.019194   \n",
       "1             NaN                 NaN  40.877016 -73.875373   \n",
       "\n",
       "                                   Location  \n",
       "0    (40.6400872732656, -74.01919432059279)  \n",
       "1  (40.877016358193174, -73.87537267430177)  \n",
       "\n",
       "[2 rows x 53 columns]"
      ]
     },
     "execution_count": 6,
     "metadata": {},
     "output_type": "execute_result"
    }
   ],
   "source": [
    "noise.head(2)"
   ]
  },
  {
   "cell_type": "code",
   "execution_count": 7,
   "metadata": {
    "collapsed": false
   },
   "outputs": [
    {
     "data": {
      "text/plain": [
       "Index([u'Unique Key', u'Created Date', u'Closed Date', u'Agency',\n",
       "       u'Agency Name', u'Complaint Type', u'Descriptor', u'Location Type',\n",
       "       u'Incident Zip', u'Incident Address', u'Street Name', u'Cross Street 1',\n",
       "       u'Cross Street 2', u'Intersection Street 1', u'Intersection Street 2',\n",
       "       u'Address Type', u'City', u'Landmark', u'Facility Type', u'Status',\n",
       "       u'Due Date', u'Resolution Description',\n",
       "       u'Resolution Action Updated Date', u'Community Board', u'Borough',\n",
       "       u'X Coordinate (State Plane)', u'Y Coordinate (State Plane)',\n",
       "       u'Park Facility Name', u'Park Borough', u'School Name',\n",
       "       u'School Number', u'School Region', u'School Code',\n",
       "       u'School Phone Number', u'School Address', u'School City',\n",
       "       u'School State', u'School Zip', u'School Not Found',\n",
       "       u'School or Citywide Complaint', u'Vehicle Type',\n",
       "       u'Taxi Company Borough', u'Taxi Pick Up Location',\n",
       "       u'Bridge Highway Name', u'Bridge Highway Direction', u'Road Ramp',\n",
       "       u'Bridge Highway Segment', u'Garage Lot Name', u'Ferry Direction',\n",
       "       u'Ferry Terminal Name', u'Latitude', u'Longitude', u'Location'],\n",
       "      dtype='object')"
      ]
     },
     "execution_count": 7,
     "metadata": {},
     "output_type": "execute_result"
    }
   ],
   "source": [
    "noise.columns"
   ]
  },
  {
   "cell_type": "code",
   "execution_count": 8,
   "metadata": {
    "collapsed": false
   },
   "outputs": [
    {
     "data": {
      "text/html": [
       "<div>\n",
       "<table border=\"1\" class=\"dataframe\">\n",
       "  <thead>\n",
       "    <tr style=\"text-align: right;\">\n",
       "      <th></th>\n",
       "      <th>Unique Key</th>\n",
       "      <th>Created Date</th>\n",
       "      <th>Closed Date</th>\n",
       "      <th>Agency</th>\n",
       "      <th>Agency Name</th>\n",
       "      <th>Complaint Type</th>\n",
       "      <th>Descriptor</th>\n",
       "      <th>Location Type</th>\n",
       "      <th>Incident Zip</th>\n",
       "      <th>Incident Address</th>\n",
       "      <th>...</th>\n",
       "      <th>Bridge Highway Name</th>\n",
       "      <th>Bridge Highway Direction</th>\n",
       "      <th>Road Ramp</th>\n",
       "      <th>Bridge Highway Segment</th>\n",
       "      <th>Garage Lot Name</th>\n",
       "      <th>Ferry Direction</th>\n",
       "      <th>Ferry Terminal Name</th>\n",
       "      <th>Latitude</th>\n",
       "      <th>Longitude</th>\n",
       "      <th>Location</th>\n",
       "    </tr>\n",
       "  </thead>\n",
       "  <tbody>\n",
       "    <tr>\n",
       "      <th>0</th>\n",
       "      <td>35607069</td>\n",
       "      <td>03/02/2017 03:33:17 PM</td>\n",
       "      <td>03/12/2017 11:21:04 AM</td>\n",
       "      <td>HPD</td>\n",
       "      <td>Department of Housing Preservation and Develop...</td>\n",
       "      <td>FLOORING/STAIRS</td>\n",
       "      <td>FLOOR</td>\n",
       "      <td>RESIDENTIAL BUILDING</td>\n",
       "      <td>11220</td>\n",
       "      <td>6123 4 AVENUE</td>\n",
       "      <td>...</td>\n",
       "      <td>NaN</td>\n",
       "      <td>NaN</td>\n",
       "      <td>NaN</td>\n",
       "      <td>NaN</td>\n",
       "      <td>NaN</td>\n",
       "      <td>NaN</td>\n",
       "      <td>NaN</td>\n",
       "      <td>40.640087</td>\n",
       "      <td>-74.019194</td>\n",
       "      <td>(40.6400872732656, -74.01919432059279)</td>\n",
       "    </tr>\n",
       "    <tr>\n",
       "      <th>1</th>\n",
       "      <td>35597174</td>\n",
       "      <td>03/01/2017 05:10:34 PM</td>\n",
       "      <td>03/12/2017 09:40:02 AM</td>\n",
       "      <td>HPD</td>\n",
       "      <td>Department of Housing Preservation and Develop...</td>\n",
       "      <td>DOOR/WINDOW</td>\n",
       "      <td>DOOR</td>\n",
       "      <td>RESIDENTIAL BUILDING</td>\n",
       "      <td>10467</td>\n",
       "      <td>3301 PERRY AVENUE</td>\n",
       "      <td>...</td>\n",
       "      <td>NaN</td>\n",
       "      <td>NaN</td>\n",
       "      <td>NaN</td>\n",
       "      <td>NaN</td>\n",
       "      <td>NaN</td>\n",
       "      <td>NaN</td>\n",
       "      <td>NaN</td>\n",
       "      <td>40.877016</td>\n",
       "      <td>-73.875373</td>\n",
       "      <td>(40.877016358193174, -73.87537267430177)</td>\n",
       "    </tr>\n",
       "  </tbody>\n",
       "</table>\n",
       "<p>2 rows × 53 columns</p>\n",
       "</div>"
      ],
      "text/plain": [
       "   Unique Key            Created Date             Closed Date Agency  \\\n",
       "0    35607069  03/02/2017 03:33:17 PM  03/12/2017 11:21:04 AM    HPD   \n",
       "1    35597174  03/01/2017 05:10:34 PM  03/12/2017 09:40:02 AM    HPD   \n",
       "\n",
       "                                         Agency Name   Complaint Type  \\\n",
       "0  Department of Housing Preservation and Develop...  FLOORING/STAIRS   \n",
       "1  Department of Housing Preservation and Develop...      DOOR/WINDOW   \n",
       "\n",
       "  Descriptor         Location Type Incident Zip   Incident Address  \\\n",
       "0      FLOOR  RESIDENTIAL BUILDING        11220      6123 4 AVENUE   \n",
       "1       DOOR  RESIDENTIAL BUILDING        10467  3301 PERRY AVENUE   \n",
       "\n",
       "                     ...                    Bridge Highway Name  \\\n",
       "0                    ...                                    NaN   \n",
       "1                    ...                                    NaN   \n",
       "\n",
       "  Bridge Highway Direction Road Ramp Bridge Highway Segment Garage Lot Name  \\\n",
       "0                      NaN       NaN                    NaN             NaN   \n",
       "1                      NaN       NaN                    NaN             NaN   \n",
       "\n",
       "  Ferry Direction Ferry Terminal Name   Latitude  Longitude  \\\n",
       "0             NaN                 NaN  40.640087 -74.019194   \n",
       "1             NaN                 NaN  40.877016 -73.875373   \n",
       "\n",
       "                                   Location  \n",
       "0    (40.6400872732656, -74.01919432059279)  \n",
       "1  (40.877016358193174, -73.87537267430177)  \n",
       "\n",
       "[2 rows x 53 columns]"
      ]
     },
     "execution_count": 8,
     "metadata": {},
     "output_type": "execute_result"
    }
   ],
   "source": [
    "noise.head(2)"
   ]
  },
  {
   "cell_type": "code",
   "execution_count": 9,
   "metadata": {
    "collapsed": false
   },
   "outputs": [],
   "source": [
    "noise = noise[['Unique Key', 'Created Date', 'Closed Date', 'Agency', 'Complaint Type', 'Descriptor', 'Incident Zip', \\\n",
    "               'X Coordinate (State Plane)', 'Y Coordinate (State Plane)']]"
   ]
  },
  {
   "cell_type": "code",
   "execution_count": 10,
   "metadata": {
    "collapsed": false
   },
   "outputs": [],
   "source": [
    "noise = noise.dropna()"
   ]
  },
  {
   "cell_type": "code",
   "execution_count": 11,
   "metadata": {
    "collapsed": false
   },
   "outputs": [],
   "source": [
    "geometry = [Point(xy) for xy in zip(noise['X Coordinate (State Plane)'], noise['Y Coordinate (State Plane)'])]\n",
    "noise = noise.drop(['X Coordinate (State Plane)', 'Y Coordinate (State Plane)'], axis=1)\n",
    "crs = {'init': 'epsg:2263'}\n",
    "geo_noise = gpd.GeoDataFrame(noise, crs=crs, geometry=geometry)"
   ]
  },
  {
   "cell_type": "code",
   "execution_count": 12,
   "metadata": {
    "collapsed": false
   },
   "outputs": [
    {
     "name": "stdout",
     "output_type": "stream",
     "text": [
      "{'init': 'epsg:2263'}\n",
      "{u'lon_0': -74, u'datum': u'NAD83', u'y_0': 0, u'no_defs': True, u'proj': u'lcc', u'x_0': 300000, u'units': u'us-ft', u'lat_2': 41.03333333333333, u'lat_1': 40.66666666666666, u'lat_0': 40.16666666666666}\n"
     ]
    }
   ],
   "source": [
    "print geo_noise.crs\n",
    "print ct.crs"
   ]
  },
  {
   "cell_type": "code",
   "execution_count": 13,
   "metadata": {
    "collapsed": true
   },
   "outputs": [],
   "source": [
    "ct = ct.to_crs({'init':'epsg:2263'})"
   ]
  },
  {
   "cell_type": "code",
   "execution_count": 14,
   "metadata": {
    "collapsed": false
   },
   "outputs": [
    {
     "name": "stdout",
     "output_type": "stream",
     "text": [
      "{'init': 'epsg:2263'}\n",
      "{'init': 'epsg:2263'}\n"
     ]
    }
   ],
   "source": [
    "print geo_noise.crs\n",
    "print ct.crs"
   ]
  },
  {
   "cell_type": "code",
   "execution_count": 15,
   "metadata": {
    "collapsed": false
   },
   "outputs": [],
   "source": [
    "ct = ct[['geometry', 'CT2010', 'Shape_Area', 'Shape_Leng']]"
   ]
  },
  {
   "cell_type": "code",
   "execution_count": 16,
   "metadata": {
    "collapsed": false
   },
   "outputs": [
    {
     "data": {
      "text/plain": [
       "Index([u'geometry', u'CT2010', u'Shape_Area', u'Shape_Leng'], dtype='object')"
      ]
     },
     "execution_count": 16,
     "metadata": {},
     "output_type": "execute_result"
    }
   ],
   "source": [
    "ct.columns"
   ]
  },
  {
   "cell_type": "code",
   "execution_count": 17,
   "metadata": {
    "collapsed": true
   },
   "outputs": [],
   "source": [
    "noise_simple = geo_noise[['Unique Key', 'geometry']]"
   ]
  },
  {
   "cell_type": "code",
   "execution_count": 18,
   "metadata": {
    "collapsed": false
   },
   "outputs": [],
   "source": [
    "#http://geoffboeing.com/2016/10/r-tree-spatial-index-python/\n",
    "precise_matches = {}\n",
    "spatial_index = geo_noise.sindex\n",
    "for i, CT2010 in enumerate(ct.CT2010):\n",
    "    possible_matches_index = list(spatial_index.intersection(ct['geometry'][i].bounds))\n",
    "    possible_matches = geo_noise.iloc[possible_matches_index]\n",
    "    precise_matches[CT2010] = possible_matches[possible_matches.intersects(ct['geometry'][i])]\n",
    "    #precise_matches[CT2010]['CT2010'] = CT2010 "
   ]
  },
  {
   "cell_type": "code",
   "execution_count": 19,
   "metadata": {
    "collapsed": false
   },
   "outputs": [],
   "source": [
    "noise_ct = pd.concat(precise_matches).reset_index()"
   ]
  },
  {
   "cell_type": "code",
   "execution_count": 20,
   "metadata": {
    "collapsed": false
   },
   "outputs": [
    {
     "data": {
      "text/html": [
       "<div>\n",
       "<table border=\"1\" class=\"dataframe\">\n",
       "  <thead>\n",
       "    <tr style=\"text-align: right;\">\n",
       "      <th></th>\n",
       "      <th>level_0</th>\n",
       "      <th>level_1</th>\n",
       "      <th>Agency</th>\n",
       "      <th>Closed Date</th>\n",
       "      <th>Complaint Type</th>\n",
       "      <th>Created Date</th>\n",
       "      <th>Descriptor</th>\n",
       "      <th>Incident Zip</th>\n",
       "      <th>Unique Key</th>\n",
       "      <th>geometry</th>\n",
       "    </tr>\n",
       "  </thead>\n",
       "  <tbody>\n",
       "    <tr>\n",
       "      <th>0</th>\n",
       "      <td>000100</td>\n",
       "      <td>203592</td>\n",
       "      <td>DOB</td>\n",
       "      <td>04/10/2017 02:02:26 PM</td>\n",
       "      <td>Special Enforcement</td>\n",
       "      <td>04/10/2017 02:02:26 PM</td>\n",
       "      <td>SEP - Professional Certification Compliance Audit</td>\n",
       "      <td>11201</td>\n",
       "      <td>35909960.0</td>\n",
       "      <td>POINT (986020 194280)</td>\n",
       "    </tr>\n",
       "    <tr>\n",
       "      <th>1</th>\n",
       "      <td>000100</td>\n",
       "      <td>178552</td>\n",
       "      <td>DEP</td>\n",
       "      <td>03/29/2017 05:00:00 PM</td>\n",
       "      <td>Lead</td>\n",
       "      <td>03/28/2017 05:00:00 PM</td>\n",
       "      <td>Lead Kit Request (Residential) (L10)</td>\n",
       "      <td>11201</td>\n",
       "      <td>35812477.0</td>\n",
       "      <td>POINT (986751 194303)</td>\n",
       "    </tr>\n",
       "  </tbody>\n",
       "</table>\n",
       "</div>"
      ],
      "text/plain": [
       "  level_0  level_1 Agency             Closed Date       Complaint Type  \\\n",
       "0  000100   203592    DOB  04/10/2017 02:02:26 PM  Special Enforcement   \n",
       "1  000100   178552    DEP  03/29/2017 05:00:00 PM                 Lead   \n",
       "\n",
       "             Created Date                                         Descriptor  \\\n",
       "0  04/10/2017 02:02:26 PM  SEP - Professional Certification Compliance Audit   \n",
       "1  03/28/2017 05:00:00 PM               Lead Kit Request (Residential) (L10)   \n",
       "\n",
       "  Incident Zip  Unique Key               geometry  \n",
       "0        11201  35909960.0  POINT (986020 194280)  \n",
       "1        11201  35812477.0  POINT (986751 194303)  "
      ]
     },
     "execution_count": 20,
     "metadata": {},
     "output_type": "execute_result"
    }
   ],
   "source": [
    "noise_ct.head(2)"
   ]
  },
  {
   "cell_type": "code",
   "execution_count": 21,
   "metadata": {
    "collapsed": false
   },
   "outputs": [],
   "source": [
    "noise_ct = noise_ct.rename(columns={'level_0':'CT2010'})\n",
    "noise_ct = noise_ct.drop('level_1',axis=1)"
   ]
  },
  {
   "cell_type": "code",
   "execution_count": 22,
   "metadata": {
    "collapsed": false
   },
   "outputs": [
    {
     "data": {
      "text/html": [
       "<div>\n",
       "<table border=\"1\" class=\"dataframe\">\n",
       "  <thead>\n",
       "    <tr style=\"text-align: right;\">\n",
       "      <th></th>\n",
       "      <th>CT2010</th>\n",
       "      <th>Agency</th>\n",
       "      <th>Closed Date</th>\n",
       "      <th>Complaint Type</th>\n",
       "      <th>Created Date</th>\n",
       "      <th>Descriptor</th>\n",
       "      <th>Incident Zip</th>\n",
       "      <th>Unique Key</th>\n",
       "      <th>geometry</th>\n",
       "    </tr>\n",
       "  </thead>\n",
       "  <tbody>\n",
       "    <tr>\n",
       "      <th>0</th>\n",
       "      <td>000100</td>\n",
       "      <td>DOB</td>\n",
       "      <td>04/10/2017 02:02:26 PM</td>\n",
       "      <td>Special Enforcement</td>\n",
       "      <td>04/10/2017 02:02:26 PM</td>\n",
       "      <td>SEP - Professional Certification Compliance Audit</td>\n",
       "      <td>11201</td>\n",
       "      <td>35909960.0</td>\n",
       "      <td>POINT (986020 194280)</td>\n",
       "    </tr>\n",
       "    <tr>\n",
       "      <th>1</th>\n",
       "      <td>000100</td>\n",
       "      <td>DEP</td>\n",
       "      <td>03/29/2017 05:00:00 PM</td>\n",
       "      <td>Lead</td>\n",
       "      <td>03/28/2017 05:00:00 PM</td>\n",
       "      <td>Lead Kit Request (Residential) (L10)</td>\n",
       "      <td>11201</td>\n",
       "      <td>35812477.0</td>\n",
       "      <td>POINT (986751 194303)</td>\n",
       "    </tr>\n",
       "  </tbody>\n",
       "</table>\n",
       "</div>"
      ],
      "text/plain": [
       "   CT2010 Agency             Closed Date       Complaint Type  \\\n",
       "0  000100    DOB  04/10/2017 02:02:26 PM  Special Enforcement   \n",
       "1  000100    DEP  03/29/2017 05:00:00 PM                 Lead   \n",
       "\n",
       "             Created Date                                         Descriptor  \\\n",
       "0  04/10/2017 02:02:26 PM  SEP - Professional Certification Compliance Audit   \n",
       "1  03/28/2017 05:00:00 PM               Lead Kit Request (Residential) (L10)   \n",
       "\n",
       "  Incident Zip  Unique Key               geometry  \n",
       "0        11201  35909960.0  POINT (986020 194280)  \n",
       "1        11201  35812477.0  POINT (986751 194303)  "
      ]
     },
     "execution_count": 22,
     "metadata": {},
     "output_type": "execute_result"
    }
   ],
   "source": [
    "noise_ct.head(2)"
   ]
  },
  {
   "cell_type": "code",
   "execution_count": 24,
   "metadata": {
    "collapsed": false
   },
   "outputs": [],
   "source": [
    "noise_ct['CT2010'] = noise_ct['CT2010'].astype(str)"
   ]
  },
  {
   "cell_type": "code",
   "execution_count": 25,
   "metadata": {
    "collapsed": false
   },
   "outputs": [],
   "source": [
    "noise_ct['Census Tract'] = noise_ct['CT2010'].apply(lambda s: s.lstrip(\"0\"))"
   ]
  },
  {
   "cell_type": "code",
   "execution_count": 28,
   "metadata": {
    "collapsed": false
   },
   "outputs": [
    {
     "data": {
      "text/html": [
       "<div>\n",
       "<table border=\"1\" class=\"dataframe\">\n",
       "  <thead>\n",
       "    <tr style=\"text-align: right;\">\n",
       "      <th></th>\n",
       "      <th>CT2010</th>\n",
       "      <th>Agency</th>\n",
       "      <th>Closed Date</th>\n",
       "      <th>Complaint Type</th>\n",
       "      <th>Created Date</th>\n",
       "      <th>Descriptor</th>\n",
       "      <th>Incident Zip</th>\n",
       "      <th>Unique Key</th>\n",
       "      <th>geometry</th>\n",
       "      <th>Census Tract</th>\n",
       "    </tr>\n",
       "  </thead>\n",
       "  <tbody>\n",
       "    <tr>\n",
       "      <th>0</th>\n",
       "      <td>000100</td>\n",
       "      <td>DOB</td>\n",
       "      <td>04/10/2017 02:02:26 PM</td>\n",
       "      <td>Special Enforcement</td>\n",
       "      <td>04/10/2017 02:02:26 PM</td>\n",
       "      <td>SEP - Professional Certification Compliance Audit</td>\n",
       "      <td>11201</td>\n",
       "      <td>35909960.0</td>\n",
       "      <td>POINT (986020 194280)</td>\n",
       "      <td>100</td>\n",
       "    </tr>\n",
       "    <tr>\n",
       "      <th>1</th>\n",
       "      <td>000100</td>\n",
       "      <td>DEP</td>\n",
       "      <td>03/29/2017 05:00:00 PM</td>\n",
       "      <td>Lead</td>\n",
       "      <td>03/28/2017 05:00:00 PM</td>\n",
       "      <td>Lead Kit Request (Residential) (L10)</td>\n",
       "      <td>11201</td>\n",
       "      <td>35812477.0</td>\n",
       "      <td>POINT (986751 194303)</td>\n",
       "      <td>100</td>\n",
       "    </tr>\n",
       "  </tbody>\n",
       "</table>\n",
       "</div>"
      ],
      "text/plain": [
       "   CT2010 Agency             Closed Date       Complaint Type  \\\n",
       "0  000100    DOB  04/10/2017 02:02:26 PM  Special Enforcement   \n",
       "1  000100    DEP  03/29/2017 05:00:00 PM                 Lead   \n",
       "\n",
       "             Created Date                                         Descriptor  \\\n",
       "0  04/10/2017 02:02:26 PM  SEP - Professional Certification Compliance Audit   \n",
       "1  03/28/2017 05:00:00 PM               Lead Kit Request (Residential) (L10)   \n",
       "\n",
       "  Incident Zip  Unique Key               geometry Census Tract  \n",
       "0        11201  35909960.0  POINT (986020 194280)          100  \n",
       "1        11201  35812477.0  POINT (986751 194303)          100  "
      ]
     },
     "execution_count": 28,
     "metadata": {},
     "output_type": "execute_result"
    }
   ],
   "source": [
    "noise_ct.head(2)"
   ]
  },
  {
   "cell_type": "code",
   "execution_count": 26,
   "metadata": {
    "collapsed": false
   },
   "outputs": [],
   "source": [
    "pop = pd.read_csv('../data/New_York_City_Population_By_Census_Tracts.csv')"
   ]
  },
  {
   "cell_type": "code",
   "execution_count": 27,
   "metadata": {
    "collapsed": false
   },
   "outputs": [
    {
     "data": {
      "text/html": [
       "<div>\n",
       "<table border=\"1\" class=\"dataframe\">\n",
       "  <thead>\n",
       "    <tr style=\"text-align: right;\">\n",
       "      <th></th>\n",
       "      <th>Borough</th>\n",
       "      <th>Year</th>\n",
       "      <th>FIPS County Code</th>\n",
       "      <th>DCP Borough Code</th>\n",
       "      <th>Census Tract</th>\n",
       "      <th>Population</th>\n",
       "    </tr>\n",
       "  </thead>\n",
       "  <tbody>\n",
       "    <tr>\n",
       "      <th>0</th>\n",
       "      <td>Bronx</td>\n",
       "      <td>2000</td>\n",
       "      <td>5</td>\n",
       "      <td>2</td>\n",
       "      <td>100</td>\n",
       "      <td>12780</td>\n",
       "    </tr>\n",
       "    <tr>\n",
       "      <th>1</th>\n",
       "      <td>Bronx</td>\n",
       "      <td>2000</td>\n",
       "      <td>5</td>\n",
       "      <td>2</td>\n",
       "      <td>200</td>\n",
       "      <td>3545</td>\n",
       "    </tr>\n",
       "  </tbody>\n",
       "</table>\n",
       "</div>"
      ],
      "text/plain": [
       "  Borough  Year  FIPS County Code  DCP Borough Code  Census Tract  Population\n",
       "0   Bronx  2000                 5                 2           100       12780\n",
       "1   Bronx  2000                 5                 2           200        3545"
      ]
     },
     "execution_count": 27,
     "metadata": {},
     "output_type": "execute_result"
    }
   ],
   "source": [
    "pop.head(2)"
   ]
  },
  {
   "cell_type": "code",
   "execution_count": 29,
   "metadata": {
    "collapsed": false
   },
   "outputs": [],
   "source": [
    "pop = pop[pop['Year']==2010]"
   ]
  },
  {
   "cell_type": "code",
   "execution_count": 30,
   "metadata": {
    "collapsed": true
   },
   "outputs": [],
   "source": [
    "pop['Census Tract'] = pop['Census Tract'].astype(str)\n",
    "noise_ct['Census Tract'] = noise_ct['Census Tract'].astype(str)"
   ]
  },
  {
   "cell_type": "code",
   "execution_count": 31,
   "metadata": {
    "collapsed": false
   },
   "outputs": [
    {
     "data": {
      "text/html": [
       "<div>\n",
       "<table border=\"1\" class=\"dataframe\">\n",
       "  <thead>\n",
       "    <tr style=\"text-align: right;\">\n",
       "      <th></th>\n",
       "      <th>Borough</th>\n",
       "      <th>Year</th>\n",
       "      <th>FIPS County Code</th>\n",
       "      <th>DCP Borough Code</th>\n",
       "      <th>Census Tract</th>\n",
       "      <th>Population</th>\n",
       "    </tr>\n",
       "  </thead>\n",
       "  <tbody>\n",
       "    <tr>\n",
       "      <th>2168</th>\n",
       "      <td>Bronx</td>\n",
       "      <td>2010</td>\n",
       "      <td>5</td>\n",
       "      <td>2</td>\n",
       "      <td>100</td>\n",
       "      <td>11091</td>\n",
       "    </tr>\n",
       "    <tr>\n",
       "      <th>2169</th>\n",
       "      <td>Bronx</td>\n",
       "      <td>2010</td>\n",
       "      <td>5</td>\n",
       "      <td>2</td>\n",
       "      <td>200</td>\n",
       "      <td>4334</td>\n",
       "    </tr>\n",
       "  </tbody>\n",
       "</table>\n",
       "</div>"
      ],
      "text/plain": [
       "     Borough  Year  FIPS County Code  DCP Borough Code Census Tract  \\\n",
       "2168   Bronx  2010                 5                 2          100   \n",
       "2169   Bronx  2010                 5                 2          200   \n",
       "\n",
       "      Population  \n",
       "2168       11091  \n",
       "2169        4334  "
      ]
     },
     "execution_count": 31,
     "metadata": {},
     "output_type": "execute_result"
    }
   ],
   "source": [
    "pop.head(2)"
   ]
  },
  {
   "cell_type": "code",
   "execution_count": 32,
   "metadata": {
    "collapsed": false
   },
   "outputs": [],
   "source": [
    "ct_noise_pop = pd.merge(noise_ct, pop, on='Census Tract', how='outer')"
   ]
  },
  {
   "cell_type": "code",
   "execution_count": 33,
   "metadata": {
    "collapsed": false
   },
   "outputs": [
    {
     "data": {
      "text/html": [
       "<div>\n",
       "<table border=\"1\" class=\"dataframe\">\n",
       "  <thead>\n",
       "    <tr style=\"text-align: right;\">\n",
       "      <th></th>\n",
       "      <th>CT2010</th>\n",
       "      <th>Agency</th>\n",
       "      <th>Closed Date</th>\n",
       "      <th>Complaint Type</th>\n",
       "      <th>Created Date</th>\n",
       "      <th>Descriptor</th>\n",
       "      <th>Incident Zip</th>\n",
       "      <th>Unique Key</th>\n",
       "      <th>geometry</th>\n",
       "      <th>Census Tract</th>\n",
       "      <th>Borough</th>\n",
       "      <th>Year</th>\n",
       "      <th>FIPS County Code</th>\n",
       "      <th>DCP Borough Code</th>\n",
       "      <th>Population</th>\n",
       "    </tr>\n",
       "  </thead>\n",
       "  <tbody>\n",
       "    <tr>\n",
       "      <th>0</th>\n",
       "      <td>000100</td>\n",
       "      <td>DOB</td>\n",
       "      <td>04/10/2017 02:02:26 PM</td>\n",
       "      <td>Special Enforcement</td>\n",
       "      <td>04/10/2017 02:02:26 PM</td>\n",
       "      <td>SEP - Professional Certification Compliance Audit</td>\n",
       "      <td>11201</td>\n",
       "      <td>35909960.0</td>\n",
       "      <td>POINT (986020 194280)</td>\n",
       "      <td>100</td>\n",
       "      <td>Bronx</td>\n",
       "      <td>2010</td>\n",
       "      <td>5</td>\n",
       "      <td>2</td>\n",
       "      <td>11091</td>\n",
       "    </tr>\n",
       "    <tr>\n",
       "      <th>1</th>\n",
       "      <td>000100</td>\n",
       "      <td>DOB</td>\n",
       "      <td>04/10/2017 02:02:26 PM</td>\n",
       "      <td>Special Enforcement</td>\n",
       "      <td>04/10/2017 02:02:26 PM</td>\n",
       "      <td>SEP - Professional Certification Compliance Audit</td>\n",
       "      <td>11201</td>\n",
       "      <td>35909960.0</td>\n",
       "      <td>POINT (986020 194280)</td>\n",
       "      <td>100</td>\n",
       "      <td>Brooklyn</td>\n",
       "      <td>2010</td>\n",
       "      <td>47</td>\n",
       "      <td>3</td>\n",
       "      <td>4338</td>\n",
       "    </tr>\n",
       "  </tbody>\n",
       "</table>\n",
       "</div>"
      ],
      "text/plain": [
       "   CT2010 Agency             Closed Date       Complaint Type  \\\n",
       "0  000100    DOB  04/10/2017 02:02:26 PM  Special Enforcement   \n",
       "1  000100    DOB  04/10/2017 02:02:26 PM  Special Enforcement   \n",
       "\n",
       "             Created Date                                         Descriptor  \\\n",
       "0  04/10/2017 02:02:26 PM  SEP - Professional Certification Compliance Audit   \n",
       "1  04/10/2017 02:02:26 PM  SEP - Professional Certification Compliance Audit   \n",
       "\n",
       "  Incident Zip  Unique Key               geometry Census Tract   Borough  \\\n",
       "0        11201  35909960.0  POINT (986020 194280)          100     Bronx   \n",
       "1        11201  35909960.0  POINT (986020 194280)          100  Brooklyn   \n",
       "\n",
       "   Year  FIPS County Code  DCP Borough Code  Population  \n",
       "0  2010                 5                 2       11091  \n",
       "1  2010                47                 3        4338  "
      ]
     },
     "execution_count": 33,
     "metadata": {},
     "output_type": "execute_result"
    }
   ],
   "source": [
    "ct_noise_pop.head(2)"
   ]
  },
  {
   "cell_type": "code",
   "execution_count": 34,
   "metadata": {
    "collapsed": false
   },
   "outputs": [
    {
     "data": {
      "text/plain": [
       "geopandas.geodataframe.GeoDataFrame"
      ]
     },
     "execution_count": 34,
     "metadata": {},
     "output_type": "execute_result"
    }
   ],
   "source": [
    "type(ct_noise_pop)"
   ]
  },
  {
   "cell_type": "code",
   "execution_count": 38,
   "metadata": {
    "collapsed": false
   },
   "outputs": [
    {
     "name": "stdout",
     "output_type": "stream",
     "text": [
      "135487\n",
      "224925\n",
      "135486\n"
     ]
    }
   ],
   "source": [
    "print len(ct_noise_pop['Unique Key'].unique())\n",
    "print len(noise['Unique Key'].unique())\n",
    "print len(noise_ct['Unique Key'].unique())"
   ]
  },
  {
   "cell_type": "code",
   "execution_count": 36,
   "metadata": {
    "collapsed": false
   },
   "outputs": [],
   "source": [
    "#ct_noise_pop.to_file('../data/ct_noise_pop/ct_noise_pop.shp',driver='ESRI Shapefile')"
   ]
  }
 ],
 "metadata": {
  "kernelspec": {
   "display_name": "Python 2",
   "language": "python",
   "name": "python2"
  },
  "language_info": {
   "codemirror_mode": {
    "name": "ipython",
    "version": 2
   },
   "file_extension": ".py",
   "mimetype": "text/x-python",
   "name": "python",
   "nbconvert_exporter": "python",
   "pygments_lexer": "ipython2",
   "version": "2.7.12"
  }
 },
 "nbformat": 4,
 "nbformat_minor": 1
}
