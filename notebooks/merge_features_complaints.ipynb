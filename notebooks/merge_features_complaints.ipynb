{
 "cells": [
  {
   "cell_type": "code",
   "execution_count": 1,
   "metadata": {
    "collapsed": true
   },
   "outputs": [],
   "source": [
    "#__autho__:KK\n",
    "#__date__:Apr27\n",
    "# this notebook merges pluto, census tract, and noise complaint data into single files based on time\n",
    "# please refer corresponding cells and copy paste to the head of your notebook to avoid redundant data cleaning!\n",
    "import pandas as pd\n",
    "import numpy as np\n",
    "import os\n",
    "cwd = os.getcwd()"
   ]
  },
  {
   "cell_type": "markdown",
   "metadata": {},
   "source": [
    "### copied from claire's code"
   ]
  },
  {
   "cell_type": "code",
   "execution_count": 2,
   "metadata": {
    "collapsed": false
   },
   "outputs": [],
   "source": [
    "ct = pd.read_csv('../data/boroct_ct_merge.csv')\n",
    "bbl = pd.read_csv('../data/bbl_c_ct_pop.csv')\n",
    "\n",
    "output_path = os.path.join(os.path.dirname(cwd), 'output')\n",
    "data_path = os.path.join(os.path.dirname(cwd), 'data')"
   ]
  },
  {
   "cell_type": "code",
   "execution_count": 3,
   "metadata": {
    "collapsed": false
   },
   "outputs": [],
   "source": [
    "ct = ct.drop('Unnamed: 0',axis=1)\n",
    "bbl = bbl.drop(['Unnamed: 0', 'Complaint Count'],axis=1)"
   ]
  },
  {
   "cell_type": "code",
   "execution_count": 4,
   "metadata": {
    "collapsed": true
   },
   "outputs": [],
   "source": [
    "file_name = ['reduce_year_ct.txt', 'reduce_month_ct.txt', 'reduce_hour_ct.txt', 'reduce_ct.txt', 'reduce_day_ct.txt']"
   ]
  },
  {
   "cell_type": "code",
   "execution_count": 5,
   "metadata": {
    "collapsed": false
   },
   "outputs": [],
   "source": [
    "data = {}\n",
    "level = ['year', 'month', 'hour', 'all', 'day']\n",
    "for i in range(3):\n",
    "    dt = np.loadtxt(os.path.join(output_path,file_name[i]), str)\n",
    "    dt = dt[dt != '''(NR10)\"'),''']\n",
    "    data1 = pd.DataFrame(dt.reshape((dt.shape[0]/3 ,3)), columns=[level[i], 'ct', 'count'])\n",
    "    data1.iloc[0,0] = data1.iloc[0,0][1:]\n",
    "    data1.iloc[-1,-1] = data1.iloc[-1,-1][:-1]\n",
    "    year_list = data1.apply(lambda x: int(x[0][2:-1].replace('(','')), axis = 1)\n",
    "    zipcode_list = data1.apply(lambda x: x[1][2:-3], axis = 1)\n",
    "    counts_list = data1.apply(lambda x: int(x[2][:-2].replace(')','')), axis = 1)\n",
    "    \n",
    "    data_ = pd.DataFrame({level[i]: year_list, 'ct':zipcode_list, 'counts': counts_list})\n",
    "    data[level[i]] = data_"
   ]
  },
  {
   "cell_type": "markdown",
   "metadata": {},
   "source": [
    "### merge features and count of complaints"
   ]
  },
  {
   "cell_type": "code",
   "execution_count": 6,
   "metadata": {
    "collapsed": true
   },
   "outputs": [],
   "source": [
    "bbl['GEOID'] = bbl['GEOID'].astype(str)\n",
    "ct['GEOID'] = ct['GEOID'].astype(str)"
   ]
  },
  {
   "cell_type": "code",
   "execution_count": 7,
   "metadata": {
    "collapsed": false
   },
   "outputs": [],
   "source": [
    "features = pd.merge(ct, bbl, on='GEOID')"
   ]
  },
  {
   "cell_type": "code",
   "execution_count": 8,
   "metadata": {
    "collapsed": false
   },
   "outputs": [
    {
     "data": {
      "text/html": [
       "<div>\n",
       "<table border=\"1\" class=\"dataframe\">\n",
       "  <thead>\n",
       "    <tr style=\"text-align: right;\">\n",
       "      <th></th>\n",
       "      <th>GEOID</th>\n",
       "      <th>BoroCT2010</th>\n",
       "      <th>BldgAge</th>\n",
       "      <th>NumFloors</th>\n",
       "      <th>AssessTot</th>\n",
       "      <th>BldgArea</th>\n",
       "      <th>BldgDepth</th>\n",
       "      <th>BldgFront</th>\n",
       "      <th>ComArea</th>\n",
       "      <th>FactryArea</th>\n",
       "      <th>GarageArea</th>\n",
       "      <th>NumBldgs</th>\n",
       "      <th>OfficeArea</th>\n",
       "      <th>OtherArea</th>\n",
       "      <th>StrgeArea</th>\n",
       "      <th>StrgeArea.1</th>\n",
       "      <th>Population</th>\n",
       "    </tr>\n",
       "  </thead>\n",
       "  <tbody>\n",
       "    <tr>\n",
       "      <th>0</th>\n",
       "      <td>36005002701</td>\n",
       "      <td>2002701</td>\n",
       "      <td>88.800000</td>\n",
       "      <td>4.233333</td>\n",
       "      <td>6.938555e+05</td>\n",
       "      <td>48279.733333</td>\n",
       "      <td>81.239000</td>\n",
       "      <td>57.386000</td>\n",
       "      <td>5442.000000</td>\n",
       "      <td>1208.333333</td>\n",
       "      <td>158.333333</td>\n",
       "      <td>1.366667</td>\n",
       "      <td>299.466667</td>\n",
       "      <td>8.666667</td>\n",
       "      <td>0.000000</td>\n",
       "      <td>0.000000</td>\n",
       "      <td>3016.0</td>\n",
       "    </tr>\n",
       "    <tr>\n",
       "      <th>1</th>\n",
       "      <td>36005003300</td>\n",
       "      <td>2003300</td>\n",
       "      <td>52.786585</td>\n",
       "      <td>3.131098</td>\n",
       "      <td>3.080311e+05</td>\n",
       "      <td>10604.829268</td>\n",
       "      <td>50.717500</td>\n",
       "      <td>35.610061</td>\n",
       "      <td>3262.195122</td>\n",
       "      <td>1602.042683</td>\n",
       "      <td>54.054878</td>\n",
       "      <td>1.073171</td>\n",
       "      <td>194.512195</td>\n",
       "      <td>658.060976</td>\n",
       "      <td>709.707317</td>\n",
       "      <td>709.707317</td>\n",
       "      <td>3912.0</td>\n",
       "    </tr>\n",
       "    <tr>\n",
       "      <th>2</th>\n",
       "      <td>36005003500</td>\n",
       "      <td>2003500</td>\n",
       "      <td>84.161290</td>\n",
       "      <td>3.020161</td>\n",
       "      <td>4.463263e+05</td>\n",
       "      <td>15322.701613</td>\n",
       "      <td>69.696129</td>\n",
       "      <td>48.383145</td>\n",
       "      <td>5705.177419</td>\n",
       "      <td>1824.822581</td>\n",
       "      <td>298.040323</td>\n",
       "      <td>1.225806</td>\n",
       "      <td>285.838710</td>\n",
       "      <td>2301.564516</td>\n",
       "      <td>396.548387</td>\n",
       "      <td>396.548387</td>\n",
       "      <td>3948.0</td>\n",
       "    </tr>\n",
       "    <tr>\n",
       "      <th>3</th>\n",
       "      <td>36005003700</td>\n",
       "      <td>2003700</td>\n",
       "      <td>51.142857</td>\n",
       "      <td>4.547619</td>\n",
       "      <td>1.488484e+06</td>\n",
       "      <td>41197.428571</td>\n",
       "      <td>63.452857</td>\n",
       "      <td>52.713810</td>\n",
       "      <td>3206.142857</td>\n",
       "      <td>0.000000</td>\n",
       "      <td>0.000000</td>\n",
       "      <td>1.238095</td>\n",
       "      <td>0.000000</td>\n",
       "      <td>2987.095238</td>\n",
       "      <td>0.000000</td>\n",
       "      <td>0.000000</td>\n",
       "      <td>246.0</td>\n",
       "    </tr>\n",
       "    <tr>\n",
       "      <th>4</th>\n",
       "      <td>36005003800</td>\n",
       "      <td>2003800</td>\n",
       "      <td>62.634328</td>\n",
       "      <td>2.317164</td>\n",
       "      <td>3.815140e+04</td>\n",
       "      <td>2924.626866</td>\n",
       "      <td>42.661716</td>\n",
       "      <td>22.343881</td>\n",
       "      <td>34.701493</td>\n",
       "      <td>0.000000</td>\n",
       "      <td>0.000000</td>\n",
       "      <td>1.119403</td>\n",
       "      <td>0.000000</td>\n",
       "      <td>34.701493</td>\n",
       "      <td>0.000000</td>\n",
       "      <td>0.000000</td>\n",
       "      <td>1193.0</td>\n",
       "    </tr>\n",
       "  </tbody>\n",
       "</table>\n",
       "</div>"
      ],
      "text/plain": [
       "         GEOID  BoroCT2010    BldgAge  NumFloors     AssessTot      BldgArea  \\\n",
       "0  36005002701     2002701  88.800000   4.233333  6.938555e+05  48279.733333   \n",
       "1  36005003300     2003300  52.786585   3.131098  3.080311e+05  10604.829268   \n",
       "2  36005003500     2003500  84.161290   3.020161  4.463263e+05  15322.701613   \n",
       "3  36005003700     2003700  51.142857   4.547619  1.488484e+06  41197.428571   \n",
       "4  36005003800     2003800  62.634328   2.317164  3.815140e+04   2924.626866   \n",
       "\n",
       "   BldgDepth  BldgFront      ComArea   FactryArea  GarageArea  NumBldgs  \\\n",
       "0  81.239000  57.386000  5442.000000  1208.333333  158.333333  1.366667   \n",
       "1  50.717500  35.610061  3262.195122  1602.042683   54.054878  1.073171   \n",
       "2  69.696129  48.383145  5705.177419  1824.822581  298.040323  1.225806   \n",
       "3  63.452857  52.713810  3206.142857     0.000000    0.000000  1.238095   \n",
       "4  42.661716  22.343881    34.701493     0.000000    0.000000  1.119403   \n",
       "\n",
       "   OfficeArea    OtherArea   StrgeArea  StrgeArea.1  Population  \n",
       "0  299.466667     8.666667    0.000000     0.000000      3016.0  \n",
       "1  194.512195   658.060976  709.707317   709.707317      3912.0  \n",
       "2  285.838710  2301.564516  396.548387   396.548387      3948.0  \n",
       "3    0.000000  2987.095238    0.000000     0.000000       246.0  \n",
       "4    0.000000    34.701493    0.000000     0.000000      1193.0  "
      ]
     },
     "execution_count": 8,
     "metadata": {},
     "output_type": "execute_result"
    }
   ],
   "source": [
    "features.head()"
   ]
  },
  {
   "cell_type": "code",
   "execution_count": 9,
   "metadata": {
    "collapsed": false
   },
   "outputs": [
    {
     "name": "stdout",
     "output_type": "stream",
     "text": [
      "2159\n"
     ]
    }
   ],
   "source": [
    "print len(features.GEOID.unique())"
   ]
  },
  {
   "cell_type": "code",
   "execution_count": 10,
   "metadata": {
    "collapsed": true
   },
   "outputs": [],
   "source": [
    "features = features.drop(['StrgeArea.1', 'FactryArea', 'GarageArea', 'OfficeArea', 'StrgeArea', 'OtherArea'],axis=1)"
   ]
  },
  {
   "cell_type": "code",
   "execution_count": 11,
   "metadata": {
    "collapsed": false
   },
   "outputs": [],
   "source": [
    "demo = pd.read_csv('../data/demo_boroct_merged_data.csv')"
   ]
  },
  {
   "cell_type": "code",
   "execution_count": 12,
   "metadata": {
    "collapsed": false
   },
   "outputs": [
    {
     "data": {
      "text/html": [
       "<div>\n",
       "<table border=\"1\" class=\"dataframe\">\n",
       "  <thead>\n",
       "    <tr style=\"text-align: right;\">\n",
       "      <th></th>\n",
       "      <th>Id2</th>\n",
       "      <th>median_hh_inc</th>\n",
       "    </tr>\n",
       "  </thead>\n",
       "  <tbody>\n",
       "    <tr>\n",
       "      <th>0</th>\n",
       "      <td>36005000100</td>\n",
       "      <td>-</td>\n",
       "    </tr>\n",
       "    <tr>\n",
       "      <th>1</th>\n",
       "      <td>36005000200</td>\n",
       "      <td>72034</td>\n",
       "    </tr>\n",
       "  </tbody>\n",
       "</table>\n",
       "</div>"
      ],
      "text/plain": [
       "           Id2 median_hh_inc\n",
       "0  36005000100             -\n",
       "1  36005000200         72034"
      ]
     },
     "execution_count": 12,
     "metadata": {},
     "output_type": "execute_result"
    }
   ],
   "source": [
    "earn = pd.read_csv('../data/ACS_15_5YR_S1903/ACS_15_5YR_S1903_with_ann.csv',header=1)\n",
    "earn = earn[['Id2', 'Median income (dollars); Estimate; Households']]\n",
    "earn = earn.rename(columns={'Median income (dollars); Estimate; Households':'median_hh_inc'})\n",
    "earn.head(2)"
   ]
  },
  {
   "cell_type": "code",
   "execution_count": 13,
   "metadata": {
    "collapsed": false
   },
   "outputs": [],
   "source": [
    "earn['median_hh_inc'] = pd.to_numeric(earn['median_hh_inc'], errors='coerce')"
   ]
  },
  {
   "cell_type": "code",
   "execution_count": 14,
   "metadata": {
    "collapsed": false
   },
   "outputs": [
    {
     "data": {
      "text/plain": [
       "Id2               0\n",
       "median_hh_inc    66\n",
       "dtype: int64"
      ]
     },
     "execution_count": 14,
     "metadata": {},
     "output_type": "execute_result"
    }
   ],
   "source": [
    "earn.isnull().sum()"
   ]
  },
  {
   "cell_type": "code",
   "execution_count": 15,
   "metadata": {
    "collapsed": false
   },
   "outputs": [],
   "source": [
    "gender = demo[['GEO.id2', 'Female; Estimate; Total population']]\n",
    "gender = gender.rename(columns={'Female; Estimate; Total population':'female_pop'})"
   ]
  },
  {
   "cell_type": "code",
   "execution_count": 16,
   "metadata": {
    "collapsed": false
   },
   "outputs": [
    {
     "data": {
      "text/html": [
       "<div>\n",
       "<table border=\"1\" class=\"dataframe\">\n",
       "  <thead>\n",
       "    <tr style=\"text-align: right;\">\n",
       "      <th></th>\n",
       "      <th>GEO.id2</th>\n",
       "      <th>female_pop</th>\n",
       "    </tr>\n",
       "  </thead>\n",
       "  <tbody>\n",
       "    <tr>\n",
       "      <th>0</th>\n",
       "      <td>36005002701</td>\n",
       "      <td>1641</td>\n",
       "    </tr>\n",
       "    <tr>\n",
       "      <th>1</th>\n",
       "      <td>36005003300</td>\n",
       "      <td>2088</td>\n",
       "    </tr>\n",
       "  </tbody>\n",
       "</table>\n",
       "</div>"
      ],
      "text/plain": [
       "       GEO.id2  female_pop\n",
       "0  36005002701        1641\n",
       "1  36005003300        2088"
      ]
     },
     "execution_count": 16,
     "metadata": {},
     "output_type": "execute_result"
    }
   ],
   "source": [
    "gender.head(2)"
   ]
  },
  {
   "cell_type": "code",
   "execution_count": 17,
   "metadata": {
    "collapsed": false
   },
   "outputs": [
    {
     "data": {
      "text/plain": [
       "GEO.id2       0\n",
       "female_pop    0\n",
       "dtype: int64"
      ]
     },
     "execution_count": 17,
     "metadata": {},
     "output_type": "execute_result"
    }
   ],
   "source": [
    "gender.isnull().sum()"
   ]
  },
  {
   "cell_type": "code",
   "execution_count": 18,
   "metadata": {
    "collapsed": true
   },
   "outputs": [],
   "source": [
    "race = demo[['GEO.id2', u'Total; Estimate; White alone, not Hispanic or Latino',\n",
    "       u'Total; Estimate; Black alone',\n",
    "       u'Total; Estimate; American Indian or Alaska Native alone',\n",
    "       u'Total; Estimate; Asian alone',\n",
    "       u'Total; Estimate; Native Hawaiian and Other Pacific Islander alone',\n",
    "       u'Total; Estimate; Some other race alone',\n",
    "       u'Total; Estimate; Two or more races',\n",
    "       u'Total; Estimate; Hispanic or Latino Origin']]\n",
    "race = race.rename(columns={u'Total; Estimate; White alone, not Hispanic or Latino':'white_pop',\n",
    "       u'Total; Estimate; Black alone':'black_pop',\n",
    "       u'Total; Estimate; American Indian or Alaska Native alone':'native_pop',\n",
    "       u'Total; Estimate; Asian alone':'asian_pop',\n",
    "       u'Total; Estimate; Native Hawaiian and Other Pacific Islander alone':'islander_pop',\n",
    "       u'Total; Estimate; Some other race alone':'otherrace_pop',\n",
    "       u'Total; Estimate; Two or more races':'tworaces_pop',\n",
    "       u'Total; Estimate; Hispanic or Latino Origin':'hisplat_pop'})"
   ]
  },
  {
   "cell_type": "code",
   "execution_count": 19,
   "metadata": {
    "collapsed": false
   },
   "outputs": [],
   "source": [
    "age = demo[['GEO.id2', 'Total; Estimate; Population 65 years and over']]\n",
    "age = age.rename(columns={'Total; Estimate; Population 65 years and over':'elderly_pop'})"
   ]
  },
  {
   "cell_type": "code",
   "execution_count": 20,
   "metadata": {
    "collapsed": false
   },
   "outputs": [
    {
     "name": "stdout",
     "output_type": "stream",
     "text": [
      "2167\n"
     ]
    }
   ],
   "source": [
    "age['GEO.id2'] = age['GEO.id2'].astype(str)\n",
    "earn['Id2'] = earn['Id2'].astype(str)\n",
    "demo = pd.merge(age, earn, left_on='GEO.id2', right_on='Id2')\n",
    "print len(demo.Id2.unique())"
   ]
  },
  {
   "cell_type": "code",
   "execution_count": 21,
   "metadata": {
    "collapsed": false
   },
   "outputs": [
    {
     "name": "stdout",
     "output_type": "stream",
     "text": [
      "2167\n"
     ]
    }
   ],
   "source": [
    "gender['GEO.id2'] = gender['GEO.id2'].astype(str)\n",
    "demo = pd.merge(gender, demo, on='GEO.id2')\n",
    "print len(demo.Id2.unique())"
   ]
  },
  {
   "cell_type": "code",
   "execution_count": 22,
   "metadata": {
    "collapsed": false
   },
   "outputs": [
    {
     "name": "stdout",
     "output_type": "stream",
     "text": [
      "2167\n"
     ]
    }
   ],
   "source": [
    "race['GEO.id2'] = race['GEO.id2'].astype(str)\n",
    "demo = pd.merge(race, demo, on='GEO.id2')\n",
    "print len(demo.Id2.unique())"
   ]
  },
  {
   "cell_type": "code",
   "execution_count": 23,
   "metadata": {
    "collapsed": false
   },
   "outputs": [
    {
     "data": {
      "text/html": [
       "<div>\n",
       "<table border=\"1\" class=\"dataframe\">\n",
       "  <thead>\n",
       "    <tr style=\"text-align: right;\">\n",
       "      <th></th>\n",
       "      <th>GEO.id2</th>\n",
       "      <th>white_pop</th>\n",
       "      <th>black_pop</th>\n",
       "      <th>native_pop</th>\n",
       "      <th>asian_pop</th>\n",
       "      <th>islander_pop</th>\n",
       "      <th>otherrace_pop</th>\n",
       "      <th>tworaces_pop</th>\n",
       "      <th>hisplat_pop</th>\n",
       "      <th>female_pop</th>\n",
       "      <th>elderly_pop</th>\n",
       "      <th>median_hh_inc</th>\n",
       "    </tr>\n",
       "  </thead>\n",
       "  <tbody>\n",
       "    <tr>\n",
       "      <th>0</th>\n",
       "      <td>36005002701</td>\n",
       "      <td>0</td>\n",
       "      <td>560</td>\n",
       "      <td>0</td>\n",
       "      <td>0</td>\n",
       "      <td>0</td>\n",
       "      <td>753</td>\n",
       "      <td>26</td>\n",
       "      <td>1160</td>\n",
       "      <td>1641</td>\n",
       "      <td>189</td>\n",
       "      <td>20153.0</td>\n",
       "    </tr>\n",
       "    <tr>\n",
       "      <th>1</th>\n",
       "      <td>36005003300</td>\n",
       "      <td>24</td>\n",
       "      <td>716</td>\n",
       "      <td>31</td>\n",
       "      <td>0</td>\n",
       "      <td>0</td>\n",
       "      <td>838</td>\n",
       "      <td>38</td>\n",
       "      <td>1421</td>\n",
       "      <td>2088</td>\n",
       "      <td>244</td>\n",
       "      <td>19923.0</td>\n",
       "    </tr>\n",
       "    <tr>\n",
       "      <th>2</th>\n",
       "      <td>36005003500</td>\n",
       "      <td>16</td>\n",
       "      <td>808</td>\n",
       "      <td>18</td>\n",
       "      <td>0</td>\n",
       "      <td>0</td>\n",
       "      <td>1266</td>\n",
       "      <td>69</td>\n",
       "      <td>1702</td>\n",
       "      <td>2027</td>\n",
       "      <td>350</td>\n",
       "      <td>26541.0</td>\n",
       "    </tr>\n",
       "    <tr>\n",
       "      <th>3</th>\n",
       "      <td>36005003700</td>\n",
       "      <td>44</td>\n",
       "      <td>34</td>\n",
       "      <td>0</td>\n",
       "      <td>0</td>\n",
       "      <td>0</td>\n",
       "      <td>77</td>\n",
       "      <td>0</td>\n",
       "      <td>106</td>\n",
       "      <td>118</td>\n",
       "      <td>5</td>\n",
       "      <td>NaN</td>\n",
       "    </tr>\n",
       "    <tr>\n",
       "      <th>4</th>\n",
       "      <td>36005003800</td>\n",
       "      <td>14</td>\n",
       "      <td>380</td>\n",
       "      <td>0</td>\n",
       "      <td>15</td>\n",
       "      <td>0</td>\n",
       "      <td>172</td>\n",
       "      <td>15</td>\n",
       "      <td>428</td>\n",
       "      <td>651</td>\n",
       "      <td>157</td>\n",
       "      <td>37685.0</td>\n",
       "    </tr>\n",
       "  </tbody>\n",
       "</table>\n",
       "</div>"
      ],
      "text/plain": [
       "       GEO.id2  white_pop  black_pop  native_pop  asian_pop  islander_pop  \\\n",
       "0  36005002701          0        560           0          0             0   \n",
       "1  36005003300         24        716          31          0             0   \n",
       "2  36005003500         16        808          18          0             0   \n",
       "3  36005003700         44         34           0          0             0   \n",
       "4  36005003800         14        380           0         15             0   \n",
       "\n",
       "   otherrace_pop  tworaces_pop  hisplat_pop  female_pop  elderly_pop  \\\n",
       "0            753            26         1160        1641          189   \n",
       "1            838            38         1421        2088          244   \n",
       "2           1266            69         1702        2027          350   \n",
       "3             77             0          106         118            5   \n",
       "4            172            15          428         651          157   \n",
       "\n",
       "   median_hh_inc  \n",
       "0        20153.0  \n",
       "1        19923.0  \n",
       "2        26541.0  \n",
       "3            NaN  \n",
       "4        37685.0  "
      ]
     },
     "execution_count": 23,
     "metadata": {},
     "output_type": "execute_result"
    }
   ],
   "source": [
    "demo = demo.drop('Id2',axis=1)\n",
    "demo.head()"
   ]
  },
  {
   "cell_type": "code",
   "execution_count": 24,
   "metadata": {
    "collapsed": false
   },
   "outputs": [],
   "source": [
    "demo['GEO.id2'] = demo['GEO.id2'].astype(str)\n",
    "features['GEOID'] = features['GEOID'].astype(str)\n",
    "features = pd.merge(features, demo, left_on='GEOID', right_on='GEO.id2')"
   ]
  },
  {
   "cell_type": "code",
   "execution_count": 25,
   "metadata": {
    "collapsed": false
   },
   "outputs": [
    {
     "data": {
      "text/html": [
       "<div>\n",
       "<table border=\"1\" class=\"dataframe\">\n",
       "  <thead>\n",
       "    <tr style=\"text-align: right;\">\n",
       "      <th></th>\n",
       "      <th>BoroCT2010</th>\n",
       "      <th>BldgAge</th>\n",
       "      <th>NumFloors</th>\n",
       "      <th>AssessTot</th>\n",
       "      <th>BldgArea</th>\n",
       "      <th>BldgDepth</th>\n",
       "      <th>BldgFront</th>\n",
       "      <th>ComArea</th>\n",
       "      <th>NumBldgs</th>\n",
       "      <th>Population</th>\n",
       "      <th>...</th>\n",
       "      <th>black_pop</th>\n",
       "      <th>native_pop</th>\n",
       "      <th>asian_pop</th>\n",
       "      <th>islander_pop</th>\n",
       "      <th>otherrace_pop</th>\n",
       "      <th>tworaces_pop</th>\n",
       "      <th>hisplat_pop</th>\n",
       "      <th>female_pop</th>\n",
       "      <th>elderly_pop</th>\n",
       "      <th>median_hh_inc</th>\n",
       "    </tr>\n",
       "  </thead>\n",
       "  <tbody>\n",
       "    <tr>\n",
       "      <th>0</th>\n",
       "      <td>2002701</td>\n",
       "      <td>88.800000</td>\n",
       "      <td>4.233333</td>\n",
       "      <td>6.938555e+05</td>\n",
       "      <td>48279.733333</td>\n",
       "      <td>81.239000</td>\n",
       "      <td>57.386000</td>\n",
       "      <td>5442.000000</td>\n",
       "      <td>1.366667</td>\n",
       "      <td>3016.0</td>\n",
       "      <td>...</td>\n",
       "      <td>560</td>\n",
       "      <td>0</td>\n",
       "      <td>0</td>\n",
       "      <td>0</td>\n",
       "      <td>753</td>\n",
       "      <td>26</td>\n",
       "      <td>1160</td>\n",
       "      <td>1641</td>\n",
       "      <td>189</td>\n",
       "      <td>20153.0</td>\n",
       "    </tr>\n",
       "    <tr>\n",
       "      <th>1</th>\n",
       "      <td>2003300</td>\n",
       "      <td>52.786585</td>\n",
       "      <td>3.131098</td>\n",
       "      <td>3.080311e+05</td>\n",
       "      <td>10604.829268</td>\n",
       "      <td>50.717500</td>\n",
       "      <td>35.610061</td>\n",
       "      <td>3262.195122</td>\n",
       "      <td>1.073171</td>\n",
       "      <td>3912.0</td>\n",
       "      <td>...</td>\n",
       "      <td>716</td>\n",
       "      <td>31</td>\n",
       "      <td>0</td>\n",
       "      <td>0</td>\n",
       "      <td>838</td>\n",
       "      <td>38</td>\n",
       "      <td>1421</td>\n",
       "      <td>2088</td>\n",
       "      <td>244</td>\n",
       "      <td>19923.0</td>\n",
       "    </tr>\n",
       "    <tr>\n",
       "      <th>2</th>\n",
       "      <td>2003500</td>\n",
       "      <td>84.161290</td>\n",
       "      <td>3.020161</td>\n",
       "      <td>4.463263e+05</td>\n",
       "      <td>15322.701613</td>\n",
       "      <td>69.696129</td>\n",
       "      <td>48.383145</td>\n",
       "      <td>5705.177419</td>\n",
       "      <td>1.225806</td>\n",
       "      <td>3948.0</td>\n",
       "      <td>...</td>\n",
       "      <td>808</td>\n",
       "      <td>18</td>\n",
       "      <td>0</td>\n",
       "      <td>0</td>\n",
       "      <td>1266</td>\n",
       "      <td>69</td>\n",
       "      <td>1702</td>\n",
       "      <td>2027</td>\n",
       "      <td>350</td>\n",
       "      <td>26541.0</td>\n",
       "    </tr>\n",
       "    <tr>\n",
       "      <th>3</th>\n",
       "      <td>2003700</td>\n",
       "      <td>51.142857</td>\n",
       "      <td>4.547619</td>\n",
       "      <td>1.488484e+06</td>\n",
       "      <td>41197.428571</td>\n",
       "      <td>63.452857</td>\n",
       "      <td>52.713810</td>\n",
       "      <td>3206.142857</td>\n",
       "      <td>1.238095</td>\n",
       "      <td>246.0</td>\n",
       "      <td>...</td>\n",
       "      <td>34</td>\n",
       "      <td>0</td>\n",
       "      <td>0</td>\n",
       "      <td>0</td>\n",
       "      <td>77</td>\n",
       "      <td>0</td>\n",
       "      <td>106</td>\n",
       "      <td>118</td>\n",
       "      <td>5</td>\n",
       "      <td>NaN</td>\n",
       "    </tr>\n",
       "    <tr>\n",
       "      <th>4</th>\n",
       "      <td>2003800</td>\n",
       "      <td>62.634328</td>\n",
       "      <td>2.317164</td>\n",
       "      <td>3.815140e+04</td>\n",
       "      <td>2924.626866</td>\n",
       "      <td>42.661716</td>\n",
       "      <td>22.343881</td>\n",
       "      <td>34.701493</td>\n",
       "      <td>1.119403</td>\n",
       "      <td>1193.0</td>\n",
       "      <td>...</td>\n",
       "      <td>380</td>\n",
       "      <td>0</td>\n",
       "      <td>15</td>\n",
       "      <td>0</td>\n",
       "      <td>172</td>\n",
       "      <td>15</td>\n",
       "      <td>428</td>\n",
       "      <td>651</td>\n",
       "      <td>157</td>\n",
       "      <td>37685.0</td>\n",
       "    </tr>\n",
       "  </tbody>\n",
       "</table>\n",
       "<p>5 rows × 21 columns</p>\n",
       "</div>"
      ],
      "text/plain": [
       "   BoroCT2010    BldgAge  NumFloors     AssessTot      BldgArea  BldgDepth  \\\n",
       "0     2002701  88.800000   4.233333  6.938555e+05  48279.733333  81.239000   \n",
       "1     2003300  52.786585   3.131098  3.080311e+05  10604.829268  50.717500   \n",
       "2     2003500  84.161290   3.020161  4.463263e+05  15322.701613  69.696129   \n",
       "3     2003700  51.142857   4.547619  1.488484e+06  41197.428571  63.452857   \n",
       "4     2003800  62.634328   2.317164  3.815140e+04   2924.626866  42.661716   \n",
       "\n",
       "   BldgFront      ComArea  NumBldgs  Population      ...        black_pop  \\\n",
       "0  57.386000  5442.000000  1.366667      3016.0      ...              560   \n",
       "1  35.610061  3262.195122  1.073171      3912.0      ...              716   \n",
       "2  48.383145  5705.177419  1.225806      3948.0      ...              808   \n",
       "3  52.713810  3206.142857  1.238095       246.0      ...               34   \n",
       "4  22.343881    34.701493  1.119403      1193.0      ...              380   \n",
       "\n",
       "   native_pop  asian_pop  islander_pop  otherrace_pop  tworaces_pop  \\\n",
       "0           0          0             0            753            26   \n",
       "1          31          0             0            838            38   \n",
       "2          18          0             0           1266            69   \n",
       "3           0          0             0             77             0   \n",
       "4           0         15             0            172            15   \n",
       "\n",
       "   hisplat_pop  female_pop  elderly_pop  median_hh_inc  \n",
       "0         1160        1641          189        20153.0  \n",
       "1         1421        2088          244        19923.0  \n",
       "2         1702        2027          350        26541.0  \n",
       "3          106         118            5            NaN  \n",
       "4          428         651          157        37685.0  \n",
       "\n",
       "[5 rows x 21 columns]"
      ]
     },
     "execution_count": 25,
     "metadata": {},
     "output_type": "execute_result"
    }
   ],
   "source": [
    "features = features.drop(['GEOID','GEO.id2'],axis=1)\n",
    "features.head()"
   ]
  },
  {
   "cell_type": "code",
   "execution_count": 26,
   "metadata": {
    "collapsed": false
   },
   "outputs": [
    {
     "name": "stderr",
     "output_type": "stream",
     "text": [
      "/anaconda/lib/python2.7/site-packages/ipykernel/__main__.py:1: FutureWarning: convert_objects is deprecated.  Use the data-type specific converters pd.to_datetime, pd.to_timedelta and pd.to_numeric.\n",
      "  if __name__ == '__main__':\n"
     ]
    }
   ],
   "source": [
    "features = features.convert_objects(convert_numeric=True)"
   ]
  },
  {
   "cell_type": "code",
   "execution_count": 27,
   "metadata": {
    "collapsed": false
   },
   "outputs": [],
   "source": [
    "features = features[features['Population']>0]"
   ]
  },
  {
   "cell_type": "code",
   "execution_count": 28,
   "metadata": {
    "collapsed": false
   },
   "outputs": [
    {
     "data": {
      "text/html": [
       "<div>\n",
       "<table border=\"1\" class=\"dataframe\">\n",
       "  <thead>\n",
       "    <tr style=\"text-align: right;\">\n",
       "      <th></th>\n",
       "      <th>white_pop</th>\n",
       "      <th>black_pop</th>\n",
       "      <th>native_pop</th>\n",
       "      <th>asian_pop</th>\n",
       "      <th>islander_pop</th>\n",
       "      <th>otherrace_pop</th>\n",
       "      <th>tworaces_pop</th>\n",
       "      <th>hisplat_pop</th>\n",
       "      <th>female_pop</th>\n",
       "      <th>elderly_pop</th>\n",
       "      <th>median_hh_inc</th>\n",
       "    </tr>\n",
       "  </thead>\n",
       "  <tbody>\n",
       "    <tr>\n",
       "      <th>0</th>\n",
       "      <td>0</td>\n",
       "      <td>560</td>\n",
       "      <td>0</td>\n",
       "      <td>0</td>\n",
       "      <td>0</td>\n",
       "      <td>753</td>\n",
       "      <td>26</td>\n",
       "      <td>1160</td>\n",
       "      <td>1641</td>\n",
       "      <td>189</td>\n",
       "      <td>20153.0</td>\n",
       "    </tr>\n",
       "    <tr>\n",
       "      <th>1</th>\n",
       "      <td>24</td>\n",
       "      <td>716</td>\n",
       "      <td>31</td>\n",
       "      <td>0</td>\n",
       "      <td>0</td>\n",
       "      <td>838</td>\n",
       "      <td>38</td>\n",
       "      <td>1421</td>\n",
       "      <td>2088</td>\n",
       "      <td>244</td>\n",
       "      <td>19923.0</td>\n",
       "    </tr>\n",
       "    <tr>\n",
       "      <th>2</th>\n",
       "      <td>16</td>\n",
       "      <td>808</td>\n",
       "      <td>18</td>\n",
       "      <td>0</td>\n",
       "      <td>0</td>\n",
       "      <td>1266</td>\n",
       "      <td>69</td>\n",
       "      <td>1702</td>\n",
       "      <td>2027</td>\n",
       "      <td>350</td>\n",
       "      <td>26541.0</td>\n",
       "    </tr>\n",
       "    <tr>\n",
       "      <th>3</th>\n",
       "      <td>44</td>\n",
       "      <td>34</td>\n",
       "      <td>0</td>\n",
       "      <td>0</td>\n",
       "      <td>0</td>\n",
       "      <td>77</td>\n",
       "      <td>0</td>\n",
       "      <td>106</td>\n",
       "      <td>118</td>\n",
       "      <td>5</td>\n",
       "      <td>NaN</td>\n",
       "    </tr>\n",
       "    <tr>\n",
       "      <th>4</th>\n",
       "      <td>14</td>\n",
       "      <td>380</td>\n",
       "      <td>0</td>\n",
       "      <td>15</td>\n",
       "      <td>0</td>\n",
       "      <td>172</td>\n",
       "      <td>15</td>\n",
       "      <td>428</td>\n",
       "      <td>651</td>\n",
       "      <td>157</td>\n",
       "      <td>37685.0</td>\n",
       "    </tr>\n",
       "  </tbody>\n",
       "</table>\n",
       "</div>"
      ],
      "text/plain": [
       "   white_pop  black_pop  native_pop  asian_pop  islander_pop  otherrace_pop  \\\n",
       "0          0        560           0          0             0            753   \n",
       "1         24        716          31          0             0            838   \n",
       "2         16        808          18          0             0           1266   \n",
       "3         44         34           0          0             0             77   \n",
       "4         14        380           0         15             0            172   \n",
       "\n",
       "   tworaces_pop  hisplat_pop  female_pop  elderly_pop  median_hh_inc  \n",
       "0            26         1160        1641          189        20153.0  \n",
       "1            38         1421        2088          244        19923.0  \n",
       "2            69         1702        2027          350        26541.0  \n",
       "3             0          106         118            5            NaN  \n",
       "4            15          428         651          157        37685.0  "
      ]
     },
     "execution_count": 28,
     "metadata": {},
     "output_type": "execute_result"
    }
   ],
   "source": [
    "features.iloc[:,10:].head()"
   ]
  },
  {
   "cell_type": "code",
   "execution_count": 29,
   "metadata": {
    "collapsed": false
   },
   "outputs": [],
   "source": [
    "features.iloc[:,[10, 11, 12, 13, 14, 15, 16, 17, 18, 19, 20]] = features.iloc[:,[10, 11, 12, 13, 14, 15, 16, 17, 18, 19, 20]].div(features['Population'],axis='index')\n",
    "features['ComArea'] = features['ComArea'].div(features['BldgArea'],axis='index')\n",
    "features = features.drop('BldgArea',axis=1)"
   ]
  },
  {
   "cell_type": "code",
   "execution_count": 30,
   "metadata": {
    "collapsed": true
   },
   "outputs": [],
   "source": [
    "features['BldgDepthbyFront'] = features['BldgDepth']*features['BldgFront']\n",
    "features = features.drop(['BldgDepth','BldgFront'],axis=1)"
   ]
  },
  {
   "cell_type": "code",
   "execution_count": 31,
   "metadata": {
    "collapsed": false
   },
   "outputs": [],
   "source": [
    "features['allother_race_pop'] = features['otherrace_pop']+features['native_pop']+features['islander_pop']\n",
    "features = features.drop(['otherrace_pop','native_pop','islander_pop'],axis=1)"
   ]
  },
  {
   "cell_type": "code",
   "execution_count": 32,
   "metadata": {
    "collapsed": false
   },
   "outputs": [
    {
     "data": {
      "text/html": [
       "<div>\n",
       "<table border=\"1\" class=\"dataframe\">\n",
       "  <thead>\n",
       "    <tr style=\"text-align: right;\">\n",
       "      <th></th>\n",
       "      <th>BoroCT2010</th>\n",
       "      <th>BldgAge</th>\n",
       "      <th>NumFloors</th>\n",
       "      <th>AssessTot</th>\n",
       "      <th>ComArea</th>\n",
       "      <th>NumBldgs</th>\n",
       "      <th>Population</th>\n",
       "      <th>white_pop</th>\n",
       "      <th>black_pop</th>\n",
       "      <th>asian_pop</th>\n",
       "      <th>tworaces_pop</th>\n",
       "      <th>hisplat_pop</th>\n",
       "      <th>female_pop</th>\n",
       "      <th>elderly_pop</th>\n",
       "      <th>median_hh_inc</th>\n",
       "      <th>BldgDepthbyFront</th>\n",
       "      <th>allother_race_pop</th>\n",
       "    </tr>\n",
       "  </thead>\n",
       "  <tbody>\n",
       "    <tr>\n",
       "      <th>0</th>\n",
       "      <td>2002701</td>\n",
       "      <td>88.800000</td>\n",
       "      <td>4.233333</td>\n",
       "      <td>693855.533333</td>\n",
       "      <td>0.112718</td>\n",
       "      <td>1.366667</td>\n",
       "      <td>3016.0</td>\n",
       "      <td>0.000000</td>\n",
       "      <td>0.185676</td>\n",
       "      <td>0.0</td>\n",
       "      <td>0.008621</td>\n",
       "      <td>0.384615</td>\n",
       "      <td>0.544098</td>\n",
       "      <td>0.062666</td>\n",
       "      <td>6.682029</td>\n",
       "      <td>4661.981254</td>\n",
       "      <td>0.249668</td>\n",
       "    </tr>\n",
       "    <tr>\n",
       "      <th>1</th>\n",
       "      <td>2003300</td>\n",
       "      <td>52.786585</td>\n",
       "      <td>3.131098</td>\n",
       "      <td>308031.140244</td>\n",
       "      <td>0.307614</td>\n",
       "      <td>1.073171</td>\n",
       "      <td>3912.0</td>\n",
       "      <td>0.006135</td>\n",
       "      <td>0.183027</td>\n",
       "      <td>0.0</td>\n",
       "      <td>0.009714</td>\n",
       "      <td>0.363241</td>\n",
       "      <td>0.533742</td>\n",
       "      <td>0.062372</td>\n",
       "      <td>5.092791</td>\n",
       "      <td>1806.053268</td>\n",
       "      <td>0.222137</td>\n",
       "    </tr>\n",
       "  </tbody>\n",
       "</table>\n",
       "</div>"
      ],
      "text/plain": [
       "   BoroCT2010    BldgAge  NumFloors      AssessTot   ComArea  NumBldgs  \\\n",
       "0     2002701  88.800000   4.233333  693855.533333  0.112718  1.366667   \n",
       "1     2003300  52.786585   3.131098  308031.140244  0.307614  1.073171   \n",
       "\n",
       "   Population  white_pop  black_pop  asian_pop  tworaces_pop  hisplat_pop  \\\n",
       "0      3016.0   0.000000   0.185676        0.0      0.008621     0.384615   \n",
       "1      3912.0   0.006135   0.183027        0.0      0.009714     0.363241   \n",
       "\n",
       "   female_pop  elderly_pop  median_hh_inc  BldgDepthbyFront  allother_race_pop  \n",
       "0    0.544098     0.062666       6.682029       4661.981254           0.249668  \n",
       "1    0.533742     0.062372       5.092791       1806.053268           0.222137  "
      ]
     },
     "execution_count": 32,
     "metadata": {},
     "output_type": "execute_result"
    }
   ],
   "source": [
    "features.head(2)"
   ]
  },
  {
   "cell_type": "code",
   "execution_count": 33,
   "metadata": {
    "collapsed": false
   },
   "outputs": [
    {
     "name": "stdout",
     "output_type": "stream",
     "text": [
      "Populating the interactive namespace from numpy and matplotlib\n"
     ]
    },
    {
     "data": {
      "text/plain": [
       "<matplotlib.axes._subplots.AxesSubplot at 0x117932dd0>"
      ]
     },
     "execution_count": 33,
     "metadata": {},
     "output_type": "execute_result"
    },
    {
     "data": {
      "image/png": "[encoded data removed]",
      "text/plain": [
       "<matplotlib.figure.Figure at 0x116c47910>"
      ]
     },
     "metadata": {},
     "output_type": "display_data"
    }
   ],
   "source": [
    "import seaborn as sns\n",
    "import matplotlib.pyplot as plt\n",
    "%pylab inline\n",
    "\n",
    "sns.set(context=\"paper\", font=\"monospace\")\n",
    "\n",
    "corr = features.iloc[1:,:].corr()\n",
    "mask = np.zeros_like(corr, dtype=np.bool)\n",
    "mask[np.triu_indices_from(mask)] = True\n",
    "f, ax = plt.subplots(figsize=(11, 9))\n",
    "cmap = sns.diverging_palette(220, 10, as_cmap=True)\n",
    "\n",
    "sns.heatmap(corr, mask=mask, cmap=cmap, vmax=.3,\n",
    "            square=True, ax=ax)"
   ]
  },
  {
   "cell_type": "markdown",
   "metadata": {},
   "source": [
    "### create dataframes for export and analysis"
   ]
  },
  {
   "cell_type": "code",
   "execution_count": 34,
   "metadata": {
    "collapsed": false
   },
   "outputs": [
    {
     "name": "stdout",
     "output_type": "stream",
     "text": [
      "2127\n",
      "2161\n",
      "2127\n"
     ]
    }
   ],
   "source": [
    "data['year']['ct'] = data['year']['ct'].astype(str)\n",
    "features['BoroCT2010'] = features['BoroCT2010'].astype(str)\n",
    "year = pd.merge(features, data['year'], left_on='BoroCT2010', right_on='ct', how='left')\n",
    "year['comps_perperson'] = year['counts'].div(year['Population'])\n",
    "print len(year.ct.unique())\n",
    "print len(data['year']['ct'].unique())\n",
    "print len(year.BoroCT2010.unique())\n",
    "year = year.drop('Population',axis=1)\n",
    "year = year.dropna()\n",
    "year.to_csv('../output/year_data.csv')"
   ]
  },
  {
   "cell_type": "code",
   "execution_count": 35,
   "metadata": {
    "collapsed": false
   },
   "outputs": [
    {
     "data": {
      "text/plain": [
       "BoroCT2010           0\n",
       "BldgAge              0\n",
       "NumFloors            0\n",
       "AssessTot            0\n",
       "ComArea              0\n",
       "NumBldgs             0\n",
       "white_pop            0\n",
       "black_pop            0\n",
       "asian_pop            0\n",
       "tworaces_pop         0\n",
       "hisplat_pop          0\n",
       "female_pop           0\n",
       "elderly_pop          0\n",
       "median_hh_inc        0\n",
       "BldgDepthbyFront     0\n",
       "allother_race_pop    0\n",
       "counts               0\n",
       "ct                   0\n",
       "year                 0\n",
       "comps_perperson      0\n",
       "dtype: int64"
      ]
     },
     "execution_count": 35,
     "metadata": {},
     "output_type": "execute_result"
    }
   ],
   "source": [
    "year.isnull().sum()"
   ]
  },
  {
   "cell_type": "code",
   "execution_count": 36,
   "metadata": {
    "collapsed": false
   },
   "outputs": [
    {
     "name": "stdout",
     "output_type": "stream",
     "text": [
      "2127\n",
      "2161\n"
     ]
    }
   ],
   "source": [
    "data['month']['ct'] = data['month']['ct'].astype(str)\n",
    "features['BoroCT2010'] = features['BoroCT2010'].astype(str)\n",
    "month = pd.merge(features, data['month'], left_on='BoroCT2010', right_on='ct', how='left')\n",
    "month['comps_perperson'] = month['counts'].div(month['Population'])\n",
    "print len(month.ct.unique())\n",
    "print len(data['month']['ct'].unique())\n",
    "month = month.drop('Population',axis=1)\n",
    "month = month.dropna()\n",
    "month.to_csv('../output/month_data.csv')"
   ]
  },
  {
   "cell_type": "code",
   "execution_count": 37,
   "metadata": {
    "collapsed": false
   },
   "outputs": [
    {
     "data": {
      "text/plain": [
       "BoroCT2010           0\n",
       "BldgAge              0\n",
       "NumFloors            0\n",
       "AssessTot            0\n",
       "ComArea              0\n",
       "NumBldgs             0\n",
       "white_pop            0\n",
       "black_pop            0\n",
       "asian_pop            0\n",
       "tworaces_pop         0\n",
       "hisplat_pop          0\n",
       "female_pop           0\n",
       "elderly_pop          0\n",
       "median_hh_inc        0\n",
       "BldgDepthbyFront     0\n",
       "allother_race_pop    0\n",
       "counts               0\n",
       "ct                   0\n",
       "month                0\n",
       "comps_perperson      0\n",
       "dtype: int64"
      ]
     },
     "execution_count": 37,
     "metadata": {},
     "output_type": "execute_result"
    }
   ],
   "source": [
    "month.isnull().sum()"
   ]
  },
  {
   "cell_type": "code",
   "execution_count": 38,
   "metadata": {
    "collapsed": false
   },
   "outputs": [
    {
     "data": {
      "text/html": [
       "<div>\n",
       "<table border=\"1\" class=\"dataframe\">\n",
       "  <thead>\n",
       "    <tr style=\"text-align: right;\">\n",
       "      <th></th>\n",
       "      <th>counts</th>\n",
       "      <th>ct</th>\n",
       "      <th>month</th>\n",
       "    </tr>\n",
       "  </thead>\n",
       "  <tbody>\n",
       "    <tr>\n",
       "      <th>0</th>\n",
       "      <td>30</td>\n",
       "      <td>4122300</td>\n",
       "      <td>6</td>\n",
       "    </tr>\n",
       "    <tr>\n",
       "      <th>1</th>\n",
       "      <td>114</td>\n",
       "      <td>1002202</td>\n",
       "      <td>6</td>\n",
       "    </tr>\n",
       "    <tr>\n",
       "      <th>2</th>\n",
       "      <td>24</td>\n",
       "      <td>3002000</td>\n",
       "      <td>1</td>\n",
       "    </tr>\n",
       "    <tr>\n",
       "      <th>3</th>\n",
       "      <td>166</td>\n",
       "      <td>3044100</td>\n",
       "      <td>7</td>\n",
       "    </tr>\n",
       "    <tr>\n",
       "      <th>4</th>\n",
       "      <td>192</td>\n",
       "      <td>2040100</td>\n",
       "      <td>3</td>\n",
       "    </tr>\n",
       "  </tbody>\n",
       "</table>\n",
       "</div>"
      ],
      "text/plain": [
       "   counts       ct  month\n",
       "0      30  4122300      6\n",
       "1     114  1002202      6\n",
       "2      24  3002000      1\n",
       "3     166  3044100      7\n",
       "4     192  2040100      3"
      ]
     },
     "execution_count": 38,
     "metadata": {},
     "output_type": "execute_result"
    }
   ],
   "source": [
    "data['month'].head()"
   ]
  },
  {
   "cell_type": "code",
   "execution_count": 39,
   "metadata": {
    "collapsed": false
   },
   "outputs": [
    {
     "name": "stdout",
     "output_type": "stream",
     "text": [
      "2127\n",
      "2161\n"
     ]
    }
   ],
   "source": [
    "data['hour']['ct'] = data['hour']['ct'].astype(str)\n",
    "features['BoroCT2010'] = features['BoroCT2010'].astype(str)\n",
    "hour = pd.merge(features, data['hour'], left_on='BoroCT2010', right_on='ct', how='left')\n",
    "hour['comps_perperson'] = hour['counts'].div(hour['Population'])\n",
    "print len(hour.ct.unique())\n",
    "print len(data['hour']['ct'].unique())\n",
    "hour = hour.dropna()\n",
    "hour = hour.drop('Population',axis=1)\n",
    "hour.to_csv('../output/hour_data.csv')"
   ]
  },
  {
   "cell_type": "code",
   "execution_count": 40,
   "metadata": {
    "collapsed": false
   },
   "outputs": [
    {
     "data": {
      "text/plain": [
       "BoroCT2010           0\n",
       "BldgAge              0\n",
       "NumFloors            0\n",
       "AssessTot            0\n",
       "ComArea              0\n",
       "NumBldgs             0\n",
       "white_pop            0\n",
       "black_pop            0\n",
       "asian_pop            0\n",
       "tworaces_pop         0\n",
       "hisplat_pop          0\n",
       "female_pop           0\n",
       "elderly_pop          0\n",
       "median_hh_inc        0\n",
       "BldgDepthbyFront     0\n",
       "allother_race_pop    0\n",
       "counts               0\n",
       "ct                   0\n",
       "hour                 0\n",
       "comps_perperson      0\n",
       "dtype: int64"
      ]
     },
     "execution_count": 40,
     "metadata": {},
     "output_type": "execute_result"
    }
   ],
   "source": [
    "hour.isnull().sum()"
   ]
  },
  {
   "cell_type": "code",
   "execution_count": 41,
   "metadata": {
    "collapsed": false
   },
   "outputs": [
    {
     "data": {
      "text/html": [
       "<div>\n",
       "<table border=\"1\" class=\"dataframe\">\n",
       "  <thead>\n",
       "    <tr style=\"text-align: right;\">\n",
       "      <th></th>\n",
       "      <th>counts</th>\n",
       "      <th>ct</th>\n",
       "      <th>hour</th>\n",
       "    </tr>\n",
       "  </thead>\n",
       "  <tbody>\n",
       "    <tr>\n",
       "      <th>0</th>\n",
       "      <td>3</td>\n",
       "      <td>4122300</td>\n",
       "      <td>6</td>\n",
       "    </tr>\n",
       "    <tr>\n",
       "      <th>1</th>\n",
       "      <td>22</td>\n",
       "      <td>1002202</td>\n",
       "      <td>6</td>\n",
       "    </tr>\n",
       "    <tr>\n",
       "      <th>2</th>\n",
       "      <td>19</td>\n",
       "      <td>3048800</td>\n",
       "      <td>20</td>\n",
       "    </tr>\n",
       "    <tr>\n",
       "      <th>3</th>\n",
       "      <td>28</td>\n",
       "      <td>3002000</td>\n",
       "      <td>1</td>\n",
       "    </tr>\n",
       "    <tr>\n",
       "      <th>4</th>\n",
       "      <td>10</td>\n",
       "      <td>3042400</td>\n",
       "      <td>20</td>\n",
       "    </tr>\n",
       "  </tbody>\n",
       "</table>\n",
       "</div>"
      ],
      "text/plain": [
       "   counts       ct  hour\n",
       "0       3  4122300     6\n",
       "1      22  1002202     6\n",
       "2      19  3048800    20\n",
       "3      28  3002000     1\n",
       "4      10  3042400    20"
      ]
     },
     "execution_count": 41,
     "metadata": {},
     "output_type": "execute_result"
    }
   ],
   "source": [
    "data['hour'].head()"
   ]
  },
  {
   "cell_type": "code",
   "execution_count": 42,
   "metadata": {
    "collapsed": false
   },
   "outputs": [
    {
     "name": "stdout",
     "output_type": "stream",
     "text": [
      "2127\n"
     ]
    }
   ],
   "source": [
    "allc = pd.DataFrame(year['counts'].groupby(year['BoroCT2010']).sum()).reset_index()\n",
    "allc = pd.merge(allc, features, on='BoroCT2010', how='right')\n",
    "allc['comps_perperson'] = allc['counts'].div(allc['Population'])\n",
    "print len(allc.BoroCT2010.unique())\n",
    "allc = allc.drop('Population',axis=1)\n",
    "allc = allc.dropna()\n",
    "allc.to_csv('../output/all_data.csv')"
   ]
  },
  {
   "cell_type": "markdown",
   "metadata": {},
   "source": [
    "### testing outputs"
   ]
  },
  {
   "cell_type": "code",
   "execution_count": 43,
   "metadata": {
    "collapsed": false
   },
   "outputs": [
    {
     "name": "stdout",
     "output_type": "stream",
     "text": [
      "BoroCT2010           0\n",
      "counts               0\n",
      "BldgAge              0\n",
      "NumFloors            0\n",
      "AssessTot            0\n",
      "ComArea              0\n",
      "NumBldgs             0\n",
      "white_pop            0\n",
      "black_pop            0\n",
      "asian_pop            0\n",
      "tworaces_pop         0\n",
      "hisplat_pop          0\n",
      "female_pop           0\n",
      "elderly_pop          0\n",
      "median_hh_inc        0\n",
      "BldgDepthbyFront     0\n",
      "allother_race_pop    0\n",
      "comps_perperson      0\n",
      "dtype: int64\n",
      "2101\n"
     ]
    },
    {
     "data": {
      "text/html": [
       "<div>\n",
       "<table border=\"1\" class=\"dataframe\">\n",
       "  <thead>\n",
       "    <tr style=\"text-align: right;\">\n",
       "      <th></th>\n",
       "      <th>BoroCT2010</th>\n",
       "      <th>counts</th>\n",
       "      <th>BldgAge</th>\n",
       "      <th>NumFloors</th>\n",
       "      <th>AssessTot</th>\n",
       "      <th>ComArea</th>\n",
       "      <th>NumBldgs</th>\n",
       "      <th>white_pop</th>\n",
       "      <th>black_pop</th>\n",
       "      <th>asian_pop</th>\n",
       "      <th>tworaces_pop</th>\n",
       "      <th>hisplat_pop</th>\n",
       "      <th>female_pop</th>\n",
       "      <th>elderly_pop</th>\n",
       "      <th>median_hh_inc</th>\n",
       "      <th>BldgDepthbyFront</th>\n",
       "      <th>allother_race_pop</th>\n",
       "      <th>comps_perperson</th>\n",
       "    </tr>\n",
       "  </thead>\n",
       "  <tbody>\n",
       "    <tr>\n",
       "      <th>0</th>\n",
       "      <td>1000201</td>\n",
       "      <td>725.0</td>\n",
       "      <td>104.861111</td>\n",
       "      <td>5.444444</td>\n",
       "      <td>2.597126e+06</td>\n",
       "      <td>0.431231</td>\n",
       "      <td>1.166667</td>\n",
       "      <td>0.113221</td>\n",
       "      <td>0.041562</td>\n",
       "      <td>0.341455</td>\n",
       "      <td>0.007166</td>\n",
       "      <td>0.251881</td>\n",
       "      <td>0.533859</td>\n",
       "      <td>0.210319</td>\n",
       "      <td>7.352562</td>\n",
       "      <td>4926.061449</td>\n",
       "      <td>0.150125</td>\n",
       "      <td>0.259764</td>\n",
       "    </tr>\n",
       "    <tr>\n",
       "      <th>1</th>\n",
       "      <td>1000202</td>\n",
       "      <td>2264.0</td>\n",
       "      <td>87.530612</td>\n",
       "      <td>5.862245</td>\n",
       "      <td>7.336789e+06</td>\n",
       "      <td>0.703564</td>\n",
       "      <td>3.673469</td>\n",
       "      <td>0.166967</td>\n",
       "      <td>0.123198</td>\n",
       "      <td>0.231720</td>\n",
       "      <td>0.024073</td>\n",
       "      <td>0.239959</td>\n",
       "      <td>0.573378</td>\n",
       "      <td>0.205458</td>\n",
       "      <td>3.821318</td>\n",
       "      <td>8921.366638</td>\n",
       "      <td>0.101828</td>\n",
       "      <td>0.291452</td>\n",
       "    </tr>\n",
       "    <tr>\n",
       "      <th>2</th>\n",
       "      <td>1000600</td>\n",
       "      <td>1626.0</td>\n",
       "      <td>92.378205</td>\n",
       "      <td>5.410256</td>\n",
       "      <td>2.117196e+06</td>\n",
       "      <td>0.312833</td>\n",
       "      <td>1.153846</td>\n",
       "      <td>0.031464</td>\n",
       "      <td>0.033296</td>\n",
       "      <td>0.425522</td>\n",
       "      <td>0.004301</td>\n",
       "      <td>0.211725</td>\n",
       "      <td>0.524773</td>\n",
       "      <td>0.236498</td>\n",
       "      <td>1.582205</td>\n",
       "      <td>2682.086887</td>\n",
       "      <td>0.173172</td>\n",
       "      <td>0.129520</td>\n",
       "    </tr>\n",
       "    <tr>\n",
       "      <th>3</th>\n",
       "      <td>1000700</td>\n",
       "      <td>3892.0</td>\n",
       "      <td>82.380282</td>\n",
       "      <td>22.848592</td>\n",
       "      <td>3.862563e+07</td>\n",
       "      <td>0.795166</td>\n",
       "      <td>1.154930</td>\n",
       "      <td>0.517171</td>\n",
       "      <td>0.023880</td>\n",
       "      <td>0.164771</td>\n",
       "      <td>0.002729</td>\n",
       "      <td>0.050603</td>\n",
       "      <td>0.520810</td>\n",
       "      <td>0.017626</td>\n",
       "      <td>13.400159</td>\n",
       "      <td>15137.844345</td>\n",
       "      <td>0.025927</td>\n",
       "      <td>0.442574</td>\n",
       "    </tr>\n",
       "    <tr>\n",
       "      <th>4</th>\n",
       "      <td>1000800</td>\n",
       "      <td>1458.0</td>\n",
       "      <td>99.950450</td>\n",
       "      <td>5.087838</td>\n",
       "      <td>1.019375e+06</td>\n",
       "      <td>0.356954</td>\n",
       "      <td>1.067568</td>\n",
       "      <td>0.045959</td>\n",
       "      <td>0.008875</td>\n",
       "      <td>0.668251</td>\n",
       "      <td>0.005917</td>\n",
       "      <td>0.028632</td>\n",
       "      <td>0.513788</td>\n",
       "      <td>0.173693</td>\n",
       "      <td>2.867089</td>\n",
       "      <td>2381.887370</td>\n",
       "      <td>0.034760</td>\n",
       "      <td>0.154041</td>\n",
       "    </tr>\n",
       "  </tbody>\n",
       "</table>\n",
       "</div>"
      ],
      "text/plain": [
       "   BoroCT2010  counts     BldgAge  NumFloors     AssessTot   ComArea  \\\n",
       "0     1000201   725.0  104.861111   5.444444  2.597126e+06  0.431231   \n",
       "1     1000202  2264.0   87.530612   5.862245  7.336789e+06  0.703564   \n",
       "2     1000600  1626.0   92.378205   5.410256  2.117196e+06  0.312833   \n",
       "3     1000700  3892.0   82.380282  22.848592  3.862563e+07  0.795166   \n",
       "4     1000800  1458.0   99.950450   5.087838  1.019375e+06  0.356954   \n",
       "\n",
       "   NumBldgs  white_pop  black_pop  asian_pop  tworaces_pop  hisplat_pop  \\\n",
       "0  1.166667   0.113221   0.041562   0.341455      0.007166     0.251881   \n",
       "1  3.673469   0.166967   0.123198   0.231720      0.024073     0.239959   \n",
       "2  1.153846   0.031464   0.033296   0.425522      0.004301     0.211725   \n",
       "3  1.154930   0.517171   0.023880   0.164771      0.002729     0.050603   \n",
       "4  1.067568   0.045959   0.008875   0.668251      0.005917     0.028632   \n",
       "\n",
       "   female_pop  elderly_pop  median_hh_inc  BldgDepthbyFront  \\\n",
       "0    0.533859     0.210319       7.352562       4926.061449   \n",
       "1    0.573378     0.205458       3.821318       8921.366638   \n",
       "2    0.524773     0.236498       1.582205       2682.086887   \n",
       "3    0.520810     0.017626      13.400159      15137.844345   \n",
       "4    0.513788     0.173693       2.867089       2381.887370   \n",
       "\n",
       "   allother_race_pop  comps_perperson  \n",
       "0           0.150125         0.259764  \n",
       "1           0.101828         0.291452  \n",
       "2           0.173172         0.129520  \n",
       "3           0.025927         0.442574  \n",
       "4           0.034760         0.154041  "
      ]
     },
     "execution_count": 43,
     "metadata": {},
     "output_type": "execute_result"
    }
   ],
   "source": [
    "read_all = pd.read_csv('../output/all_data.csv')\n",
    "read_all = read_all.drop('Unnamed: 0',axis=1)\n",
    "print read_all.isnull().sum()\n",
    "print len(read_all)\n",
    "read_all.head()"
   ]
  }
 ],
 "metadata": {
  "kernelspec": {
   "display_name": "Python 2",
   "language": "python",
   "name": "python2"
  },
  "language_info": {
   "codemirror_mode": {
    "name": "ipython",
    "version": 2
   },
   "file_extension": ".py",
   "mimetype": "text/x-python",
   "name": "python",
   "nbconvert_exporter": "python",
   "pygments_lexer": "ipython2",
   "version": "2.7.12"
  }
 },
 "nbformat": 4,
 "nbformat_minor": 1
}
