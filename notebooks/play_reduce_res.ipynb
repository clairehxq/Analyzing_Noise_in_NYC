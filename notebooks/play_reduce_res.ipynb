{
 "cells": [
  {
   "cell_type": "code",
   "execution_count": 183,
   "metadata": {
    "collapsed": false
   },
   "outputs": [
    {
     "name": "stdout",
     "output_type": "stream",
     "text": [
      "Populating the interactive namespace from numpy and matplotlib\n"
     ]
    }
   ],
   "source": [
    "#__autho__:CH\n",
    "#__date__:Apr25\n",
    "import pandas as pd\n",
    "import numpy as np\n",
    "import os\n",
    "import seaborn\n",
    "import matplotlib.pyplot as plt\n",
    "%pylab inline\n",
    "cwd = os.getcwd()\n",
    "\n",
    "data_path = os.path.join(os.path.dirname(cwd), 'output', 'reduce.txt')"
   ]
  },
  {
   "cell_type": "code",
   "execution_count": 175,
   "metadata": {
    "collapsed": false
   },
   "outputs": [
    {
     "data": {
      "text/html": [
       "<div>\n",
       "<table border=\"1\" class=\"dataframe\">\n",
       "  <thead>\n",
       "    <tr style=\"text-align: right;\">\n",
       "      <th></th>\n",
       "      <th>year</th>\n",
       "      <th>zipcode</th>\n",
       "      <th>count</th>\n",
       "    </tr>\n",
       "  </thead>\n",
       "  <tbody>\n",
       "    <tr>\n",
       "      <th>0</th>\n",
       "      <td>[((2016,</td>\n",
       "      <td>u'10028'),</td>\n",
       "      <td>2027),</td>\n",
       "    </tr>\n",
       "    <tr>\n",
       "      <th>1</th>\n",
       "      <td>((2010,</td>\n",
       "      <td>u'11204'),</td>\n",
       "      <td>965),</td>\n",
       "    </tr>\n",
       "    <tr>\n",
       "      <th>2</th>\n",
       "      <td>((2015,</td>\n",
       "      <td>u'10030'),</td>\n",
       "      <td>2899),</td>\n",
       "    </tr>\n",
       "    <tr>\n",
       "      <th>3</th>\n",
       "      <td>((2015,</td>\n",
       "      <td>u'11366'),</td>\n",
       "      <td>1740),</td>\n",
       "    </tr>\n",
       "    <tr>\n",
       "      <th>4</th>\n",
       "      <td>((2015,</td>\n",
       "      <td>u'10019'),</td>\n",
       "      <td>3434),</td>\n",
       "    </tr>\n",
       "  </tbody>\n",
       "</table>\n",
       "</div>"
      ],
      "text/plain": [
       "       year     zipcode   count\n",
       "0  [((2016,  u'10028'),  2027),\n",
       "1   ((2010,  u'11204'),   965),\n",
       "2   ((2015,  u'10030'),  2899),\n",
       "3   ((2015,  u'11366'),  1740),\n",
       "4   ((2015,  u'10019'),  3434),"
      ]
     },
     "execution_count": 175,
     "metadata": {},
     "output_type": "execute_result"
    }
   ],
   "source": [
    "data2 = np.loadtxt(data_path, str)\n",
    "data2 = data1[data2 != '''(NR10)\"'),''']\n",
    "data1 = pd.DataFrame(data2.reshape((data2.shape[0]/3 ,3)), columns=['year', 'zipcode', 'count'])\n",
    "data1.head()"
   ]
  },
  {
   "cell_type": "code",
   "execution_count": 177,
   "metadata": {
    "collapsed": false
   },
   "outputs": [],
   "source": [
    "# clean data format\n",
    "data.iloc[0,0] = data.iloc[0,0][1:]\n",
    "data.iloc[-1,-1] = data.iloc[-1,-1][:-1]\n",
    "\n",
    "year_list = data.apply(lambda x: x[0][2:-1], axis = 1)\n",
    "zipcode_list = data.apply(lambda x: x[1][2:-3], axis = 1)\n",
    "counts_list = data.apply(lambda x: int(x[2][:-2]), axis = 1)\n",
    "                    "
   ]
  },
  {
   "cell_type": "code",
   "execution_count": 178,
   "metadata": {
    "collapsed": false
   },
   "outputs": [],
   "source": [
    "data_ = pd.DataFrame({'year': year_list, 'zipcode':zipcode_list, 'counts': counts_list})"
   ]
  },
  {
   "cell_type": "code",
   "execution_count": 184,
   "metadata": {
    "collapsed": false
   },
   "outputs": [
    {
     "data": {
      "text/plain": [
       "<matplotlib.axes._subplots.AxesSubplot at 0x11ac8dfd0>"
      ]
     },
     "execution_count": 184,
     "metadata": {},
     "output_type": "execute_result"
    },
    {
     "data": {
      "image/png": "[encoded data removed]",
      "text/plain": [
       "<matplotlib.figure.Figure at 0x1163a2150>"
      ]
     },
     "metadata": {},
     "output_type": "display_data"
    }
   ],
   "source": [
    "# by year:\n",
    "by_year = data_.groupby('year', group_keys = False).size()\n",
    "by_year.plot()"
   ]
  }
 ],
 "metadata": {
  "anaconda-cloud": {},
  "kernelspec": {
   "display_name": "Python [Root]",
   "language": "python",
   "name": "Python [Root]"
  },
  "language_info": {
   "codemirror_mode": {
    "name": "ipython",
    "version": 2
   },
   "file_extension": ".py",
   "mimetype": "text/x-python",
   "name": "python",
   "nbconvert_exporter": "python",
   "pygments_lexer": "ipython2",
   "version": "2.7.13"
  }
 },
 "nbformat": 4,
 "nbformat_minor": 0
}
