{
 "cells": [
  {
   "cell_type": "code",
   "execution_count": 36,
   "metadata": {
    "collapsed": false
   },
   "outputs": [
    {
     "name": "stdout",
     "output_type": "stream",
     "text": [
      "Populating the interactive namespace from numpy and matplotlib\n"
     ]
    }
   ],
   "source": [
    "#__autho__:Ziman Z\n",
    "#__date__:Apr30\n",
    "# this notebook group the census tract based on the proportion of complaint counts by each hour of the day\n",
    "# please refer corresponding cells and copy paste to the head of your notebook to avoid redundant data cleaning!\n",
    "\n",
    "import pandas as pd\n",
    "import numpy as np\n",
    "import os\n",
    "import seaborn\n",
    "\n",
    "from sklearn.cluster import KMeans\n",
    "from scipy.cluster.hierarchy import dendrogram, linkage\n",
    "from scipy.cluster.hierarchy import fcluster   # flat cluster\n",
    "\n",
    "import matplotlib.pyplot as plt\n",
    "import geopandas as gpd\n",
    "import shapely\n",
    "import geojson\n",
    "import fiona\n",
    "%pylab inline\n",
    "cwd = os.getcwd()\n",
    "\n",
    "output_path = os.path.join(os.path.dirname(cwd), 'output')\n",
    "data_path = os.path.join(os.path.dirname(cwd), 'data')"
   ]
  },
  {
   "cell_type": "code",
   "execution_count": 3,
   "metadata": {
    "collapsed": true
   },
   "outputs": [],
   "source": [
    "file_name = ['reduce_year_ct.txt', 'reduce_month_ct.txt', 'reduce_hour_ct.txt', 'reduce_ct.txt', 'reduce_day_ct.txt']"
   ]
  },
  {
   "cell_type": "code",
   "execution_count": 5,
   "metadata": {
    "collapsed": false
   },
   "outputs": [],
   "source": [
    "df_hour = pd.read_csv('../output/hour_data.csv')"
   ]
  },
  {
   "cell_type": "code",
   "execution_count": 8,
   "metadata": {
    "collapsed": false
   },
   "outputs": [
    {
     "data": {
      "text/plain": [
       "array([True], dtype=object)"
      ]
     },
     "execution_count": 8,
     "metadata": {},
     "output_type": "execute_result"
    }
   ],
   "source": [
    "(df_hour.BoroCT2010 == df_hour.ct).unique()"
   ]
  },
  {
   "cell_type": "code",
   "execution_count": 10,
   "metadata": {
    "collapsed": false
   },
   "outputs": [],
   "source": [
    "df_hour = df_hour.ix[:, -4:]"
   ]
  },
  {
   "cell_type": "code",
   "execution_count": 11,
   "metadata": {
    "collapsed": false
   },
   "outputs": [
    {
     "data": {
      "text/plain": [
       "(49635, 4)"
      ]
     },
     "execution_count": 11,
     "metadata": {},
     "output_type": "execute_result"
    }
   ],
   "source": [
    "df_hour.shape"
   ]
  },
  {
   "cell_type": "code",
   "execution_count": 15,
   "metadata": {
    "collapsed": true
   },
   "outputs": [],
   "source": [
    "## Create hour--ct \n",
    "df_hour2 = df_hour.iloc[:, :-1]"
   ]
  },
  {
   "cell_type": "code",
   "execution_count": 25,
   "metadata": {
    "collapsed": false
   },
   "outputs": [
    {
     "data": {
      "text/html": [
       "<div>\n",
       "<table border=\"1\" class=\"dataframe\">\n",
       "  <thead>\n",
       "    <tr style=\"text-align: right;\">\n",
       "      <th></th>\n",
       "      <th>counts</th>\n",
       "      <th>ct</th>\n",
       "      <th>hour</th>\n",
       "    </tr>\n",
       "  </thead>\n",
       "  <tbody>\n",
       "    <tr>\n",
       "      <th>0</th>\n",
       "      <td>15.0</td>\n",
       "      <td>2002701</td>\n",
       "      <td>13.0</td>\n",
       "    </tr>\n",
       "    <tr>\n",
       "      <th>1</th>\n",
       "      <td>23.0</td>\n",
       "      <td>2002701</td>\n",
       "      <td>3.0</td>\n",
       "    </tr>\n",
       "    <tr>\n",
       "      <th>2</th>\n",
       "      <td>14.0</td>\n",
       "      <td>2002701</td>\n",
       "      <td>10.0</td>\n",
       "    </tr>\n",
       "  </tbody>\n",
       "</table>\n",
       "</div>"
      ],
      "text/plain": [
       "   counts       ct  hour\n",
       "0    15.0  2002701  13.0\n",
       "1    23.0  2002701   3.0\n",
       "2    14.0  2002701  10.0"
      ]
     },
     "execution_count": 25,
     "metadata": {},
     "output_type": "execute_result"
    }
   ],
   "source": [
    "df_hour2.head(3)"
   ]
  },
  {
   "cell_type": "code",
   "execution_count": 23,
   "metadata": {
    "collapsed": false
   },
   "outputs": [],
   "source": [
    "## get counts proportions in each hour\n",
    "#pd.DataFrame(df_hour.groupby(['ct','hour'])['counts'].sum())"
   ]
  },
  {
   "cell_type": "code",
   "execution_count": 26,
   "metadata": {
    "collapsed": true
   },
   "outputs": [],
   "source": [
    "## create pivot table for counts per hour per census tract\n",
    "hour_counts = df_hour2.pivot(index='ct', columns='hour', values='counts').fillna(0)"
   ]
  },
  {
   "cell_type": "code",
   "execution_count": 50,
   "metadata": {
    "collapsed": false
   },
   "outputs": [
    {
     "data": {
      "text/html": [
       "<div>\n",
       "<table border=\"1\" class=\"dataframe\">\n",
       "  <thead>\n",
       "    <tr style=\"text-align: right;\">\n",
       "      <th>hour</th>\n",
       "      <th>0.0</th>\n",
       "      <th>1.0</th>\n",
       "      <th>2.0</th>\n",
       "      <th>3.0</th>\n",
       "      <th>4.0</th>\n",
       "      <th>5.0</th>\n",
       "      <th>6.0</th>\n",
       "      <th>7.0</th>\n",
       "      <th>8.0</th>\n",
       "      <th>9.0</th>\n",
       "      <th>...</th>\n",
       "      <th>14.0</th>\n",
       "      <th>15.0</th>\n",
       "      <th>16.0</th>\n",
       "      <th>17.0</th>\n",
       "      <th>18.0</th>\n",
       "      <th>19.0</th>\n",
       "      <th>20.0</th>\n",
       "      <th>21.0</th>\n",
       "      <th>22.0</th>\n",
       "      <th>23.0</th>\n",
       "    </tr>\n",
       "    <tr>\n",
       "      <th>ct</th>\n",
       "      <th></th>\n",
       "      <th></th>\n",
       "      <th></th>\n",
       "      <th></th>\n",
       "      <th></th>\n",
       "      <th></th>\n",
       "      <th></th>\n",
       "      <th></th>\n",
       "      <th></th>\n",
       "      <th></th>\n",
       "      <th></th>\n",
       "      <th></th>\n",
       "      <th></th>\n",
       "      <th></th>\n",
       "      <th></th>\n",
       "      <th></th>\n",
       "      <th></th>\n",
       "      <th></th>\n",
       "      <th></th>\n",
       "      <th></th>\n",
       "      <th></th>\n",
       "    </tr>\n",
       "  </thead>\n",
       "  <tbody>\n",
       "    <tr>\n",
       "      <th>1000201</th>\n",
       "      <td>107.0</td>\n",
       "      <td>77.0</td>\n",
       "      <td>51.0</td>\n",
       "      <td>34.0</td>\n",
       "      <td>27.0</td>\n",
       "      <td>7.0</td>\n",
       "      <td>4.0</td>\n",
       "      <td>7.0</td>\n",
       "      <td>4.0</td>\n",
       "      <td>8.0</td>\n",
       "      <td>...</td>\n",
       "      <td>12.0</td>\n",
       "      <td>14.0</td>\n",
       "      <td>12.0</td>\n",
       "      <td>14.0</td>\n",
       "      <td>13.0</td>\n",
       "      <td>46.0</td>\n",
       "      <td>33.0</td>\n",
       "      <td>54.0</td>\n",
       "      <td>67.0</td>\n",
       "      <td>85.0</td>\n",
       "    </tr>\n",
       "    <tr>\n",
       "      <th>1000202</th>\n",
       "      <td>225.0</td>\n",
       "      <td>174.0</td>\n",
       "      <td>113.0</td>\n",
       "      <td>80.0</td>\n",
       "      <td>43.0</td>\n",
       "      <td>42.0</td>\n",
       "      <td>35.0</td>\n",
       "      <td>29.0</td>\n",
       "      <td>49.0</td>\n",
       "      <td>78.0</td>\n",
       "      <td>...</td>\n",
       "      <td>68.0</td>\n",
       "      <td>54.0</td>\n",
       "      <td>67.0</td>\n",
       "      <td>73.0</td>\n",
       "      <td>76.0</td>\n",
       "      <td>103.0</td>\n",
       "      <td>150.0</td>\n",
       "      <td>155.0</td>\n",
       "      <td>187.0</td>\n",
       "      <td>278.0</td>\n",
       "    </tr>\n",
       "    <tr>\n",
       "      <th>1000600</th>\n",
       "      <td>175.0</td>\n",
       "      <td>153.0</td>\n",
       "      <td>65.0</td>\n",
       "      <td>44.0</td>\n",
       "      <td>38.0</td>\n",
       "      <td>27.0</td>\n",
       "      <td>28.0</td>\n",
       "      <td>43.0</td>\n",
       "      <td>64.0</td>\n",
       "      <td>65.0</td>\n",
       "      <td>...</td>\n",
       "      <td>40.0</td>\n",
       "      <td>29.0</td>\n",
       "      <td>40.0</td>\n",
       "      <td>40.0</td>\n",
       "      <td>40.0</td>\n",
       "      <td>67.0</td>\n",
       "      <td>78.0</td>\n",
       "      <td>98.0</td>\n",
       "      <td>138.0</td>\n",
       "      <td>188.0</td>\n",
       "    </tr>\n",
       "    <tr>\n",
       "      <th>1000700</th>\n",
       "      <td>284.0</td>\n",
       "      <td>167.0</td>\n",
       "      <td>105.0</td>\n",
       "      <td>54.0</td>\n",
       "      <td>52.0</td>\n",
       "      <td>42.0</td>\n",
       "      <td>75.0</td>\n",
       "      <td>121.0</td>\n",
       "      <td>188.0</td>\n",
       "      <td>143.0</td>\n",
       "      <td>...</td>\n",
       "      <td>145.0</td>\n",
       "      <td>85.0</td>\n",
       "      <td>53.0</td>\n",
       "      <td>56.0</td>\n",
       "      <td>59.0</td>\n",
       "      <td>118.0</td>\n",
       "      <td>238.0</td>\n",
       "      <td>372.0</td>\n",
       "      <td>511.0</td>\n",
       "      <td>532.0</td>\n",
       "    </tr>\n",
       "    <tr>\n",
       "      <th>1000800</th>\n",
       "      <td>200.0</td>\n",
       "      <td>150.0</td>\n",
       "      <td>75.0</td>\n",
       "      <td>58.0</td>\n",
       "      <td>25.0</td>\n",
       "      <td>17.0</td>\n",
       "      <td>15.0</td>\n",
       "      <td>15.0</td>\n",
       "      <td>41.0</td>\n",
       "      <td>34.0</td>\n",
       "      <td>...</td>\n",
       "      <td>33.0</td>\n",
       "      <td>21.0</td>\n",
       "      <td>35.0</td>\n",
       "      <td>23.0</td>\n",
       "      <td>38.0</td>\n",
       "      <td>38.0</td>\n",
       "      <td>47.0</td>\n",
       "      <td>70.0</td>\n",
       "      <td>109.0</td>\n",
       "      <td>267.0</td>\n",
       "    </tr>\n",
       "  </tbody>\n",
       "</table>\n",
       "<p>5 rows × 24 columns</p>\n",
       "</div>"
      ],
      "text/plain": [
       "hour      0.0    1.0    2.0   3.0   4.0   5.0   6.0    7.0    8.0    9.0   \\\n",
       "ct                                                                          \n",
       "1000201  107.0   77.0   51.0  34.0  27.0   7.0   4.0    7.0    4.0    8.0   \n",
       "1000202  225.0  174.0  113.0  80.0  43.0  42.0  35.0   29.0   49.0   78.0   \n",
       "1000600  175.0  153.0   65.0  44.0  38.0  27.0  28.0   43.0   64.0   65.0   \n",
       "1000700  284.0  167.0  105.0  54.0  52.0  42.0  75.0  121.0  188.0  143.0   \n",
       "1000800  200.0  150.0   75.0  58.0  25.0  17.0  15.0   15.0   41.0   34.0   \n",
       "\n",
       "hour     ...     14.0  15.0  16.0  17.0  18.0   19.0   20.0   21.0   22.0  \\\n",
       "ct       ...                                                                \n",
       "1000201  ...     12.0  14.0  12.0  14.0  13.0   46.0   33.0   54.0   67.0   \n",
       "1000202  ...     68.0  54.0  67.0  73.0  76.0  103.0  150.0  155.0  187.0   \n",
       "1000600  ...     40.0  29.0  40.0  40.0  40.0   67.0   78.0   98.0  138.0   \n",
       "1000700  ...    145.0  85.0  53.0  56.0  59.0  118.0  238.0  372.0  511.0   \n",
       "1000800  ...     33.0  21.0  35.0  23.0  38.0   38.0   47.0   70.0  109.0   \n",
       "\n",
       "hour      23.0  \n",
       "ct              \n",
       "1000201   85.0  \n",
       "1000202  278.0  \n",
       "1000600  188.0  \n",
       "1000700  532.0  \n",
       "1000800  267.0  \n",
       "\n",
       "[5 rows x 24 columns]"
      ]
     },
     "execution_count": 50,
     "metadata": {},
     "output_type": "execute_result"
    }
   ],
   "source": [
    "hour_counts.head(5)"
   ]
  },
  {
   "cell_type": "code",
   "execution_count": 51,
   "metadata": {
    "collapsed": true
   },
   "outputs": [],
   "source": [
    "## Compute proportion of each hourly count -- total porportions of all hours per CT adds up to 1\n",
    "hour_prop = hour_counts.apply(lambda row: [r/row.sum() for r in row],axis=1)\n",
    "\n",
    "# hour_prop.head(3)"
   ]
  },
  {
   "cell_type": "code",
   "execution_count": 53,
   "metadata": {
    "collapsed": false
   },
   "outputs": [
    {
     "data": {
      "text/plain": [
       "1.0"
      ]
     },
     "execution_count": 53,
     "metadata": {},
     "output_type": "execute_result"
    }
   ],
   "source": [
    "hour_prop.iloc[0, :].sum()  ## each row adds up to 1"
   ]
  },
  {
   "cell_type": "code",
   "execution_count": 55,
   "metadata": {
    "collapsed": false
   },
   "outputs": [
    {
     "data": {
      "text/html": [
       "<div>\n",
       "<table border=\"1\" class=\"dataframe\">\n",
       "  <thead>\n",
       "    <tr style=\"text-align: right;\">\n",
       "      <th>hour</th>\n",
       "      <th>hour_0</th>\n",
       "      <th>hour_1</th>\n",
       "      <th>hour_2</th>\n",
       "      <th>hour_3</th>\n",
       "      <th>hour_4</th>\n",
       "      <th>hour_5</th>\n",
       "      <th>hour_6</th>\n",
       "      <th>hour_7</th>\n",
       "      <th>hour_8</th>\n",
       "      <th>hour_9</th>\n",
       "      <th>...</th>\n",
       "      <th>hour_14</th>\n",
       "      <th>hour_15</th>\n",
       "      <th>hour_16</th>\n",
       "      <th>hour_17</th>\n",
       "      <th>hour_18</th>\n",
       "      <th>hour_19</th>\n",
       "      <th>hour_20</th>\n",
       "      <th>hour_21</th>\n",
       "      <th>hour_22</th>\n",
       "      <th>hour_23</th>\n",
       "    </tr>\n",
       "    <tr>\n",
       "      <th>ct</th>\n",
       "      <th></th>\n",
       "      <th></th>\n",
       "      <th></th>\n",
       "      <th></th>\n",
       "      <th></th>\n",
       "      <th></th>\n",
       "      <th></th>\n",
       "      <th></th>\n",
       "      <th></th>\n",
       "      <th></th>\n",
       "      <th></th>\n",
       "      <th></th>\n",
       "      <th></th>\n",
       "      <th></th>\n",
       "      <th></th>\n",
       "      <th></th>\n",
       "      <th></th>\n",
       "      <th></th>\n",
       "      <th></th>\n",
       "      <th></th>\n",
       "      <th></th>\n",
       "    </tr>\n",
       "  </thead>\n",
       "  <tbody>\n",
       "    <tr>\n",
       "      <th>1000201</th>\n",
       "      <td>0.147586</td>\n",
       "      <td>0.106207</td>\n",
       "      <td>0.070345</td>\n",
       "      <td>0.046897</td>\n",
       "      <td>0.037241</td>\n",
       "      <td>0.009655</td>\n",
       "      <td>0.005517</td>\n",
       "      <td>0.009655</td>\n",
       "      <td>0.005517</td>\n",
       "      <td>0.011034</td>\n",
       "      <td>...</td>\n",
       "      <td>0.016552</td>\n",
       "      <td>0.019310</td>\n",
       "      <td>0.016552</td>\n",
       "      <td>0.019310</td>\n",
       "      <td>0.017931</td>\n",
       "      <td>0.063448</td>\n",
       "      <td>0.045517</td>\n",
       "      <td>0.074483</td>\n",
       "      <td>0.092414</td>\n",
       "      <td>0.117241</td>\n",
       "    </tr>\n",
       "    <tr>\n",
       "      <th>1000202</th>\n",
       "      <td>0.099382</td>\n",
       "      <td>0.076855</td>\n",
       "      <td>0.049912</td>\n",
       "      <td>0.035336</td>\n",
       "      <td>0.018993</td>\n",
       "      <td>0.018551</td>\n",
       "      <td>0.015459</td>\n",
       "      <td>0.012809</td>\n",
       "      <td>0.021643</td>\n",
       "      <td>0.034452</td>\n",
       "      <td>...</td>\n",
       "      <td>0.030035</td>\n",
       "      <td>0.023852</td>\n",
       "      <td>0.029594</td>\n",
       "      <td>0.032244</td>\n",
       "      <td>0.033569</td>\n",
       "      <td>0.045495</td>\n",
       "      <td>0.066254</td>\n",
       "      <td>0.068463</td>\n",
       "      <td>0.082597</td>\n",
       "      <td>0.122792</td>\n",
       "    </tr>\n",
       "    <tr>\n",
       "      <th>1000600</th>\n",
       "      <td>0.107626</td>\n",
       "      <td>0.094096</td>\n",
       "      <td>0.039975</td>\n",
       "      <td>0.027060</td>\n",
       "      <td>0.023370</td>\n",
       "      <td>0.016605</td>\n",
       "      <td>0.017220</td>\n",
       "      <td>0.026445</td>\n",
       "      <td>0.039360</td>\n",
       "      <td>0.039975</td>\n",
       "      <td>...</td>\n",
       "      <td>0.024600</td>\n",
       "      <td>0.017835</td>\n",
       "      <td>0.024600</td>\n",
       "      <td>0.024600</td>\n",
       "      <td>0.024600</td>\n",
       "      <td>0.041205</td>\n",
       "      <td>0.047970</td>\n",
       "      <td>0.060271</td>\n",
       "      <td>0.084871</td>\n",
       "      <td>0.115621</td>\n",
       "    </tr>\n",
       "  </tbody>\n",
       "</table>\n",
       "<p>3 rows × 24 columns</p>\n",
       "</div>"
      ],
      "text/plain": [
       "hour       hour_0    hour_1    hour_2    hour_3    hour_4    hour_5    hour_6  \\\n",
       "ct                                                                              \n",
       "1000201  0.147586  0.106207  0.070345  0.046897  0.037241  0.009655  0.005517   \n",
       "1000202  0.099382  0.076855  0.049912  0.035336  0.018993  0.018551  0.015459   \n",
       "1000600  0.107626  0.094096  0.039975  0.027060  0.023370  0.016605  0.017220   \n",
       "\n",
       "hour       hour_7    hour_8    hour_9    ...      hour_14   hour_15   hour_16  \\\n",
       "ct                                       ...                                    \n",
       "1000201  0.009655  0.005517  0.011034    ...     0.016552  0.019310  0.016552   \n",
       "1000202  0.012809  0.021643  0.034452    ...     0.030035  0.023852  0.029594   \n",
       "1000600  0.026445  0.039360  0.039975    ...     0.024600  0.017835  0.024600   \n",
       "\n",
       "hour      hour_17   hour_18   hour_19   hour_20   hour_21   hour_22   hour_23  \n",
       "ct                                                                             \n",
       "1000201  0.019310  0.017931  0.063448  0.045517  0.074483  0.092414  0.117241  \n",
       "1000202  0.032244  0.033569  0.045495  0.066254  0.068463  0.082597  0.122792  \n",
       "1000600  0.024600  0.024600  0.041205  0.047970  0.060271  0.084871  0.115621  \n",
       "\n",
       "[3 rows x 24 columns]"
      ]
     },
     "execution_count": 55,
     "metadata": {},
     "output_type": "execute_result"
    }
   ],
   "source": [
    "hour_columns = ['hour_{}'.format(h) for h in range(24)]\n",
    "\n",
    "## Change name of columns:\n",
    "hour_prop = hour_prop.rename(columns=lambda h: 'hour_{}'.format(int(h)))\n",
    "hour_prop.head(3)"
   ]
  },
  {
   "cell_type": "markdown",
   "metadata": {},
   "source": [
    "## Clustering\n",
    "### Kmeans, Hierarchical\n",
    "\n",
    "For oberservation purposes, we decide to use 3 clusters for each method"
   ]
  },
  {
   "cell_type": "markdown",
   "metadata": {},
   "source": [
    "### Kmeans"
   ]
  },
  {
   "cell_type": "code",
   "execution_count": 56,
   "metadata": {
    "collapsed": false
   },
   "outputs": [
    {
     "name": "stdout",
     "output_type": "stream",
     "text": [
      "[0 0 0 ..., 1 2 2]\n"
     ]
    }
   ],
   "source": [
    "##### Kmeans clustering -- k=3\n",
    "\n",
    "k = 3  # number of clusters\n",
    "X = hour_prop.ix[:, hour_columns] # hour of day data\n",
    "#tar = hour_prop[''] # real target -- crime_type\n",
    "\n",
    "#train the model.\n",
    "km=KMeans(n_clusters=k, random_state=22)\n",
    "res=km.fit(X)\n",
    "#result.\n",
    "print(res.labels_)\n",
    "\n",
    "# append to the dataframe\n",
    "hour_prop['label_km'] = res.labels_"
   ]
  },
  {
   "cell_type": "markdown",
   "metadata": {},
   "source": [
    "### Hierarchical"
   ]
  },
  {
   "cell_type": "code",
   "execution_count": 58,
   "metadata": {
    "collapsed": false
   },
   "outputs": [
    {
     "data": {
      "text/plain": [
       "array([2, 2, 2, ..., 2, 2, 2], dtype=int32)"
      ]
     },
     "execution_count": 58,
     "metadata": {},
     "output_type": "execute_result"
    }
   ],
   "source": [
    "##### Hirarchical Clustering --k=3\n",
    "Z = linkage(X, 'complete')\n",
    "\n",
    "# Fcluster\n",
    "hir_res_labels = fcluster(Z, k, criterion='maxclust')\n",
    "hir_res_labels\n",
    "\n",
    "# append to the dataframe\n",
    "hour_prop['label_hier'] = hir_res_labels"
   ]
  },
  {
   "cell_type": "code",
   "execution_count": 60,
   "metadata": {
    "collapsed": false
   },
   "outputs": [
    {
     "data": {
      "text/html": [
       "<div>\n",
       "<table border=\"1\" class=\"dataframe\">\n",
       "  <thead>\n",
       "    <tr style=\"text-align: right;\">\n",
       "      <th>hour</th>\n",
       "      <th>hour_0</th>\n",
       "      <th>hour_1</th>\n",
       "      <th>hour_2</th>\n",
       "      <th>hour_3</th>\n",
       "      <th>hour_4</th>\n",
       "      <th>hour_5</th>\n",
       "      <th>hour_6</th>\n",
       "      <th>hour_7</th>\n",
       "      <th>hour_8</th>\n",
       "      <th>hour_9</th>\n",
       "      <th>...</th>\n",
       "      <th>hour_16</th>\n",
       "      <th>hour_17</th>\n",
       "      <th>hour_18</th>\n",
       "      <th>hour_19</th>\n",
       "      <th>hour_20</th>\n",
       "      <th>hour_21</th>\n",
       "      <th>hour_22</th>\n",
       "      <th>hour_23</th>\n",
       "      <th>label_km</th>\n",
       "      <th>label_hier</th>\n",
       "    </tr>\n",
       "    <tr>\n",
       "      <th>ct</th>\n",
       "      <th></th>\n",
       "      <th></th>\n",
       "      <th></th>\n",
       "      <th></th>\n",
       "      <th></th>\n",
       "      <th></th>\n",
       "      <th></th>\n",
       "      <th></th>\n",
       "      <th></th>\n",
       "      <th></th>\n",
       "      <th></th>\n",
       "      <th></th>\n",
       "      <th></th>\n",
       "      <th></th>\n",
       "      <th></th>\n",
       "      <th></th>\n",
       "      <th></th>\n",
       "      <th></th>\n",
       "      <th></th>\n",
       "      <th></th>\n",
       "      <th></th>\n",
       "    </tr>\n",
       "  </thead>\n",
       "  <tbody>\n",
       "    <tr>\n",
       "      <th>1000201</th>\n",
       "      <td>0.147586</td>\n",
       "      <td>0.106207</td>\n",
       "      <td>0.070345</td>\n",
       "      <td>0.046897</td>\n",
       "      <td>0.037241</td>\n",
       "      <td>0.009655</td>\n",
       "      <td>0.005517</td>\n",
       "      <td>0.009655</td>\n",
       "      <td>0.005517</td>\n",
       "      <td>0.011034</td>\n",
       "      <td>...</td>\n",
       "      <td>0.016552</td>\n",
       "      <td>0.019310</td>\n",
       "      <td>0.017931</td>\n",
       "      <td>0.063448</td>\n",
       "      <td>0.045517</td>\n",
       "      <td>0.074483</td>\n",
       "      <td>0.092414</td>\n",
       "      <td>0.117241</td>\n",
       "      <td>0</td>\n",
       "      <td>2</td>\n",
       "    </tr>\n",
       "    <tr>\n",
       "      <th>1000202</th>\n",
       "      <td>0.099382</td>\n",
       "      <td>0.076855</td>\n",
       "      <td>0.049912</td>\n",
       "      <td>0.035336</td>\n",
       "      <td>0.018993</td>\n",
       "      <td>0.018551</td>\n",
       "      <td>0.015459</td>\n",
       "      <td>0.012809</td>\n",
       "      <td>0.021643</td>\n",
       "      <td>0.034452</td>\n",
       "      <td>...</td>\n",
       "      <td>0.029594</td>\n",
       "      <td>0.032244</td>\n",
       "      <td>0.033569</td>\n",
       "      <td>0.045495</td>\n",
       "      <td>0.066254</td>\n",
       "      <td>0.068463</td>\n",
       "      <td>0.082597</td>\n",
       "      <td>0.122792</td>\n",
       "      <td>0</td>\n",
       "      <td>2</td>\n",
       "    </tr>\n",
       "    <tr>\n",
       "      <th>1000600</th>\n",
       "      <td>0.107626</td>\n",
       "      <td>0.094096</td>\n",
       "      <td>0.039975</td>\n",
       "      <td>0.027060</td>\n",
       "      <td>0.023370</td>\n",
       "      <td>0.016605</td>\n",
       "      <td>0.017220</td>\n",
       "      <td>0.026445</td>\n",
       "      <td>0.039360</td>\n",
       "      <td>0.039975</td>\n",
       "      <td>...</td>\n",
       "      <td>0.024600</td>\n",
       "      <td>0.024600</td>\n",
       "      <td>0.024600</td>\n",
       "      <td>0.041205</td>\n",
       "      <td>0.047970</td>\n",
       "      <td>0.060271</td>\n",
       "      <td>0.084871</td>\n",
       "      <td>0.115621</td>\n",
       "      <td>0</td>\n",
       "      <td>2</td>\n",
       "    </tr>\n",
       "    <tr>\n",
       "      <th>1000700</th>\n",
       "      <td>0.072970</td>\n",
       "      <td>0.042909</td>\n",
       "      <td>0.026978</td>\n",
       "      <td>0.013875</td>\n",
       "      <td>0.013361</td>\n",
       "      <td>0.010791</td>\n",
       "      <td>0.019270</td>\n",
       "      <td>0.031089</td>\n",
       "      <td>0.048304</td>\n",
       "      <td>0.036742</td>\n",
       "      <td>...</td>\n",
       "      <td>0.013618</td>\n",
       "      <td>0.014388</td>\n",
       "      <td>0.015159</td>\n",
       "      <td>0.030319</td>\n",
       "      <td>0.061151</td>\n",
       "      <td>0.095581</td>\n",
       "      <td>0.131295</td>\n",
       "      <td>0.136691</td>\n",
       "      <td>2</td>\n",
       "      <td>2</td>\n",
       "    </tr>\n",
       "  </tbody>\n",
       "</table>\n",
       "<p>4 rows × 26 columns</p>\n",
       "</div>"
      ],
      "text/plain": [
       "hour       hour_0    hour_1    hour_2    hour_3    hour_4    hour_5    hour_6  \\\n",
       "ct                                                                              \n",
       "1000201  0.147586  0.106207  0.070345  0.046897  0.037241  0.009655  0.005517   \n",
       "1000202  0.099382  0.076855  0.049912  0.035336  0.018993  0.018551  0.015459   \n",
       "1000600  0.107626  0.094096  0.039975  0.027060  0.023370  0.016605  0.017220   \n",
       "1000700  0.072970  0.042909  0.026978  0.013875  0.013361  0.010791  0.019270   \n",
       "\n",
       "hour       hour_7    hour_8    hour_9     ...       hour_16   hour_17  \\\n",
       "ct                                        ...                           \n",
       "1000201  0.009655  0.005517  0.011034     ...      0.016552  0.019310   \n",
       "1000202  0.012809  0.021643  0.034452     ...      0.029594  0.032244   \n",
       "1000600  0.026445  0.039360  0.039975     ...      0.024600  0.024600   \n",
       "1000700  0.031089  0.048304  0.036742     ...      0.013618  0.014388   \n",
       "\n",
       "hour      hour_18   hour_19   hour_20   hour_21   hour_22   hour_23  label_km  \\\n",
       "ct                                                                              \n",
       "1000201  0.017931  0.063448  0.045517  0.074483  0.092414  0.117241         0   \n",
       "1000202  0.033569  0.045495  0.066254  0.068463  0.082597  0.122792         0   \n",
       "1000600  0.024600  0.041205  0.047970  0.060271  0.084871  0.115621         0   \n",
       "1000700  0.015159  0.030319  0.061151  0.095581  0.131295  0.136691         2   \n",
       "\n",
       "hour     label_hier  \n",
       "ct                   \n",
       "1000201           2  \n",
       "1000202           2  \n",
       "1000600           2  \n",
       "1000700           2  \n",
       "\n",
       "[4 rows x 26 columns]"
      ]
     },
     "execution_count": 60,
     "metadata": {},
     "output_type": "execute_result"
    }
   ],
   "source": [
    "hour_prop.head(4)"
   ]
  },
  {
   "cell_type": "markdown",
   "metadata": {},
   "source": [
    "## Hourly Treads of Clusters\n",
    "### Cluster Visualization on Line Graph"
   ]
  },
  {
   "cell_type": "code",
   "execution_count": 64,
   "metadata": {
    "collapsed": false
   },
   "outputs": [],
   "source": [
    "# mean for each km cluster\n",
    "df_clusMeans_km = hour_prop.ix[:, hour_columns + ['label_km']].groupby('label_km').mean()\n",
    "\n",
    "# mean for each hir cluster\n",
    "df_clusMeans_hier = hour_prop.ix[:, hour_columns + ['label_hier']].groupby('label_hier').mean()"
   ]
  },
  {
   "cell_type": "code",
   "execution_count": 65,
   "metadata": {
    "collapsed": false
   },
   "outputs": [
    {
     "data": {
      "text/plain": [
       "<matplotlib.legend.Legend at 0x120465090>"
      ]
     },
     "execution_count": 65,
     "metadata": {},
     "output_type": "execute_result"
    },
    {
     "data": {
      "image/png": "[encoded data removed]",
      "text/plain": [
       "<matplotlib.figure.Figure at 0x11df5eb10>"
      ]
     },
     "metadata": {},
     "output_type": "display_data"
    }
   ],
   "source": [
    "### create a line graph to visualize these values by cluster.\n",
    "# line graph of this kmeans cluster\n",
    "plt.figure(figsize=(12,4))\n",
    "\n",
    "for i in range(k):\n",
    "    plt.plot(range(len(hour_columns)), df_clusMeans_km.iloc[i,:], label='kmeans cluster #{}'.format(i+1))\n",
    "\n",
    "plt.title('Hourly Means of Each KMeans Cluster', size=18)\n",
    "plt.xticks(range(24), range(24))\n",
    "plt.xlabel('Hour-of-Day')\n",
    "plt.ylabel('Mean Value of Count Proportion by Cluster')\n",
    "plt.legend(loc='best')"
   ]
  },
  {
   "cell_type": "code",
   "execution_count": 67,
   "metadata": {
    "collapsed": false
   },
   "outputs": [
    {
     "data": {
      "text/plain": [
       "<matplotlib.legend.Legend at 0x12081d550>"
      ]
     },
     "execution_count": 67,
     "metadata": {},
     "output_type": "execute_result"
    },
    {
     "data": {
      "image/png": "[encoded data removed]",
      "text/plain": [
       "<matplotlib.figure.Figure at 0x12049b250>"
      ]
     },
     "metadata": {},
     "output_type": "display_data"
    }
   ],
   "source": [
    "# line graph of this hirarchical clusters\n",
    "plt.figure(figsize=(12,4))\n",
    "\n",
    "for i in range(k):\n",
    "    plt.plot(range(len(hour_columns)), df_clusMeans_hier.iloc[i,:], label='hierarch cluster #{}'.format(i+1))\n",
    "\n",
    "plt.title('Hourly Means of Each Hierarchical Cluster', size=18)\n",
    "plt.xticks(range(24), range(24))\n",
    "plt.xlabel('Hour-of-Day')\n",
    "plt.ylabel('Mean Value of Proportion by Cluster')\n",
    "plt.legend(loc='best')"
   ]
  },
  {
   "cell_type": "code",
   "execution_count": null,
   "metadata": {
    "collapsed": true
   },
   "outputs": [],
   "source": []
  },
  {
   "cell_type": "code",
   "execution_count": null,
   "metadata": {
    "collapsed": true
   },
   "outputs": [],
   "source": []
  }
 ],
 "metadata": {
  "anaconda-cloud": {},
  "kernelspec": {
   "display_name": "Python [Root]",
   "language": "python",
   "name": "Python [Root]"
  },
  "language_info": {
   "codemirror_mode": {
    "name": "ipython",
    "version": 2
   },
   "file_extension": ".py",
   "mimetype": "text/x-python",
   "name": "python",
   "nbconvert_exporter": "python",
   "pygments_lexer": "ipython2",
   "version": "2.7.12"
  }
 },
 "nbformat": 4,
 "nbformat_minor": 0
}
