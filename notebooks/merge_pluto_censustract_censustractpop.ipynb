{
 "cells": [
  {
   "cell_type": "markdown",
   "metadata": {},
   "source": [
    "### kk's notebook to download and merge mapPLUTO, Census Tract shapefile, and Census Tract population, and complaints"
   ]
  },
  {
   "cell_type": "code",
   "execution_count": 42,
   "metadata": {
    "collapsed": false
   },
   "outputs": [],
   "source": [
    "import pandas as pd\n",
    "import zipfile\n",
    "import geopandas as gpd\n",
    "import numpy as np\n",
    "from shapely.geometry import Point\n",
    "from shapely.geometry import Polygon"
   ]
  },
  {
   "cell_type": "markdown",
   "metadata": {},
   "source": [
    "### download pluto and concatenate into one dataframe"
   ]
  },
  {
   "cell_type": "code",
   "execution_count": 2,
   "metadata": {
    "collapsed": false
   },
   "outputs": [],
   "source": [
    "boroughs = ['Staten_Island', 'Queens', 'Manhattan', 'Bronx', 'Brooklyn']\n",
    "abreevs = ['SI', 'QN', 'MN', 'BX', 'BK']\n",
    "\n",
    "#boroughs = ['Staten_Island', 'Queens']\n",
    "#abreevs = ['SI', 'QN']\n",
    "\n",
    "pluto = []\n",
    "i = 0\n",
    "for elem in boroughs:\n",
    "    temp = gpd.read_file('../data/'+elem+'/'+abreevs[i]+'MapPLUTO.shp')\n",
    "    temp['BBL'] = temp['BBL'].astype(str)\n",
    "    temp = temp.to_crs({'init':'epsg:4326'})\n",
    "    pluto.append(temp)\n",
    "    i+=1"
   ]
  },
  {
   "cell_type": "code",
   "execution_count": 3,
   "metadata": {
    "collapsed": false
   },
   "outputs": [],
   "source": [
    "p = pd.concat(pluto)"
   ]
  },
  {
   "cell_type": "code",
   "execution_count": 4,
   "metadata": {
    "collapsed": false
   },
   "outputs": [
    {
     "data": {
      "text/plain": [
       "geopandas.geodataframe.GeoDataFrame"
      ]
     },
     "execution_count": 4,
     "metadata": {},
     "output_type": "execute_result"
    }
   ],
   "source": [
    "type(p)"
   ]
  },
  {
   "cell_type": "markdown",
   "metadata": {},
   "source": [
    "#### download census tract shapefile"
   ]
  },
  {
   "cell_type": "code",
   "execution_count": 5,
   "metadata": {
    "collapsed": false
   },
   "outputs": [],
   "source": [
    "ct = gpd.read_file('../Data/cb_2015_36_tract_500k/cb_2015_36_tract_500k.shp')"
   ]
  },
  {
   "cell_type": "code",
   "execution_count": 6,
   "metadata": {
    "collapsed": false
   },
   "outputs": [
    {
     "data": {
      "text/html": [
       "<div>\n",
       "<table border=\"1\" class=\"dataframe\">\n",
       "  <thead>\n",
       "    <tr style=\"text-align: right;\">\n",
       "      <th></th>\n",
       "      <th>AFFGEOID</th>\n",
       "      <th>ALAND</th>\n",
       "      <th>AWATER</th>\n",
       "      <th>COUNTYFP</th>\n",
       "      <th>GEOID</th>\n",
       "      <th>LSAD</th>\n",
       "      <th>NAME</th>\n",
       "      <th>STATEFP</th>\n",
       "      <th>TRACTCE</th>\n",
       "      <th>geometry</th>\n",
       "    </tr>\n",
       "  </thead>\n",
       "  <tbody>\n",
       "    <tr>\n",
       "      <th>0</th>\n",
       "      <td>1400000US36001000502</td>\n",
       "      <td>777446</td>\n",
       "      <td>0</td>\n",
       "      <td>001</td>\n",
       "      <td>36001000502</td>\n",
       "      <td>CT</td>\n",
       "      <td>5.02</td>\n",
       "      <td>36</td>\n",
       "      <td>000502</td>\n",
       "      <td>POLYGON ((-73.79496 42.66871, -73.790798999999...</td>\n",
       "    </tr>\n",
       "    <tr>\n",
       "      <th>1</th>\n",
       "      <td>1400000US36001013507</td>\n",
       "      <td>5575232</td>\n",
       "      <td>2491</td>\n",
       "      <td>001</td>\n",
       "      <td>36001013507</td>\n",
       "      <td>CT</td>\n",
       "      <td>135.07</td>\n",
       "      <td>36</td>\n",
       "      <td>013507</td>\n",
       "      <td>POLYGON ((-73.802734 42.763943, -73.796492 42....</td>\n",
       "    </tr>\n",
       "  </tbody>\n",
       "</table>\n",
       "</div>"
      ],
      "text/plain": [
       "               AFFGEOID    ALAND  AWATER COUNTYFP        GEOID LSAD    NAME  \\\n",
       "0  1400000US36001000502   777446       0      001  36001000502   CT    5.02   \n",
       "1  1400000US36001013507  5575232    2491      001  36001013507   CT  135.07   \n",
       "\n",
       "  STATEFP TRACTCE                                           geometry  \n",
       "0      36  000502  POLYGON ((-73.79496 42.66871, -73.790798999999...  \n",
       "1      36  013507  POLYGON ((-73.802734 42.763943, -73.796492 42....  "
      ]
     },
     "execution_count": 6,
     "metadata": {},
     "output_type": "execute_result"
    }
   ],
   "source": [
    "ct.head(2)"
   ]
  },
  {
   "cell_type": "code",
   "execution_count": 7,
   "metadata": {
    "collapsed": true
   },
   "outputs": [],
   "source": [
    "ct = ct[['GEOID','geometry']]"
   ]
  },
  {
   "cell_type": "code",
   "execution_count": 8,
   "metadata": {
    "collapsed": false
   },
   "outputs": [
    {
     "name": "stdout",
     "output_type": "stream",
     "text": [
      "{'init': u'epsg:4269'}\n",
      "{'init': 'epsg:4326'}\n"
     ]
    }
   ],
   "source": [
    "print ct.crs\n",
    "print p.crs"
   ]
  },
  {
   "cell_type": "code",
   "execution_count": 9,
   "metadata": {
    "collapsed": false
   },
   "outputs": [],
   "source": [
    "ct = ct.to_crs({'init':'epsg:4326'})"
   ]
  },
  {
   "cell_type": "code",
   "execution_count": 10,
   "metadata": {
    "collapsed": false
   },
   "outputs": [
    {
     "name": "stdout",
     "output_type": "stream",
     "text": [
      "{'init': 'epsg:4326'}\n"
     ]
    }
   ],
   "source": [
    "print ct.crs"
   ]
  },
  {
   "cell_type": "code",
   "execution_count": 11,
   "metadata": {
    "collapsed": false
   },
   "outputs": [
    {
     "data": {
      "text/html": [
       "<div>\n",
       "<table border=\"1\" class=\"dataframe\">\n",
       "  <thead>\n",
       "    <tr style=\"text-align: right;\">\n",
       "      <th></th>\n",
       "      <th>BBL</th>\n",
       "      <th>AssessTot</th>\n",
       "      <th>BldgArea</th>\n",
       "      <th>BldgClass</th>\n",
       "      <th>BldgDepth</th>\n",
       "      <th>BldgFront</th>\n",
       "      <th>ComArea</th>\n",
       "      <th>FactryArea</th>\n",
       "      <th>GarageArea</th>\n",
       "      <th>LandUse</th>\n",
       "      <th>NumBldgs</th>\n",
       "      <th>NumFloors</th>\n",
       "      <th>OfficeArea</th>\n",
       "      <th>OtherArea</th>\n",
       "      <th>StrgeArea</th>\n",
       "      <th>StrgeArea</th>\n",
       "      <th>YearBuilt</th>\n",
       "      <th>geometry</th>\n",
       "    </tr>\n",
       "  </thead>\n",
       "  <tbody>\n",
       "    <tr>\n",
       "      <th>0</th>\n",
       "      <td>5007470028.0</td>\n",
       "      <td>23400.0</td>\n",
       "      <td>1488</td>\n",
       "      <td>B2</td>\n",
       "      <td>62.0</td>\n",
       "      <td>24.0</td>\n",
       "      <td>0</td>\n",
       "      <td>0</td>\n",
       "      <td>0</td>\n",
       "      <td>01</td>\n",
       "      <td>1</td>\n",
       "      <td>1.0</td>\n",
       "      <td>0</td>\n",
       "      <td>0</td>\n",
       "      <td>0</td>\n",
       "      <td>0</td>\n",
       "      <td>1960</td>\n",
       "      <td>POLYGON ((-74.14250944979312 40.60980609846242...</td>\n",
       "    </tr>\n",
       "    <tr>\n",
       "      <th>1</th>\n",
       "      <td>5006230252.0</td>\n",
       "      <td>21518.0</td>\n",
       "      <td>0</td>\n",
       "      <td>V0</td>\n",
       "      <td>0.0</td>\n",
       "      <td>0.0</td>\n",
       "      <td>0</td>\n",
       "      <td>0</td>\n",
       "      <td>0</td>\n",
       "      <td>11</td>\n",
       "      <td>0</td>\n",
       "      <td>0.0</td>\n",
       "      <td>0</td>\n",
       "      <td>0</td>\n",
       "      <td>0</td>\n",
       "      <td>0</td>\n",
       "      <td>0</td>\n",
       "      <td>POLYGON ((-74.08780465394567 40.61401983466899...</td>\n",
       "    </tr>\n",
       "  </tbody>\n",
       "</table>\n",
       "</div>"
      ],
      "text/plain": [
       "            BBL  AssessTot  BldgArea BldgClass  BldgDepth  BldgFront  ComArea  \\\n",
       "0  5007470028.0    23400.0      1488        B2       62.0       24.0        0   \n",
       "1  5006230252.0    21518.0         0        V0        0.0        0.0        0   \n",
       "\n",
       "   FactryArea  GarageArea LandUse  NumBldgs  NumFloors  OfficeArea  OtherArea  \\\n",
       "0           0           0      01         1        1.0           0          0   \n",
       "1           0           0      11         0        0.0           0          0   \n",
       "\n",
       "   StrgeArea  StrgeArea  YearBuilt  \\\n",
       "0          0          0       1960   \n",
       "1          0          0          0   \n",
       "\n",
       "                                            geometry  \n",
       "0  POLYGON ((-74.14250944979312 40.60980609846242...  \n",
       "1  POLYGON ((-74.08780465394567 40.61401983466899...  "
      ]
     },
     "execution_count": 11,
     "metadata": {},
     "output_type": "execute_result"
    }
   ],
   "source": [
    "p = p[['BBL', 'AssessTot', 'BldgArea', 'BldgClass', 'BldgDepth', 'BldgFront', 'ComArea', \\\n",
    "              'FactryArea', 'GarageArea', 'LandUse', 'NumBldgs','NumFloors', 'OfficeArea', 'OtherArea', 'StrgeArea', \\\n",
    "              'StrgeArea', 'YearBuilt', 'geometry']]\n",
    "p.head(2)"
   ]
  },
  {
   "cell_type": "code",
   "execution_count": 13,
   "metadata": {
    "collapsed": false
   },
   "outputs": [
    {
     "data": {
      "text/plain": [
       "857513"
      ]
     },
     "execution_count": 13,
     "metadata": {},
     "output_type": "execute_result"
    }
   ],
   "source": [
    "len(p)"
   ]
  },
  {
   "cell_type": "markdown",
   "metadata": {},
   "source": [
    "#### reduce pluto dataframe for spatial join with census tract"
   ]
  },
  {
   "cell_type": "code",
   "execution_count": 14,
   "metadata": {
    "collapsed": true
   },
   "outputs": [],
   "source": [
    "pl = p[['BBL', 'geometry']]"
   ]
  },
  {
   "cell_type": "code",
   "execution_count": 15,
   "metadata": {
    "collapsed": false
   },
   "outputs": [
    {
     "data": {
      "text/plain": [
       "857513"
      ]
     },
     "execution_count": 15,
     "metadata": {},
     "output_type": "execute_result"
    }
   ],
   "source": [
    "len(pl.BBL.unique())"
   ]
  },
  {
   "cell_type": "code",
   "execution_count": 16,
   "metadata": {
    "collapsed": false
   },
   "outputs": [
    {
     "data": {
      "text/html": [
       "<div>\n",
       "<table border=\"1\" class=\"dataframe\">\n",
       "  <thead>\n",
       "    <tr style=\"text-align: right;\">\n",
       "      <th></th>\n",
       "      <th>BBL</th>\n",
       "      <th>geometry</th>\n",
       "    </tr>\n",
       "  </thead>\n",
       "  <tbody>\n",
       "    <tr>\n",
       "      <th>857508</th>\n",
       "      <td>3089460004.0</td>\n",
       "      <td>POLYGON ((-73.93001432912571 40.59472575579335...</td>\n",
       "    </tr>\n",
       "    <tr>\n",
       "      <th>857509</th>\n",
       "      <td>3089550176.0</td>\n",
       "      <td>POLYGON ((-73.93028289868332 40.59611436597339...</td>\n",
       "    </tr>\n",
       "    <tr>\n",
       "      <th>857510</th>\n",
       "      <td>3089550242.0</td>\n",
       "      <td>POLYGON ((-73.93059055424578 40.59559859964976...</td>\n",
       "    </tr>\n",
       "    <tr>\n",
       "      <th>857511</th>\n",
       "      <td>3089550278.0</td>\n",
       "      <td>POLYGON ((-73.93122617765142 40.59581280826773...</td>\n",
       "    </tr>\n",
       "    <tr>\n",
       "      <th>857512</th>\n",
       "      <td>3089550374.0</td>\n",
       "      <td>POLYGON ((-73.93188566121631 40.59525767836104...</td>\n",
       "    </tr>\n",
       "  </tbody>\n",
       "</table>\n",
       "</div>"
      ],
      "text/plain": [
       "                 BBL                                           geometry\n",
       "857508  3089460004.0  POLYGON ((-73.93001432912571 40.59472575579335...\n",
       "857509  3089550176.0  POLYGON ((-73.93028289868332 40.59611436597339...\n",
       "857510  3089550242.0  POLYGON ((-73.93059055424578 40.59559859964976...\n",
       "857511  3089550278.0  POLYGON ((-73.93122617765142 40.59581280826773...\n",
       "857512  3089550374.0  POLYGON ((-73.93188566121631 40.59525767836104..."
      ]
     },
     "execution_count": 16,
     "metadata": {},
     "output_type": "execute_result"
    }
   ],
   "source": [
    "pl = pl.reset_index()\n",
    "pl = pl.drop('index',axis=1)\n",
    "pl.tail()"
   ]
  },
  {
   "cell_type": "code",
   "execution_count": 17,
   "metadata": {
    "collapsed": false
   },
   "outputs": [
    {
     "data": {
      "text/html": [
       "<div>\n",
       "<table border=\"1\" class=\"dataframe\">\n",
       "  <thead>\n",
       "    <tr style=\"text-align: right;\">\n",
       "      <th></th>\n",
       "      <th>GEOID</th>\n",
       "      <th>geometry</th>\n",
       "    </tr>\n",
       "  </thead>\n",
       "  <tbody>\n",
       "    <tr>\n",
       "      <th>0</th>\n",
       "      <td>36001000502</td>\n",
       "      <td>POLYGON ((-73.79496 42.66871, -73.790798999999...</td>\n",
       "    </tr>\n",
       "    <tr>\n",
       "      <th>1</th>\n",
       "      <td>36001013507</td>\n",
       "      <td>POLYGON ((-73.802734 42.763943, -73.796492 42....</td>\n",
       "    </tr>\n",
       "  </tbody>\n",
       "</table>\n",
       "</div>"
      ],
      "text/plain": [
       "         GEOID                                           geometry\n",
       "0  36001000502  POLYGON ((-73.79496 42.66871, -73.790798999999...\n",
       "1  36001013507  POLYGON ((-73.802734 42.763943, -73.796492 42...."
      ]
     },
     "execution_count": 17,
     "metadata": {},
     "output_type": "execute_result"
    }
   ],
   "source": [
    "ct.head(2)"
   ]
  },
  {
   "cell_type": "markdown",
   "metadata": {},
   "source": [
    "#### join pluto and census tract using r-tree"
   ]
  },
  {
   "cell_type": "code",
   "execution_count": 18,
   "metadata": {
    "collapsed": false
   },
   "outputs": [],
   "source": [
    "#http://geoffboeing.com/2016/10/r-tree-spatial-index-python/\n",
    "precise_matches = {}\n",
    "spatial_index = pl.sindex\n",
    "for i, GEOID in enumerate(ct.GEOID):\n",
    "    possible_matches_index = list(spatial_index.intersection(ct['geometry'][i].bounds))\n",
    "    possible_matches = pl.iloc[possible_matches_index]\n",
    "    precise_matches[GEOID] = possible_matches[possible_matches.intersects(ct['geometry'][i])]"
   ]
  },
  {
   "cell_type": "code",
   "execution_count": 19,
   "metadata": {
    "collapsed": false
   },
   "outputs": [],
   "source": [
    "bbl_ct = pd.concat(precise_matches).reset_index()"
   ]
  },
  {
   "cell_type": "code",
   "execution_count": 22,
   "metadata": {
    "collapsed": false
   },
   "outputs": [
    {
     "data": {
      "text/html": [
       "<div>\n",
       "<table border=\"1\" class=\"dataframe\">\n",
       "  <thead>\n",
       "    <tr style=\"text-align: right;\">\n",
       "      <th></th>\n",
       "      <th>level_0</th>\n",
       "      <th>level_1</th>\n",
       "      <th>BBL</th>\n",
       "      <th>geometry</th>\n",
       "    </tr>\n",
       "  </thead>\n",
       "  <tbody>\n",
       "    <tr>\n",
       "      <th>864871</th>\n",
       "      <td>36119005500</td>\n",
       "      <td>573548</td>\n",
       "      <td>2056530067.0</td>\n",
       "      <td>POLYGON ((-73.81929087211066 40.89010449933943...</td>\n",
       "    </tr>\n",
       "    <tr>\n",
       "      <th>864872</th>\n",
       "      <td>36119005500</td>\n",
       "      <td>574300</td>\n",
       "      <td>2056530074.0</td>\n",
       "      <td>POLYGON ((-73.81879174801337 40.88997792167392...</td>\n",
       "    </tr>\n",
       "  </tbody>\n",
       "</table>\n",
       "</div>"
      ],
      "text/plain": [
       "            level_0  level_1           BBL  \\\n",
       "864871  36119005500   573548  2056530067.0   \n",
       "864872  36119005500   574300  2056530074.0   \n",
       "\n",
       "                                                 geometry  \n",
       "864871  POLYGON ((-73.81929087211066 40.89010449933943...  \n",
       "864872  POLYGON ((-73.81879174801337 40.88997792167392...  "
      ]
     },
     "execution_count": 22,
     "metadata": {},
     "output_type": "execute_result"
    }
   ],
   "source": [
    "bbl_ct.tail(2)"
   ]
  },
  {
   "cell_type": "code",
   "execution_count": 24,
   "metadata": {
    "collapsed": false
   },
   "outputs": [
    {
     "name": "stdout",
     "output_type": "stream",
     "text": [
      "2187\n",
      "4906\n"
     ]
    }
   ],
   "source": [
    "print len(bbl_ct.level_0.unique())\n",
    "print len(ct.GEOID.unique())"
   ]
  },
  {
   "cell_type": "code",
   "execution_count": 25,
   "metadata": {
    "collapsed": true
   },
   "outputs": [],
   "source": [
    "bbl_ct = bbl_ct.rename(columns={'level_0':'GEOID'})"
   ]
  },
  {
   "cell_type": "code",
   "execution_count": 26,
   "metadata": {
    "collapsed": false
   },
   "outputs": [
    {
     "data": {
      "text/html": [
       "<div>\n",
       "<table border=\"1\" class=\"dataframe\">\n",
       "  <thead>\n",
       "    <tr style=\"text-align: right;\">\n",
       "      <th></th>\n",
       "      <th>GEOID</th>\n",
       "      <th>level_1</th>\n",
       "      <th>BBL</th>\n",
       "      <th>geometry</th>\n",
       "    </tr>\n",
       "  </thead>\n",
       "  <tbody>\n",
       "    <tr>\n",
       "      <th>0</th>\n",
       "      <td>36005000100</td>\n",
       "      <td>503649</td>\n",
       "      <td>2026050037.0</td>\n",
       "      <td>POLYGON ((-73.89676470030579 40.7961948901257,...</td>\n",
       "    </tr>\n",
       "    <tr>\n",
       "      <th>1</th>\n",
       "      <td>36005000100</td>\n",
       "      <td>498939</td>\n",
       "      <td>2026050040.0</td>\n",
       "      <td>POLYGON ((-73.88883042913881 40.79798044396698...</td>\n",
       "    </tr>\n",
       "  </tbody>\n",
       "</table>\n",
       "</div>"
      ],
      "text/plain": [
       "         GEOID  level_1           BBL  \\\n",
       "0  36005000100   503649  2026050037.0   \n",
       "1  36005000100   498939  2026050040.0   \n",
       "\n",
       "                                            geometry  \n",
       "0  POLYGON ((-73.89676470030579 40.7961948901257,...  \n",
       "1  POLYGON ((-73.88883042913881 40.79798044396698...  "
      ]
     },
     "execution_count": 26,
     "metadata": {},
     "output_type": "execute_result"
    }
   ],
   "source": [
    "bbl_ct.head(2)"
   ]
  },
  {
   "cell_type": "code",
   "execution_count": 27,
   "metadata": {
    "collapsed": false
   },
   "outputs": [],
   "source": [
    "bbl_ct = bbl_ct.drop(['geometry', 'level_1'],axis=1)"
   ]
  },
  {
   "cell_type": "code",
   "execution_count": 205,
   "metadata": {
    "collapsed": false
   },
   "outputs": [
    {
     "name": "stdout",
     "output_type": "stream",
     "text": [
      "float64\n",
      "float64\n"
     ]
    }
   ],
   "source": [
    "print bbl_ct.BBL.dtypes\n",
    "print p.BBL.dtypes"
   ]
  },
  {
   "cell_type": "code",
   "execution_count": 28,
   "metadata": {
    "collapsed": true
   },
   "outputs": [],
   "source": [
    "pluto_ct = pd.merge(p, bbl_ct, on='BBL')"
   ]
  },
  {
   "cell_type": "code",
   "execution_count": 29,
   "metadata": {
    "collapsed": false
   },
   "outputs": [
    {
     "name": "stdout",
     "output_type": "stream",
     "text": [
      "857348\n",
      "857348\n",
      "857513\n"
     ]
    }
   ],
   "source": [
    "print len(pluto_ct.BBL.unique())\n",
    "print len(bbl_ct.BBL.unique())\n",
    "print len(p.BBL.unique())"
   ]
  },
  {
   "cell_type": "code",
   "execution_count": 30,
   "metadata": {
    "collapsed": false
   },
   "outputs": [],
   "source": [
    "pluto_ct = pluto_ct.drop('LandUse',axis=1)\n",
    "pluto_ct = pluto_ct[pluto_ct['YearBuilt']>0]\n",
    "pluto_ct = pluto_ct.drop('geometry',axis=1)"
   ]
  },
  {
   "cell_type": "code",
   "execution_count": 31,
   "metadata": {
    "collapsed": true
   },
   "outputs": [],
   "source": [
    "pluto_ct.to_csv('../data/ct_bbl.csv')"
   ]
  },
  {
   "cell_type": "code",
   "execution_count": 33,
   "metadata": {
    "collapsed": false
   },
   "outputs": [
    {
     "data": {
      "text/html": [
       "<div>\n",
       "<table border=\"1\" class=\"dataframe\">\n",
       "  <thead>\n",
       "    <tr style=\"text-align: right;\">\n",
       "      <th></th>\n",
       "      <th>BBL</th>\n",
       "      <th>AssessTot</th>\n",
       "      <th>BldgArea</th>\n",
       "      <th>BldgClass</th>\n",
       "      <th>BldgDepth</th>\n",
       "      <th>BldgFront</th>\n",
       "      <th>ComArea</th>\n",
       "      <th>FactryArea</th>\n",
       "      <th>GarageArea</th>\n",
       "      <th>NumBldgs</th>\n",
       "      <th>NumFloors</th>\n",
       "      <th>OfficeArea</th>\n",
       "      <th>OtherArea</th>\n",
       "      <th>StrgeArea</th>\n",
       "      <th>StrgeArea</th>\n",
       "      <th>YearBuilt</th>\n",
       "      <th>GEOID</th>\n",
       "    </tr>\n",
       "  </thead>\n",
       "  <tbody>\n",
       "    <tr>\n",
       "      <th>0</th>\n",
       "      <td>5007470028.0</td>\n",
       "      <td>23400.0</td>\n",
       "      <td>1488</td>\n",
       "      <td>B2</td>\n",
       "      <td>62.0</td>\n",
       "      <td>24.0</td>\n",
       "      <td>0</td>\n",
       "      <td>0</td>\n",
       "      <td>0</td>\n",
       "      <td>1</td>\n",
       "      <td>1.0</td>\n",
       "      <td>0</td>\n",
       "      <td>0</td>\n",
       "      <td>0</td>\n",
       "      <td>0</td>\n",
       "      <td>1960</td>\n",
       "      <td>36085018901</td>\n",
       "    </tr>\n",
       "    <tr>\n",
       "      <th>1</th>\n",
       "      <td>5007130017.0</td>\n",
       "      <td>22602.0</td>\n",
       "      <td>1316</td>\n",
       "      <td>A1</td>\n",
       "      <td>27.0</td>\n",
       "      <td>17.0</td>\n",
       "      <td>0</td>\n",
       "      <td>0</td>\n",
       "      <td>0</td>\n",
       "      <td>2</td>\n",
       "      <td>2.5</td>\n",
       "      <td>0</td>\n",
       "      <td>0</td>\n",
       "      <td>0</td>\n",
       "      <td>0</td>\n",
       "      <td>1920</td>\n",
       "      <td>36085018701</td>\n",
       "    </tr>\n",
       "  </tbody>\n",
       "</table>\n",
       "</div>"
      ],
      "text/plain": [
       "            BBL  AssessTot  BldgArea BldgClass  BldgDepth  BldgFront  ComArea  \\\n",
       "0  5007470028.0    23400.0      1488        B2       62.0       24.0        0   \n",
       "1  5007130017.0    22602.0      1316        A1       27.0       17.0        0   \n",
       "\n",
       "   FactryArea  GarageArea  NumBldgs  NumFloors  OfficeArea  OtherArea  \\\n",
       "0           0           0         1        1.0           0          0   \n",
       "1           0           0         2        2.5           0          0   \n",
       "\n",
       "   StrgeArea  StrgeArea  YearBuilt        GEOID  \n",
       "0          0          0       1960  36085018901  \n",
       "1          0          0       1920  36085018701  "
      ]
     },
     "execution_count": 33,
     "metadata": {},
     "output_type": "execute_result"
    }
   ],
   "source": [
    "pluto_ct = pluto_ct.reset_index()\n",
    "pluto_ct= pluto_ct.drop('index',axis=1)\n",
    "pluto_ct.head(2)"
   ]
  },
  {
   "cell_type": "code",
   "execution_count": 34,
   "metadata": {
    "collapsed": true
   },
   "outputs": [],
   "source": [
    "pluto_ct['BldgAge'] = 2017-pluto_ct['YearBuilt']\n",
    "pluto_ct = pluto_ct.drop('YearBuilt',axis=1)"
   ]
  },
  {
   "cell_type": "code",
   "execution_count": 35,
   "metadata": {
    "collapsed": false
   },
   "outputs": [],
   "source": [
    "avg = pd.DataFrame(pluto_ct[['BldgAge','NumFloors','AssessTot','BldgArea','BldgDepth','BldgFront','ComArea',\\\n",
    "                           'FactryArea','GarageArea','NumBldgs',\\\n",
    "       'OfficeArea','OtherArea','StrgeArea']].groupby(pluto_ct['GEOID']).mean())"
   ]
  },
  {
   "cell_type": "code",
   "execution_count": 36,
   "metadata": {
    "collapsed": true
   },
   "outputs": [],
   "source": [
    "avg = avg.reset_index()"
   ]
  },
  {
   "cell_type": "code",
   "execution_count": 37,
   "metadata": {
    "collapsed": false
   },
   "outputs": [
    {
     "name": "stdout",
     "output_type": "stream",
     "text": [
      "2180\n"
     ]
    },
    {
     "data": {
      "text/html": [
       "<div>\n",
       "<table border=\"1\" class=\"dataframe\">\n",
       "  <thead>\n",
       "    <tr style=\"text-align: right;\">\n",
       "      <th></th>\n",
       "      <th>GEOID</th>\n",
       "      <th>BldgAge</th>\n",
       "      <th>NumFloors</th>\n",
       "      <th>AssessTot</th>\n",
       "      <th>BldgArea</th>\n",
       "      <th>BldgDepth</th>\n",
       "      <th>BldgFront</th>\n",
       "      <th>ComArea</th>\n",
       "      <th>FactryArea</th>\n",
       "      <th>GarageArea</th>\n",
       "      <th>NumBldgs</th>\n",
       "      <th>OfficeArea</th>\n",
       "      <th>OtherArea</th>\n",
       "      <th>StrgeArea</th>\n",
       "      <th>StrgeArea</th>\n",
       "    </tr>\n",
       "  </thead>\n",
       "  <tbody>\n",
       "    <tr>\n",
       "      <th>0</th>\n",
       "      <td>36005000100</td>\n",
       "      <td>84.000000</td>\n",
       "      <td>6.00000</td>\n",
       "      <td>4.743675e+08</td>\n",
       "      <td>5.502107e+06</td>\n",
       "      <td>0.000000</td>\n",
       "      <td>0.000000</td>\n",
       "      <td>5.502107e+06</td>\n",
       "      <td>0.000000</td>\n",
       "      <td>0.000000</td>\n",
       "      <td>167.000000</td>\n",
       "      <td>0.000000</td>\n",
       "      <td>5.502107e+06</td>\n",
       "      <td>0.000000</td>\n",
       "      <td>0.000000</td>\n",
       "    </tr>\n",
       "    <tr>\n",
       "      <th>1</th>\n",
       "      <td>36005000200</td>\n",
       "      <td>65.569918</td>\n",
       "      <td>2.00765</td>\n",
       "      <td>2.326738e+04</td>\n",
       "      <td>2.008622e+03</td>\n",
       "      <td>43.002256</td>\n",
       "      <td>21.678966</td>\n",
       "      <td>1.139918e+02</td>\n",
       "      <td>26.983549</td>\n",
       "      <td>14.090482</td>\n",
       "      <td>1.177438</td>\n",
       "      <td>1.645123</td>\n",
       "      <td>4.275206e+01</td>\n",
       "      <td>4.301998</td>\n",
       "      <td>4.301998</td>\n",
       "    </tr>\n",
       "  </tbody>\n",
       "</table>\n",
       "</div>"
      ],
      "text/plain": [
       "         GEOID    BldgAge  NumFloors     AssessTot      BldgArea  BldgDepth  \\\n",
       "0  36005000100  84.000000    6.00000  4.743675e+08  5.502107e+06   0.000000   \n",
       "1  36005000200  65.569918    2.00765  2.326738e+04  2.008622e+03  43.002256   \n",
       "\n",
       "   BldgFront       ComArea  FactryArea  GarageArea    NumBldgs  OfficeArea  \\\n",
       "0   0.000000  5.502107e+06    0.000000    0.000000  167.000000    0.000000   \n",
       "1  21.678966  1.139918e+02   26.983549   14.090482    1.177438    1.645123   \n",
       "\n",
       "      OtherArea  StrgeArea  StrgeArea  \n",
       "0  5.502107e+06   0.000000   0.000000  \n",
       "1  4.275206e+01   4.301998   4.301998  "
      ]
     },
     "execution_count": 37,
     "metadata": {},
     "output_type": "execute_result"
    }
   ],
   "source": [
    "avg = avg.drop('index',axis=1)\n",
    "print len(avg.GEOID.unique())\n",
    "avg.head(2)"
   ]
  },
  {
   "cell_type": "code",
   "execution_count": 38,
   "metadata": {
    "collapsed": false
   },
   "outputs": [],
   "source": [
    "avg.to_csv('../data/ct_bbl_avg.csv')"
   ]
  },
  {
   "cell_type": "markdown",
   "metadata": {},
   "source": [
    "#### import complaint data"
   ]
  },
  {
   "cell_type": "code",
   "execution_count": 39,
   "metadata": {
    "collapsed": false
   },
   "outputs": [
    {
     "name": "stderr",
     "output_type": "stream",
     "text": [
      "//anaconda/lib/python2.7/site-packages/IPython/core/interactiveshell.py:2723: DtypeWarning: Columns (8,17,40,43,44,45,47) have mixed types. Specify dtype option on import or set low_memory=False.\n",
      "  interactivity=interactivity, compiler=compiler, result=result)\n"
     ]
    }
   ],
   "source": [
    "c = pd.read_csv('/Users/kristikorsberg/Downloads/311_Service_Requests_from_2010_to_Present.csv')"
   ]
  },
  {
   "cell_type": "code",
   "execution_count": 40,
   "metadata": {
    "collapsed": false
   },
   "outputs": [
    {
     "data": {
      "text/html": [
       "<div>\n",
       "<table border=\"1\" class=\"dataframe\">\n",
       "  <thead>\n",
       "    <tr style=\"text-align: right;\">\n",
       "      <th></th>\n",
       "      <th>Unique Key</th>\n",
       "      <th>Created Date</th>\n",
       "      <th>Closed Date</th>\n",
       "      <th>Agency</th>\n",
       "      <th>Complaint Type</th>\n",
       "      <th>Descriptor</th>\n",
       "      <th>Incident Zip</th>\n",
       "      <th>X Coordinate (State Plane)</th>\n",
       "      <th>Y Coordinate (State Plane)</th>\n",
       "    </tr>\n",
       "  </thead>\n",
       "  <tbody>\n",
       "    <tr>\n",
       "      <th>0</th>\n",
       "      <td>35607069</td>\n",
       "      <td>03/02/2017 03:33:17 PM</td>\n",
       "      <td>03/12/2017 11:21:04 AM</td>\n",
       "      <td>HPD</td>\n",
       "      <td>FLOORING/STAIRS</td>\n",
       "      <td>FLOOR</td>\n",
       "      <td>11220</td>\n",
       "      <td>978923.0</td>\n",
       "      <td>172478.0</td>\n",
       "    </tr>\n",
       "    <tr>\n",
       "      <th>1</th>\n",
       "      <td>35597174</td>\n",
       "      <td>03/01/2017 05:10:34 PM</td>\n",
       "      <td>03/12/2017 09:40:02 AM</td>\n",
       "      <td>HPD</td>\n",
       "      <td>DOOR/WINDOW</td>\n",
       "      <td>DOOR</td>\n",
       "      <td>10467</td>\n",
       "      <td>1018715.0</td>\n",
       "      <td>258823.0</td>\n",
       "    </tr>\n",
       "  </tbody>\n",
       "</table>\n",
       "</div>"
      ],
      "text/plain": [
       "   Unique Key            Created Date             Closed Date Agency  \\\n",
       "0    35607069  03/02/2017 03:33:17 PM  03/12/2017 11:21:04 AM    HPD   \n",
       "1    35597174  03/01/2017 05:10:34 PM  03/12/2017 09:40:02 AM    HPD   \n",
       "\n",
       "    Complaint Type Descriptor Incident Zip  X Coordinate (State Plane)  \\\n",
       "0  FLOORING/STAIRS      FLOOR        11220                    978923.0   \n",
       "1      DOOR/WINDOW       DOOR        10467                   1018715.0   \n",
       "\n",
       "   Y Coordinate (State Plane)  \n",
       "0                    172478.0  \n",
       "1                    258823.0  "
      ]
     },
     "execution_count": 40,
     "metadata": {},
     "output_type": "execute_result"
    }
   ],
   "source": [
    "c = c[['Unique Key', 'Created Date', 'Closed Date', 'Agency', 'Complaint Type', 'Descriptor', 'Incident Zip', \\\n",
    "               'X Coordinate (State Plane)', 'Y Coordinate (State Plane)']]\n",
    "c = c.dropna()\n",
    "c.head(2)"
   ]
  },
  {
   "cell_type": "code",
   "execution_count": 43,
   "metadata": {
    "collapsed": false
   },
   "outputs": [],
   "source": [
    "geometry = [Point(xy) for xy in zip(c['X Coordinate (State Plane)'], c['Y Coordinate (State Plane)'])]\n",
    "c = c.drop(['X Coordinate (State Plane)', 'Y Coordinate (State Plane)'], axis=1)\n",
    "crs = {'init': 'epsg:2263'}\n",
    "c = gpd.GeoDataFrame(c, crs=crs, geometry=geometry)"
   ]
  },
  {
   "cell_type": "code",
   "execution_count": 47,
   "metadata": {
    "collapsed": false
   },
   "outputs": [
    {
     "name": "stdout",
     "output_type": "stream",
     "text": [
      "{'init': 'epsg:2263'}\n",
      "{'init': 'epsg:4326'}\n"
     ]
    }
   ],
   "source": [
    "print c.crs\n",
    "print ct.crs"
   ]
  },
  {
   "cell_type": "code",
   "execution_count": 48,
   "metadata": {
    "collapsed": true
   },
   "outputs": [],
   "source": [
    "ct = ct.to_crs({'init':'epsg:2263'})"
   ]
  },
  {
   "cell_type": "code",
   "execution_count": 50,
   "metadata": {
    "collapsed": false
   },
   "outputs": [
    {
     "name": "stdout",
     "output_type": "stream",
     "text": [
      "{'init': 'epsg:2263'}\n",
      "{'init': 'epsg:2263'}\n"
     ]
    }
   ],
   "source": [
    "print c.crs\n",
    "print ct.crs"
   ]
  },
  {
   "cell_type": "code",
   "execution_count": 51,
   "metadata": {
    "collapsed": true
   },
   "outputs": [],
   "source": [
    "#http://geoffboeing.com/2016/10/r-tree-spatial-index-python/\n",
    "precise_matches = {}\n",
    "spatial_index = c.sindex\n",
    "for i, GEOID in enumerate(ct.GEOID):\n",
    "    possible_matches_index = list(spatial_index.intersection(ct['geometry'][i].bounds))\n",
    "    possible_matches = c.iloc[possible_matches_index]\n",
    "    precise_matches[GEOID] = possible_matches[possible_matches.intersects(ct['geometry'][i])]"
   ]
  },
  {
   "cell_type": "code",
   "execution_count": 52,
   "metadata": {
    "collapsed": false
   },
   "outputs": [
    {
     "data": {
      "text/html": [
       "<div>\n",
       "<table border=\"1\" class=\"dataframe\">\n",
       "  <thead>\n",
       "    <tr style=\"text-align: right;\">\n",
       "      <th></th>\n",
       "      <th>level_0</th>\n",
       "      <th>level_1</th>\n",
       "      <th>Agency</th>\n",
       "      <th>Closed Date</th>\n",
       "      <th>Complaint Type</th>\n",
       "      <th>Created Date</th>\n",
       "      <th>Descriptor</th>\n",
       "      <th>Incident Zip</th>\n",
       "      <th>Unique Key</th>\n",
       "      <th>geometry</th>\n",
       "    </tr>\n",
       "  </thead>\n",
       "  <tbody>\n",
       "    <tr>\n",
       "      <th>0</th>\n",
       "      <td>36005000100</td>\n",
       "      <td>155852</td>\n",
       "      <td>DOHMH</td>\n",
       "      <td>04/07/2017 12:00:01 AM</td>\n",
       "      <td>Food Poisoning</td>\n",
       "      <td>03/29/2017 12:00:00 AM</td>\n",
       "      <td>1 or 2</td>\n",
       "      <td>11370</td>\n",
       "      <td>35817710.0</td>\n",
       "      <td>POINT (1016258 226737)</td>\n",
       "    </tr>\n",
       "    <tr>\n",
       "      <th>1</th>\n",
       "      <td>36005000100</td>\n",
       "      <td>183092</td>\n",
       "      <td>DOT</td>\n",
       "      <td>04/14/2017 12:42:42 PM</td>\n",
       "      <td>Sidewalk Condition</td>\n",
       "      <td>04/01/2017 12:21:09 PM</td>\n",
       "      <td>Sidewalk Collapsed</td>\n",
       "      <td>11370</td>\n",
       "      <td>35844184.0</td>\n",
       "      <td>POINT (1016332 228466)</td>\n",
       "    </tr>\n",
       "  </tbody>\n",
       "</table>\n",
       "</div>"
      ],
      "text/plain": [
       "       level_0  level_1 Agency             Closed Date      Complaint Type  \\\n",
       "0  36005000100   155852  DOHMH  04/07/2017 12:00:01 AM      Food Poisoning   \n",
       "1  36005000100   183092    DOT  04/14/2017 12:42:42 PM  Sidewalk Condition   \n",
       "\n",
       "             Created Date          Descriptor Incident Zip  Unique Key  \\\n",
       "0  03/29/2017 12:00:00 AM              1 or 2        11370  35817710.0   \n",
       "1  04/01/2017 12:21:09 PM  Sidewalk Collapsed        11370  35844184.0   \n",
       "\n",
       "                 geometry  \n",
       "0  POINT (1016258 226737)  \n",
       "1  POINT (1016332 228466)  "
      ]
     },
     "execution_count": 52,
     "metadata": {},
     "output_type": "execute_result"
    }
   ],
   "source": [
    "c_ct = pd.concat(precise_matches).reset_index()\n",
    "c_ct.head(2)"
   ]
  },
  {
   "cell_type": "code",
   "execution_count": 54,
   "metadata": {
    "collapsed": false
   },
   "outputs": [],
   "source": [
    "c_ct = c_ct.rename(columns={'level_0':'GEOID'})\n",
    "c_ct = c_ct.drop(['level_1', 'geometry'],axis=1)"
   ]
  },
  {
   "cell_type": "code",
   "execution_count": 55,
   "metadata": {
    "collapsed": false
   },
   "outputs": [
    {
     "data": {
      "text/html": [
       "<div>\n",
       "<table border=\"1\" class=\"dataframe\">\n",
       "  <thead>\n",
       "    <tr style=\"text-align: right;\">\n",
       "      <th></th>\n",
       "      <th>GEOID</th>\n",
       "      <th>Unique Key</th>\n",
       "    </tr>\n",
       "  </thead>\n",
       "  <tbody>\n",
       "    <tr>\n",
       "      <th>0</th>\n",
       "      <td>36005000100</td>\n",
       "      <td>5</td>\n",
       "    </tr>\n",
       "    <tr>\n",
       "      <th>1</th>\n",
       "      <td>36005000200</td>\n",
       "      <td>132</td>\n",
       "    </tr>\n",
       "  </tbody>\n",
       "</table>\n",
       "</div>"
      ],
      "text/plain": [
       "         GEOID  Unique Key\n",
       "0  36005000100           5\n",
       "1  36005000200         132"
      ]
     },
     "execution_count": 55,
     "metadata": {},
     "output_type": "execute_result"
    }
   ],
   "source": [
    "c_ct = pd.DataFrame(c_ct['Unique Key'].groupby(c_ct['GEOID']).count())\n",
    "c_ct = c_ct.reset_index()\n",
    "c_ct.head(2)"
   ]
  },
  {
   "cell_type": "code",
   "execution_count": 56,
   "metadata": {
    "collapsed": true
   },
   "outputs": [],
   "source": [
    "c_ct = c_ct.rename(columns={'Unique Key':'Complaint Count'})"
   ]
  },
  {
   "cell_type": "code",
   "execution_count": 57,
   "metadata": {
    "collapsed": false
   },
   "outputs": [
    {
     "name": "stdout",
     "output_type": "stream",
     "text": [
      "2180\n",
      "GEOID               0\n",
      "Complaint Count    20\n",
      "BldgAge             0\n",
      "NumFloors           0\n",
      "AssessTot           0\n",
      "BldgArea            0\n",
      "BldgDepth           0\n",
      "BldgFront           0\n",
      "ComArea             0\n",
      "FactryArea          0\n",
      "GarageArea          0\n",
      "NumBldgs            0\n",
      "OfficeArea          0\n",
      "OtherArea           0\n",
      "StrgeArea           0\n",
      "StrgeArea           0\n",
      "dtype: int64\n"
     ]
    }
   ],
   "source": [
    "bbl_c_ct = pd.merge(c_ct, avg, on='GEOID', how='right')\n",
    "print len(bbl_c_ct.GEOID.unique())\n",
    "print bbl_c_ct.isnull().sum()"
   ]
  },
  {
   "cell_type": "code",
   "execution_count": 58,
   "metadata": {
    "collapsed": true
   },
   "outputs": [],
   "source": [
    "bbl_c_ct = bbl_c_ct.replace(np.nan,0)"
   ]
  },
  {
   "cell_type": "markdown",
   "metadata": {},
   "source": [
    "#### import population data from census"
   ]
  },
  {
   "cell_type": "code",
   "execution_count": 59,
   "metadata": {
    "collapsed": true
   },
   "outputs": [],
   "source": [
    "pop = pd.read_csv('../data/ACS_15_5YR_B01003/ACS_15_5YR_B01003_with_ann.csv', header=1)"
   ]
  },
  {
   "cell_type": "code",
   "execution_count": 60,
   "metadata": {
    "collapsed": false
   },
   "outputs": [
    {
     "data": {
      "text/html": [
       "<div>\n",
       "<table border=\"1\" class=\"dataframe\">\n",
       "  <thead>\n",
       "    <tr style=\"text-align: right;\">\n",
       "      <th></th>\n",
       "      <th>Id</th>\n",
       "      <th>Id2</th>\n",
       "      <th>Geography</th>\n",
       "      <th>Estimate; Total</th>\n",
       "      <th>Margin of Error; Total</th>\n",
       "    </tr>\n",
       "  </thead>\n",
       "  <tbody>\n",
       "    <tr>\n",
       "      <th>0</th>\n",
       "      <td>1400000US36005000100</td>\n",
       "      <td>36005000100</td>\n",
       "      <td>Census Tract 1, Bronx County, New York</td>\n",
       "      <td>7703</td>\n",
       "      <td>416</td>\n",
       "    </tr>\n",
       "    <tr>\n",
       "      <th>1</th>\n",
       "      <td>1400000US36005000200</td>\n",
       "      <td>36005000200</td>\n",
       "      <td>Census Tract 2, Bronx County, New York</td>\n",
       "      <td>5403</td>\n",
       "      <td>632</td>\n",
       "    </tr>\n",
       "  </tbody>\n",
       "</table>\n",
       "</div>"
      ],
      "text/plain": [
       "                     Id          Id2                               Geography  \\\n",
       "0  1400000US36005000100  36005000100  Census Tract 1, Bronx County, New York   \n",
       "1  1400000US36005000200  36005000200  Census Tract 2, Bronx County, New York   \n",
       "\n",
       "   Estimate; Total  Margin of Error; Total  \n",
       "0             7703                     416  \n",
       "1             5403                     632  "
      ]
     },
     "execution_count": 60,
     "metadata": {},
     "output_type": "execute_result"
    }
   ],
   "source": [
    "pop.head(2)"
   ]
  },
  {
   "cell_type": "code",
   "execution_count": 61,
   "metadata": {
    "collapsed": false
   },
   "outputs": [
    {
     "name": "stdout",
     "output_type": "stream",
     "text": [
      "2167\n"
     ]
    }
   ],
   "source": [
    "print len(pop.Id2.unique())"
   ]
  },
  {
   "cell_type": "code",
   "execution_count": 62,
   "metadata": {
    "collapsed": false
   },
   "outputs": [
    {
     "data": {
      "text/html": [
       "<div>\n",
       "<table border=\"1\" class=\"dataframe\">\n",
       "  <thead>\n",
       "    <tr style=\"text-align: right;\">\n",
       "      <th></th>\n",
       "      <th>GEOID</th>\n",
       "      <th>Population</th>\n",
       "    </tr>\n",
       "  </thead>\n",
       "  <tbody>\n",
       "    <tr>\n",
       "      <th>0</th>\n",
       "      <td>36005000100</td>\n",
       "      <td>7703</td>\n",
       "    </tr>\n",
       "    <tr>\n",
       "      <th>1</th>\n",
       "      <td>36005000200</td>\n",
       "      <td>5403</td>\n",
       "    </tr>\n",
       "  </tbody>\n",
       "</table>\n",
       "</div>"
      ],
      "text/plain": [
       "         GEOID  Population\n",
       "0  36005000100        7703\n",
       "1  36005000200        5403"
      ]
     },
     "execution_count": 62,
     "metadata": {},
     "output_type": "execute_result"
    }
   ],
   "source": [
    "pop = pop.drop(['Id', 'Geography', 'Margin of Error; Total'],axis=1)\n",
    "pop = pop.rename(columns={'Id2':'GEOID','Estimate; Total':'Population'})\n",
    "pop.head(2)"
   ]
  },
  {
   "cell_type": "code",
   "execution_count": 65,
   "metadata": {
    "collapsed": false
   },
   "outputs": [
    {
     "name": "stdout",
     "output_type": "stream",
     "text": [
      "int64\n",
      "object\n"
     ]
    }
   ],
   "source": [
    "print pop.GEOID.dtypes\n",
    "print bbl_c_ct.GEOID.dtypes"
   ]
  },
  {
   "cell_type": "code",
   "execution_count": 66,
   "metadata": {
    "collapsed": true
   },
   "outputs": [],
   "source": [
    "bbl_c_ct.GEOID = bbl_c_ct.GEOID.astype(int)"
   ]
  },
  {
   "cell_type": "code",
   "execution_count": 67,
   "metadata": {
    "collapsed": false
   },
   "outputs": [
    {
     "name": "stdout",
     "output_type": "stream",
     "text": [
      "2180\n",
      "GEOID               0\n",
      "Complaint Count     0\n",
      "BldgAge             0\n",
      "NumFloors           0\n",
      "AssessTot           0\n",
      "BldgArea            0\n",
      "BldgDepth           0\n",
      "BldgFront           0\n",
      "ComArea             0\n",
      "FactryArea          0\n",
      "GarageArea          0\n",
      "NumBldgs            0\n",
      "OfficeArea          0\n",
      "OtherArea           0\n",
      "StrgeArea           0\n",
      "StrgeArea           0\n",
      "Population         21\n",
      "dtype: int64\n"
     ]
    }
   ],
   "source": [
    "bbl_c_ct_pop = pd.merge(bbl_c_ct, pop, on='GEOID', how='left')\n",
    "print len(bbl_c_ct_pop.GEOID.unique())\n",
    "print bbl_c_ct_pop.isnull().sum()"
   ]
  },
  {
   "cell_type": "code",
   "execution_count": 68,
   "metadata": {
    "collapsed": true
   },
   "outputs": [],
   "source": [
    "bbl_c_ct_pop = bbl_c_ct_pop.replace(np.nan, 0)"
   ]
  },
  {
   "cell_type": "code",
   "execution_count": 69,
   "metadata": {
    "collapsed": false
   },
   "outputs": [
    {
     "data": {
      "text/html": [
       "<div>\n",
       "<table border=\"1\" class=\"dataframe\">\n",
       "  <thead>\n",
       "    <tr style=\"text-align: right;\">\n",
       "      <th></th>\n",
       "      <th>GEOID</th>\n",
       "      <th>Complaint Count</th>\n",
       "      <th>BldgAge</th>\n",
       "      <th>NumFloors</th>\n",
       "      <th>AssessTot</th>\n",
       "      <th>BldgArea</th>\n",
       "      <th>BldgDepth</th>\n",
       "      <th>BldgFront</th>\n",
       "      <th>ComArea</th>\n",
       "      <th>FactryArea</th>\n",
       "      <th>GarageArea</th>\n",
       "      <th>NumBldgs</th>\n",
       "      <th>OfficeArea</th>\n",
       "      <th>OtherArea</th>\n",
       "      <th>StrgeArea</th>\n",
       "      <th>StrgeArea</th>\n",
       "      <th>Population</th>\n",
       "    </tr>\n",
       "  </thead>\n",
       "  <tbody>\n",
       "    <tr>\n",
       "      <th>0</th>\n",
       "      <td>36005000100</td>\n",
       "      <td>5.0</td>\n",
       "      <td>84.000000</td>\n",
       "      <td>6.000000</td>\n",
       "      <td>4.743675e+08</td>\n",
       "      <td>5.502107e+06</td>\n",
       "      <td>0.000000</td>\n",
       "      <td>0.000000</td>\n",
       "      <td>5.502107e+06</td>\n",
       "      <td>0.000000</td>\n",
       "      <td>0.000000</td>\n",
       "      <td>167.000000</td>\n",
       "      <td>0.000000</td>\n",
       "      <td>5.502107e+06</td>\n",
       "      <td>0.000000</td>\n",
       "      <td>0.000000</td>\n",
       "      <td>7703.0</td>\n",
       "    </tr>\n",
       "    <tr>\n",
       "      <th>1</th>\n",
       "      <td>36005000200</td>\n",
       "      <td>132.0</td>\n",
       "      <td>65.569918</td>\n",
       "      <td>2.007650</td>\n",
       "      <td>2.326738e+04</td>\n",
       "      <td>2.008622e+03</td>\n",
       "      <td>43.002256</td>\n",
       "      <td>21.678966</td>\n",
       "      <td>1.139918e+02</td>\n",
       "      <td>26.983549</td>\n",
       "      <td>14.090482</td>\n",
       "      <td>1.177438</td>\n",
       "      <td>1.645123</td>\n",
       "      <td>4.275206e+01</td>\n",
       "      <td>4.301998</td>\n",
       "      <td>4.301998</td>\n",
       "      <td>5403.0</td>\n",
       "    </tr>\n",
       "    <tr>\n",
       "      <th>2</th>\n",
       "      <td>36005000400</td>\n",
       "      <td>128.0</td>\n",
       "      <td>56.640180</td>\n",
       "      <td>1.994648</td>\n",
       "      <td>6.383420e+04</td>\n",
       "      <td>3.534175e+03</td>\n",
       "      <td>43.732414</td>\n",
       "      <td>22.232864</td>\n",
       "      <td>2.712114e+02</td>\n",
       "      <td>0.000000</td>\n",
       "      <td>22.709145</td>\n",
       "      <td>1.746627</td>\n",
       "      <td>12.632684</td>\n",
       "      <td>1.879760e+02</td>\n",
       "      <td>12.143928</td>\n",
       "      <td>12.143928</td>\n",
       "      <td>5915.0</td>\n",
       "    </tr>\n",
       "    <tr>\n",
       "      <th>3</th>\n",
       "      <td>36005001600</td>\n",
       "      <td>108.0</td>\n",
       "      <td>57.886628</td>\n",
       "      <td>2.248314</td>\n",
       "      <td>3.560243e+05</td>\n",
       "      <td>1.091054e+04</td>\n",
       "      <td>47.917064</td>\n",
       "      <td>27.443924</td>\n",
       "      <td>4.594878e+03</td>\n",
       "      <td>0.000000</td>\n",
       "      <td>28.023256</td>\n",
       "      <td>1.215116</td>\n",
       "      <td>854.316860</td>\n",
       "      <td>3.650875e+03</td>\n",
       "      <td>0.203488</td>\n",
       "      <td>0.203488</td>\n",
       "      <td>5879.0</td>\n",
       "    </tr>\n",
       "    <tr>\n",
       "      <th>4</th>\n",
       "      <td>36005001900</td>\n",
       "      <td>196.0</td>\n",
       "      <td>85.969863</td>\n",
       "      <td>2.319178</td>\n",
       "      <td>7.526278e+05</td>\n",
       "      <td>2.133805e+04</td>\n",
       "      <td>94.043507</td>\n",
       "      <td>63.055233</td>\n",
       "      <td>1.836729e+04</td>\n",
       "      <td>9525.504110</td>\n",
       "      <td>1401.117808</td>\n",
       "      <td>1.295890</td>\n",
       "      <td>1287.221918</td>\n",
       "      <td>5.293890e+02</td>\n",
       "      <td>5195.495890</td>\n",
       "      <td>5195.495890</td>\n",
       "      <td>2591.0</td>\n",
       "    </tr>\n",
       "  </tbody>\n",
       "</table>\n",
       "</div>"
      ],
      "text/plain": [
       "         GEOID  Complaint Count    BldgAge  NumFloors     AssessTot  \\\n",
       "0  36005000100              5.0  84.000000   6.000000  4.743675e+08   \n",
       "1  36005000200            132.0  65.569918   2.007650  2.326738e+04   \n",
       "2  36005000400            128.0  56.640180   1.994648  6.383420e+04   \n",
       "3  36005001600            108.0  57.886628   2.248314  3.560243e+05   \n",
       "4  36005001900            196.0  85.969863   2.319178  7.526278e+05   \n",
       "\n",
       "       BldgArea  BldgDepth  BldgFront       ComArea   FactryArea   GarageArea  \\\n",
       "0  5.502107e+06   0.000000   0.000000  5.502107e+06     0.000000     0.000000   \n",
       "1  2.008622e+03  43.002256  21.678966  1.139918e+02    26.983549    14.090482   \n",
       "2  3.534175e+03  43.732414  22.232864  2.712114e+02     0.000000    22.709145   \n",
       "3  1.091054e+04  47.917064  27.443924  4.594878e+03     0.000000    28.023256   \n",
       "4  2.133805e+04  94.043507  63.055233  1.836729e+04  9525.504110  1401.117808   \n",
       "\n",
       "     NumBldgs   OfficeArea     OtherArea    StrgeArea    StrgeArea  Population  \n",
       "0  167.000000     0.000000  5.502107e+06     0.000000     0.000000      7703.0  \n",
       "1    1.177438     1.645123  4.275206e+01     4.301998     4.301998      5403.0  \n",
       "2    1.746627    12.632684  1.879760e+02    12.143928    12.143928      5915.0  \n",
       "3    1.215116   854.316860  3.650875e+03     0.203488     0.203488      5879.0  \n",
       "4    1.295890  1287.221918  5.293890e+02  5195.495890  5195.495890      2591.0  "
      ]
     },
     "execution_count": 69,
     "metadata": {},
     "output_type": "execute_result"
    }
   ],
   "source": [
    "bbl_c_ct_pop.head()"
   ]
  },
  {
   "cell_type": "code",
   "execution_count": 70,
   "metadata": {
    "collapsed": true
   },
   "outputs": [],
   "source": [
    "bbl_c_ct_pop.to_csv('../data/bbl_c_ct_pop.csv')"
   ]
  }
 ],
 "metadata": {
  "kernelspec": {
   "display_name": "Python 2",
   "language": "python",
   "name": "python2"
  },
  "language_info": {
   "codemirror_mode": {
    "name": "ipython",
    "version": 2
   },
   "file_extension": ".py",
   "mimetype": "text/x-python",
   "name": "python",
   "nbconvert_exporter": "python",
   "pygments_lexer": "ipython2",
   "version": "2.7.12"
  }
 },
 "nbformat": 4,
 "nbformat_minor": 1
}
